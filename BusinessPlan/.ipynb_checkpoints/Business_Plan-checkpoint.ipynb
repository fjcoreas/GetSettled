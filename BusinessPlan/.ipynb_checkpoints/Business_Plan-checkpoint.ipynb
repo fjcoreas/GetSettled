{
 "cells": [
  {
   "cell_type": "code",
   "execution_count": 26,
   "metadata": {},
   "outputs": [],
   "source": [
    "import pandas as pd\n",
    "import matplotlib.pyplot as plt\n",
    "%matplotlib inline"
   ]
  },
  {
   "cell_type": "code",
   "execution_count": 3,
   "metadata": {},
   "outputs": [
    {
     "data": {
      "text/html": [
       "<div>\n",
       "<style scoped>\n",
       "    .dataframe tbody tr th:only-of-type {\n",
       "        vertical-align: middle;\n",
       "    }\n",
       "\n",
       "    .dataframe tbody tr th {\n",
       "        vertical-align: top;\n",
       "    }\n",
       "\n",
       "    .dataframe thead th {\n",
       "        text-align: right;\n",
       "    }\n",
       "</style>\n",
       "<table border=\"1\" class=\"dataframe\">\n",
       "  <thead>\n",
       "    <tr style=\"text-align: right;\">\n",
       "      <th></th>\n",
       "      <th>university</th>\n",
       "      <th>total</th>\n",
       "      <th>year</th>\n",
       "    </tr>\n",
       "  </thead>\n",
       "  <tbody>\n",
       "    <tr>\n",
       "      <th>0</th>\n",
       "      <td>Sistema universitario público</td>\n",
       "      <td>149.449</td>\n",
       "      <td>2017</td>\n",
       "    </tr>\n",
       "    <tr>\n",
       "      <th>1</th>\n",
       "      <td>Universidad de Barcelona</td>\n",
       "      <td>45.372</td>\n",
       "      <td>2017</td>\n",
       "    </tr>\n",
       "    <tr>\n",
       "      <th>2</th>\n",
       "      <td>Universidad Autónoma de Barcelona</td>\n",
       "      <td>31.848</td>\n",
       "      <td>2017</td>\n",
       "    </tr>\n",
       "    <tr>\n",
       "      <th>3</th>\n",
       "      <td>Universidad Politécnica de Cataluña</td>\n",
       "      <td>23.575</td>\n",
       "      <td>2017</td>\n",
       "    </tr>\n",
       "    <tr>\n",
       "      <th>4</th>\n",
       "      <td>Universidad Pompeu Fabra</td>\n",
       "      <td>14.851</td>\n",
       "      <td>2017</td>\n",
       "    </tr>\n",
       "  </tbody>\n",
       "</table>\n",
       "</div>"
      ],
      "text/plain": [
       "                            university    total  year\n",
       "0        Sistema universitario público  149.449  2017\n",
       "1             Universidad de Barcelona   45.372  2017\n",
       "2    Universidad Autónoma de Barcelona   31.848  2017\n",
       "3  Universidad Politécnica de Cataluña   23.575  2017\n",
       "4             Universidad Pompeu Fabra   14.851  2017"
      ]
     },
     "execution_count": 3,
     "metadata": {},
     "output_type": "execute_result"
    }
   ],
   "source": [
    "enrollment_total = pd.read_csv('Data/university_enrollment/total_2013-2017.csv', \n",
    "                               header=1, \n",
    "                               names = ['university', 'total', 'year'])\n",
    "enrollment_total.head()"
   ]
  },
  {
   "cell_type": "code",
   "execution_count": 7,
   "metadata": {},
   "outputs": [
    {
     "data": {
      "text/html": [
       "<div>\n",
       "<style scoped>\n",
       "    .dataframe tbody tr th:only-of-type {\n",
       "        vertical-align: middle;\n",
       "    }\n",
       "\n",
       "    .dataframe tbody tr th {\n",
       "        vertical-align: top;\n",
       "    }\n",
       "\n",
       "    .dataframe thead th {\n",
       "        text-align: right;\n",
       "    }\n",
       "</style>\n",
       "<table border=\"1\" class=\"dataframe\">\n",
       "  <thead>\n",
       "    <tr style=\"text-align: right;\">\n",
       "      <th></th>\n",
       "      <th>Any</th>\n",
       "      <th>Codi_Districte</th>\n",
       "      <th>Nom_Districte</th>\n",
       "      <th>Codi_Barri</th>\n",
       "      <th>Nom_Barri</th>\n",
       "      <th>Sexe</th>\n",
       "      <th>Nacionalitat</th>\n",
       "      <th>Edat_quinquennal</th>\n",
       "      <th>Nombre</th>\n",
       "    </tr>\n",
       "  </thead>\n",
       "  <tbody>\n",
       "    <tr>\n",
       "      <th>0</th>\n",
       "      <td>2018</td>\n",
       "      <td>1</td>\n",
       "      <td>Ciutat Vella</td>\n",
       "      <td>1</td>\n",
       "      <td>el Raval</td>\n",
       "      <td>Home</td>\n",
       "      <td>Espanyola</td>\n",
       "      <td>0-4 anys</td>\n",
       "      <td>436</td>\n",
       "    </tr>\n",
       "    <tr>\n",
       "      <th>1</th>\n",
       "      <td>2018</td>\n",
       "      <td>1</td>\n",
       "      <td>Ciutat Vella</td>\n",
       "      <td>2</td>\n",
       "      <td>el Barri Gòtic</td>\n",
       "      <td>Home</td>\n",
       "      <td>Espanyola</td>\n",
       "      <td>0-4 anys</td>\n",
       "      <td>117</td>\n",
       "    </tr>\n",
       "    <tr>\n",
       "      <th>2</th>\n",
       "      <td>2018</td>\n",
       "      <td>1</td>\n",
       "      <td>Ciutat Vella</td>\n",
       "      <td>3</td>\n",
       "      <td>la Barceloneta</td>\n",
       "      <td>Home</td>\n",
       "      <td>Espanyola</td>\n",
       "      <td>0-4 anys</td>\n",
       "      <td>143</td>\n",
       "    </tr>\n",
       "    <tr>\n",
       "      <th>3</th>\n",
       "      <td>2018</td>\n",
       "      <td>1</td>\n",
       "      <td>Ciutat Vella</td>\n",
       "      <td>4</td>\n",
       "      <td>Sant Pere, Santa Caterina i la Ribera</td>\n",
       "      <td>Home</td>\n",
       "      <td>Espanyola</td>\n",
       "      <td>0-4 anys</td>\n",
       "      <td>247</td>\n",
       "    </tr>\n",
       "    <tr>\n",
       "      <th>4</th>\n",
       "      <td>2018</td>\n",
       "      <td>2</td>\n",
       "      <td>Eixample</td>\n",
       "      <td>5</td>\n",
       "      <td>el Fort Pienc</td>\n",
       "      <td>Home</td>\n",
       "      <td>Espanyola</td>\n",
       "      <td>0-4 anys</td>\n",
       "      <td>464</td>\n",
       "    </tr>\n",
       "  </tbody>\n",
       "</table>\n",
       "</div>"
      ],
      "text/plain": [
       "    Any  Codi_Districte Nom_Districte  Codi_Barri  \\\n",
       "0  2018               1  Ciutat Vella           1   \n",
       "1  2018               1  Ciutat Vella           2   \n",
       "2  2018               1  Ciutat Vella           3   \n",
       "3  2018               1  Ciutat Vella           4   \n",
       "4  2018               2      Eixample           5   \n",
       "\n",
       "                               Nom_Barri  Sexe Nacionalitat Edat_quinquennal  \\\n",
       "0                               el Raval  Home    Espanyola         0-4 anys   \n",
       "1                         el Barri Gòtic  Home    Espanyola         0-4 anys   \n",
       "2                         la Barceloneta  Home    Espanyola         0-4 anys   \n",
       "3  Sant Pere, Santa Caterina i la Ribera  Home    Espanyola         0-4 anys   \n",
       "4                          el Fort Pienc  Home    Espanyola         0-4 anys   \n",
       "\n",
       "   Nombre  \n",
       "0     436  \n",
       "1     117  \n",
       "2     143  \n",
       "3     247  \n",
       "4     464  "
      ]
     },
     "execution_count": 7,
     "metadata": {},
     "output_type": "execute_result"
    }
   ],
   "source": [
    "population_total = pd.read_csv('Data/population/padron_2014_2018.csv')\n",
    "population_total.head()"
   ]
  },
  {
   "cell_type": "code",
   "execution_count": 39,
   "metadata": {},
   "outputs": [],
   "source": [
    "foregein_population = population_total.loc[population_total['Nacionalitat'] \n",
    "                                           == 'Estrangera'].groupby(['Any', 'Edat_quinquennal'])['Nombre'].sum()"
   ]
  },
  {
   "cell_type": "code",
   "execution_count": 51,
   "metadata": {},
   "outputs": [
    {
     "data": {
      "text/plain": [
       "Any   Edat_quinquennal\n",
       "2014  0-4 anys            13870\n",
       "      10-14 anys           8058\n",
       "      15-19 anys           9617\n",
       "      20-24 anys          19910\n",
       "      25-29 anys          39403\n",
       "      30-34 anys          49228\n",
       "      35-39 anys          40612\n",
       "      40-44 anys          27562\n",
       "      45-49 anys          18493\n",
       "      5-9 anys             8730\n",
       "      50-54 anys          12487\n",
       "      55-59 anys           7882\n",
       "      60-64 anys           4871\n",
       "      65-69 anys           3120\n",
       "      70-74 anys           1941\n",
       "      75-79 anys           1238\n",
       "      80-84 anys            685\n",
       "      85-89 anys            398\n",
       "      90-94 anys            152\n",
       "      95 anys i més          50\n",
       "2015  0-4 anys            13292\n",
       "      10-14 anys           7718\n",
       "      15-19 anys           9370\n",
       "      20-24 anys          19928\n",
       "      25-29 anys          37909\n",
       "      30-34 anys          45863\n",
       "      35-39 anys          39913\n",
       "      40-44 anys          27315\n",
       "      45-49 anys          18673\n",
       "      5-9 anys             8913\n",
       "                          ...  \n",
       "2017  55-59 anys           9156\n",
       "      60-64 anys           6027\n",
       "      65-69 anys           3980\n",
       "      70-74 anys           2336\n",
       "      75-79 anys           1486\n",
       "      80-84 anys            834\n",
       "      85-89 anys            435\n",
       "      90-94 anys            190\n",
       "      95-99 anys             49\n",
       "2018  0-4 anys            14092\n",
       "      10-14 anys           8734\n",
       "      100 anys i més          6\n",
       "      15-19 anys          10488\n",
       "      20-24 anys          23430\n",
       "      25-29 anys          46127\n",
       "      30-34 anys          49219\n",
       "      35-39 anys          43734\n",
       "      40-44 anys          31520\n",
       "      45-49 anys          21906\n",
       "      5-9 anys            11321\n",
       "      50-54 anys          14858\n",
       "      55-59 anys           9774\n",
       "      60-64 anys           6514\n",
       "      65-69 anys           4233\n",
       "      70-74 anys           2558\n",
       "      75-79 anys           1527\n",
       "      80-84 anys            893\n",
       "      85-89 anys            458\n",
       "      90-94 anys            184\n",
       "      95-99 anys             50\n",
       "Name: Nombre, Length: 103, dtype: int64"
      ]
     },
     "execution_count": 51,
     "metadata": {},
     "output_type": "execute_result"
    }
   ],
   "source": [
    "foregein_population"
   ]
  },
  {
   "cell_type": "code",
   "execution_count": 41,
   "metadata": {},
   "outputs": [
    {
     "ename": "AttributeError",
     "evalue": "'Series' object has no attribute 'Edat_quinquennal'",
     "output_type": "error",
     "traceback": [
      "\u001b[1;31m---------------------------------------------------------------------------\u001b[0m",
      "\u001b[1;31mAttributeError\u001b[0m                            Traceback (most recent call last)",
      "\u001b[1;32m<ipython-input-41-66638b0afe94>\u001b[0m in \u001b[0;36m<module>\u001b[1;34m\u001b[0m\n\u001b[1;32m----> 1\u001b[1;33m \u001b[0mforegein_population\u001b[0m\u001b[1;33m.\u001b[0m\u001b[0mEdat_quinquennal\u001b[0m\u001b[1;33m\u001b[0m\u001b[1;33m\u001b[0m\u001b[0m\n\u001b[0m",
      "\u001b[1;32m~\\Anaconda3\\lib\\site-packages\\pandas\\core\\generic.py\u001b[0m in \u001b[0;36m__getattr__\u001b[1;34m(self, name)\u001b[0m\n\u001b[0;32m   4374\u001b[0m             \u001b[1;32mif\u001b[0m \u001b[0mself\u001b[0m\u001b[1;33m.\u001b[0m\u001b[0m_info_axis\u001b[0m\u001b[1;33m.\u001b[0m\u001b[0m_can_hold_identifiers_and_holds_name\u001b[0m\u001b[1;33m(\u001b[0m\u001b[0mname\u001b[0m\u001b[1;33m)\u001b[0m\u001b[1;33m:\u001b[0m\u001b[1;33m\u001b[0m\u001b[1;33m\u001b[0m\u001b[0m\n\u001b[0;32m   4375\u001b[0m                 \u001b[1;32mreturn\u001b[0m \u001b[0mself\u001b[0m\u001b[1;33m[\u001b[0m\u001b[0mname\u001b[0m\u001b[1;33m]\u001b[0m\u001b[1;33m\u001b[0m\u001b[1;33m\u001b[0m\u001b[0m\n\u001b[1;32m-> 4376\u001b[1;33m             \u001b[1;32mreturn\u001b[0m \u001b[0mobject\u001b[0m\u001b[1;33m.\u001b[0m\u001b[0m__getattribute__\u001b[0m\u001b[1;33m(\u001b[0m\u001b[0mself\u001b[0m\u001b[1;33m,\u001b[0m \u001b[0mname\u001b[0m\u001b[1;33m)\u001b[0m\u001b[1;33m\u001b[0m\u001b[1;33m\u001b[0m\u001b[0m\n\u001b[0m\u001b[0;32m   4377\u001b[0m \u001b[1;33m\u001b[0m\u001b[0m\n\u001b[0;32m   4378\u001b[0m     \u001b[1;32mdef\u001b[0m \u001b[0m__setattr__\u001b[0m\u001b[1;33m(\u001b[0m\u001b[0mself\u001b[0m\u001b[1;33m,\u001b[0m \u001b[0mname\u001b[0m\u001b[1;33m,\u001b[0m \u001b[0mvalue\u001b[0m\u001b[1;33m)\u001b[0m\u001b[1;33m:\u001b[0m\u001b[1;33m\u001b[0m\u001b[1;33m\u001b[0m\u001b[0m\n",
      "\u001b[1;31mAttributeError\u001b[0m: 'Series' object has no attribute 'Edat_quinquennal'"
     ]
    }
   ],
   "source": [
    "foregein_population.Edat_quinquennal"
   ]
  },
  {
   "cell_type": "code",
   "execution_count": 57,
   "metadata": {},
   "outputs": [],
   "source": [
    "year_bins = ['15-19 anys', '20-24 anys', '25-29 anys', '30-34 anys','35-39 anys', '40-44 anys']\n",
    "foregein_population = population_total.loc[population_total['Edat_quinquennal'].isin(year_bins)]\n",
    "foregein_population= foregein_population.loc[foregein_population['Nacionalitat'] \n",
    "                                           == 'Estrangera'].groupby(['Any'])['Nombre'].sum()"
   ]
  },
  {
   "cell_type": "code",
   "execution_count": 68,
   "metadata": {},
   "outputs": [
    {
     "data": {
      "text/plain": [
       "190070.4"
      ]
     },
     "execution_count": 68,
     "metadata": {},
     "output_type": "execute_result"
    }
   ],
   "source": [
    "foregein_population.mean()"
   ]
  },
  {
   "cell_type": "code",
   "execution_count": 69,
   "metadata": {},
   "outputs": [
    {
     "data": {
      "text/plain": [
       "<matplotlib.axes._subplots.AxesSubplot at 0x22e2c9de7f0>"
      ]
     },
     "execution_count": 69,
     "metadata": {},
     "output_type": "execute_result"
    },
    {
     "data": {
      "image/png": "[encoded data removed]",
      "text/plain": [
       "<Figure size 720x576 with 1 Axes>"
      ]
     },
     "metadata": {
      "needs_background": "light"
     },
     "output_type": "display_data"
    }
   ],
   "source": [
    "plt.figure(figsize=(10, 8))\n",
    "foregein_population.plot.bar()"
   ]
  },
  {
   "cell_type": "code",
   "execution_count": 42,
   "metadata": {},
   "outputs": [
    {
     "data": {
      "text/plain": [
       "university     object\n",
       "total         float64\n",
       "year            int64\n",
       "dtype: object"
      ]
     },
     "execution_count": 42,
     "metadata": {},
     "output_type": "execute_result"
    }
   ],
   "source": [
    "enrollment_total.dtypes"
   ]
  },
  {
   "cell_type": "code",
   "execution_count": 77,
   "metadata": {},
   "outputs": [
    {
     "data": {
      "text/plain": [
       "Text(0, 0.5, 'Thousands')"
      ]
     },
     "execution_count": 77,
     "metadata": {},
     "output_type": "execute_result"
    },
    {
     "data": {
      "image/png": "[encoded data removed]",
      "text/plain": [
       "<Figure size 720x360 with 1 Axes>"
      ]
     },
     "metadata": {
      "needs_background": "light"
     },
     "output_type": "display_data"
    }
   ],
   "source": [
    "#Average enrollment per year\n",
    "plt.figure(figsize=(10, 5))\n",
    "enrollment_byyear = enrollment_total.groupby('year')['total'].max()\n",
    "enrollment_byyear.plot.bar()\n",
    "plt.ylabel('Thousands')"
   ]
  },
  {
   "cell_type": "code",
   "execution_count": 66,
   "metadata": {},
   "outputs": [
    {
     "data": {
      "text/html": [
       "<div>\n",
       "<style scoped>\n",
       "    .dataframe tbody tr th:only-of-type {\n",
       "        vertical-align: middle;\n",
       "    }\n",
       "\n",
       "    .dataframe tbody tr th {\n",
       "        vertical-align: top;\n",
       "    }\n",
       "\n",
       "    .dataframe thead th {\n",
       "        text-align: right;\n",
       "    }\n",
       "</style>\n",
       "<table border=\"1\" class=\"dataframe\">\n",
       "  <thead>\n",
       "    <tr style=\"text-align: right;\">\n",
       "      <th>university</th>\n",
       "      <th>Sistema universitario público</th>\n",
       "      <th>Universidad de Barcelona</th>\n",
       "      <th>Universidad Autónoma de Barcelona</th>\n",
       "      <th>Universidad Politécnica de Cataluña</th>\n",
       "      <th>Universidad Pompeu Fabra</th>\n",
       "      <th>Universidad de Girona</th>\n",
       "      <th>Universidad de Lleida</th>\n",
       "      <th>Universidad Rovira i Virgili</th>\n",
       "      <th>Sistema universitario privado</th>\n",
       "      <th>Universidad Ramon Llull</th>\n",
       "      <th>...</th>\n",
       "      <th>U. Pompeu Fabra</th>\n",
       "      <th>U. Girona</th>\n",
       "      <th>U. Lleida</th>\n",
       "      <th>U. Rovira i Virgili</th>\n",
       "      <th>U. Oberta de Catalunya</th>\n",
       "      <th>Sistema universitario privado</th>\n",
       "      <th>U. Ramon Llull</th>\n",
       "      <th>U. Vic</th>\n",
       "      <th>U. Internacional de Catalunya</th>\n",
       "      <th>U. Abat Oliba CEU</th>\n",
       "    </tr>\n",
       "  </thead>\n",
       "  <tbody>\n",
       "    <tr>\n",
       "      <th>total</th>\n",
       "      <td>149.449</td>\n",
       "      <td>45.372</td>\n",
       "      <td>31.848</td>\n",
       "      <td>23.575</td>\n",
       "      <td>14.851</td>\n",
       "      <td>13.622</td>\n",
       "      <td>8.43</td>\n",
       "      <td>11.751</td>\n",
       "      <td>23.324</td>\n",
       "      <td>12.282</td>\n",
       "      <td>...</td>\n",
       "      <td>12.137</td>\n",
       "      <td>13.66</td>\n",
       "      <td>8.544</td>\n",
       "      <td>11.922</td>\n",
       "      <td>38.554</td>\n",
       "      <td>22.309</td>\n",
       "      <td>12.045</td>\n",
       "      <td>5.437</td>\n",
       "      <td>3.425</td>\n",
       "      <td>1.402</td>\n",
       "    </tr>\n",
       "    <tr>\n",
       "      <th>year</th>\n",
       "      <td>2017.000</td>\n",
       "      <td>2017.000</td>\n",
       "      <td>2017.000</td>\n",
       "      <td>2017.000</td>\n",
       "      <td>2017.000</td>\n",
       "      <td>2017.000</td>\n",
       "      <td>2017.00</td>\n",
       "      <td>2017.000</td>\n",
       "      <td>2017.000</td>\n",
       "      <td>2017.000</td>\n",
       "      <td>...</td>\n",
       "      <td>2013.000</td>\n",
       "      <td>2013.00</td>\n",
       "      <td>2013.000</td>\n",
       "      <td>2013.000</td>\n",
       "      <td>2013.000</td>\n",
       "      <td>2013.000</td>\n",
       "      <td>2013.000</td>\n",
       "      <td>2013.000</td>\n",
       "      <td>2013.000</td>\n",
       "      <td>2013.000</td>\n",
       "    </tr>\n",
       "  </tbody>\n",
       "</table>\n",
       "<p>2 rows × 74 columns</p>\n",
       "</div>"
      ],
      "text/plain": [
       "university  Sistema universitario público  Universidad de Barcelona  \\\n",
       "total                             149.449                    45.372   \n",
       "year                             2017.000                  2017.000   \n",
       "\n",
       "university  Universidad Autónoma de Barcelona  \\\n",
       "total                                  31.848   \n",
       "year                                 2017.000   \n",
       "\n",
       "university  Universidad Politécnica de Cataluña  Universidad Pompeu Fabra  \\\n",
       "total                                    23.575                    14.851   \n",
       "year                                   2017.000                  2017.000   \n",
       "\n",
       "university  Universidad de Girona  Universidad de Lleida  \\\n",
       "total                      13.622                   8.43   \n",
       "year                     2017.000                2017.00   \n",
       "\n",
       "university  Universidad Rovira i Virgili  Sistema universitario privado  \\\n",
       "total                             11.751                         23.324   \n",
       "year                            2017.000                       2017.000   \n",
       "\n",
       "university  Universidad Ramon Llull        ...          U. Pompeu Fabra  \\\n",
       "total                        12.282        ...                   12.137   \n",
       "year                       2017.000        ...                 2013.000   \n",
       "\n",
       "university  U. Girona  U. Lleida  U. Rovira i Virgili  U. Oberta de Catalunya  \\\n",
       "total           13.66      8.544               11.922                  38.554   \n",
       "year          2013.00   2013.000             2013.000                2013.000   \n",
       "\n",
       "university  Sistema universitario privado  U. Ramon Llull    U. Vic  \\\n",
       "total                              22.309          12.045     5.437   \n",
       "year                             2013.000        2013.000  2013.000   \n",
       "\n",
       "university  U. Internacional de Catalunya  U. Abat Oliba CEU  \n",
       "total                               3.425              1.402  \n",
       "year                             2013.000           2013.000  \n",
       "\n",
       "[2 rows x 74 columns]"
      ]
     },
     "execution_count": 66,
     "metadata": {},
     "output_type": "execute_result"
    }
   ],
   "source": [
    "enrollment_total.set_index('university').T"
   ]
  },
  {
   "cell_type": "code",
   "execution_count": 83,
   "metadata": {},
   "outputs": [],
   "source": [
    "#School with most enrolled students\n",
    "enrollmentperuniversity = enrollment_total.set_index('university').T.drop(columns =['Alumnos matriculados', \n",
    "                                  'Sistema universitario público', \n",
    "                                  'Sistema universitario privado']).T.groupby('university')['total'].sum().sort_values(ascending = False)"
   ]
  },
  {
   "cell_type": "code",
   "execution_count": 89,
   "metadata": {
    "scrolled": false
   },
   "outputs": [
    {
     "data": {
      "text/plain": [
       "Text(0, 0.5, 'Thousands of students enrolled from 2013 - 2015')"
      ]
     },
     "execution_count": 89,
     "metadata": {},
     "output_type": "execute_result"
    },
    {
     "data": {
      "image/png": "[encoded data removed]",
      "text/plain": [
       "<Figure size 1080x360 with 1 Axes>"
      ]
     },
     "metadata": {
      "needs_background": "light"
     },
     "output_type": "display_data"
    }
   ],
   "source": [
    "plt.figure(figsize=(15, 5))\n",
    "enrollmentperuniversity.plot.bar()\n",
    "plt.ylabel('Thousands of students enrolled from 2013 - 2015')"
   ]
  },
  {
   "cell_type": "code",
   "execution_count": null,
   "metadata": {},
   "outputs": [],
   "source": []
  }
 ],
 "metadata": {
  "kernelspec": {
   "display_name": "Python 3",
   "language": "python",
   "name": "python3"
  },
  "language_info": {
   "codemirror_mode": {
    "name": "ipython",
    "version": 3
   },
   "file_extension": ".py",
   "mimetype": "text/x-python",
   "name": "python",
   "nbconvert_exporter": "python",
   "pygments_lexer": "ipython3",
   "version": "3.7.1"
  }
 },
 "nbformat": 4,
 "nbformat_minor": 2
}
