{
 "cells": [
  {
   "cell_type": "code",
   "execution_count": 1,
   "metadata": {},
   "outputs": [],
   "source": [
    "from Ranking import Ranking"
   ]
  },
  {
   "cell_type": "code",
   "execution_count": 2,
   "metadata": {},
   "outputs": [],
   "source": [
    "ranking = Ranking()"
   ]
  },
  {
   "cell_type": "code",
   "execution_count": 13,
   "metadata": {},
   "outputs": [
    {
     "name": "stdout",
     "output_type": "stream",
     "text": [
      "                          Distance  Availability  Security\n",
      "Sarrià                          41             3      96.0\n",
      "Sant Gervasi-la Bonanova        37             9      90.0\n",
      "Sant Gervasi-Galvany             2            21      59.0\n",
      "Pedralbes                        1             3     179.0\n",
      "                          Distance  Availability  Security   Ranking\n",
      "Sant Gervasi-la Bonanova     0.900      0.333333  0.258333  5.241667\n",
      "Sarrià                       1.000      0.000000  0.308333  4.691667\n",
      "Sant Gervasi-Galvany         0.025      1.000000  0.000000  3.125000\n",
      "Pedralbes                    0.000      0.000000  1.000000 -1.000000\n"
     ]
    }
   ],
   "source": [
    "lista = ranking.get_ranking('Inmmaculada 22', 15, 300, 1200, 5,3,1,3)"
   ]
  },
  {
   "cell_type": "code",
   "execution_count": 14,
   "metadata": {},
   "outputs": [
    {
     "data": {
      "text/plain": [
       "array(['Sant Gervasi-la Bonanova', 'Sarrià', 'Sant Gervasi-Galvany'],\n",
       "      dtype=object)"
      ]
     },
     "execution_count": 14,
     "metadata": {},
     "output_type": "execute_result"
    }
   ],
   "source": [
    "lista"
   ]
  },
  {
   "cell_type": "code",
   "execution_count": 15,
   "metadata": {},
   "outputs": [],
   "source": [
    "from Map import draw_map"
   ]
  },
  {
   "cell_type": "code",
   "execution_count": 16,
   "metadata": {},
   "outputs": [
    {
     "data": {
      "application/vnd.jupyter.widget-view+json": {
       "model_id": "31427d907c7b44499556690a9b1a7855",
       "version_major": 2,
       "version_minor": 0
      },
      "text/plain": [
       "Map(basemap={'url': 'http://stamen-tiles-a.a.ssl.fastly.net/terrain/{z}/{x}/{y}.png', 'attribution': 'Map tile…"
      ]
     },
     "metadata": {},
     "output_type": "display_data"
    }
   ],
   "source": [
    "draw_map(lista, ranking.appartments_locations(lista), ranking.geofinder.get_location(), \"Inmmaculada 22\")"
   ]
  },
  {
   "cell_type": "code",
   "execution_count": null,
   "metadata": {},
   "outputs": [],
   "source": []
  }
 ],
 "metadata": {
  "kernelspec": {
   "display_name": "Python (telluric36)",
   "language": "python",
   "name": "telluric36"
  },
  "language_info": {
   "codemirror_mode": {
    "name": "ipython",
    "version": 3
   },
   "file_extension": ".py",
   "mimetype": "text/x-python",
   "name": "python",
   "nbconvert_exporter": "python",
   "pygments_lexer": "ipython3",
   "version": "3.6.8"
  }
 },
 "nbformat": 4,
 "nbformat_minor": 4
}
