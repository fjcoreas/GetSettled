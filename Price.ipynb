{
 "cells": [
  {
   "cell_type": "code",
   "execution_count": 1,
   "metadata": {},
   "outputs": [],
   "source": [
    "import pandas as pd\n",
    "import numpy as np\n",
    "import matplotlib.pyplot as plt\n",
    "plt.ion()\n",
    "import seaborn as sns\n",
    "sns.set()"
   ]
  },
  {
   "cell_type": "code",
   "execution_count": 91,
   "metadata": {},
   "outputs": [
    {
     "data": {
      "text/html": [
       "<div>\n",
       "<style scoped>\n",
       "    .dataframe tbody tr th:only-of-type {\n",
       "        vertical-align: middle;\n",
       "    }\n",
       "\n",
       "    .dataframe tbody tr th {\n",
       "        vertical-align: top;\n",
       "    }\n",
       "\n",
       "    .dataframe thead th {\n",
       "        text-align: right;\n",
       "    }\n",
       "</style>\n",
       "<table border=\"1\" class=\"dataframe\">\n",
       "  <thead>\n",
       "    <tr style=\"text-align: right;\">\n",
       "      <th></th>\n",
       "      <th>Dto.</th>\n",
       "      <th>Barrios</th>\n",
       "      <th>2013</th>\n",
       "      <th>2014</th>\n",
       "      <th>2015</th>\n",
       "      <th>2016</th>\n",
       "      <th>2017</th>\n",
       "    </tr>\n",
       "  </thead>\n",
       "  <tbody>\n",
       "    <tr>\n",
       "      <th>0</th>\n",
       "      <td>1</td>\n",
       "      <td>1. el Raval</td>\n",
       "      <td>2.614</td>\n",
       "      <td>2.404</td>\n",
       "      <td>2.775</td>\n",
       "      <td>3.251</td>\n",
       "      <td>4.029</td>\n",
       "    </tr>\n",
       "    <tr>\n",
       "      <th>1</th>\n",
       "      <td>1</td>\n",
       "      <td>2. el Barri Gòtic</td>\n",
       "      <td>3.811</td>\n",
       "      <td>3.791</td>\n",
       "      <td>4.236</td>\n",
       "      <td>4.813</td>\n",
       "      <td>4.884</td>\n",
       "    </tr>\n",
       "    <tr>\n",
       "      <th>2</th>\n",
       "      <td>1</td>\n",
       "      <td>3. la Barceloneta</td>\n",
       "      <td>4.212</td>\n",
       "      <td>4.168</td>\n",
       "      <td>4.043</td>\n",
       "      <td>4.683</td>\n",
       "      <td>5.165</td>\n",
       "    </tr>\n",
       "    <tr>\n",
       "      <th>3</th>\n",
       "      <td>1</td>\n",
       "      <td>4. Sant Pere</td>\n",
       "      <td>3.534</td>\n",
       "      <td>3.682</td>\n",
       "      <td>3.827</td>\n",
       "      <td>4.501</td>\n",
       "      <td>5.152</td>\n",
       "    </tr>\n",
       "    <tr>\n",
       "      <th>4</th>\n",
       "      <td>2</td>\n",
       "      <td>5. el Fort Pienc</td>\n",
       "      <td>3.038</td>\n",
       "      <td>3.022</td>\n",
       "      <td>3.228</td>\n",
       "      <td>4.012</td>\n",
       "      <td>4.107</td>\n",
       "    </tr>\n",
       "  </tbody>\n",
       "</table>\n",
       "</div>"
      ],
      "text/plain": [
       "   Dto.          Barrios     2013   2014   2015   2016   2017\n",
       "0     1        1. el Raval  2.614  2.404  2.775  3.251  4.029\n",
       "1     1  2. el Barri Gòtic  3.811  3.791  4.236  4.813  4.884\n",
       "2     1  3. la Barceloneta  4.212  4.168  4.043  4.683  5.165\n",
       "3     1       4. Sant Pere  3.534  3.682  3.827  4.501  5.152\n",
       "4     2   5. el Fort Pienc  3.038  3.022  3.228  4.012  4.107"
      ]
     },
     "execution_count": 91,
     "metadata": {},
     "output_type": "execute_result"
    }
   ],
   "source": [
    "df = pd.read_csv('price_neigberhood_m2.csv')\n",
    "df.head()"
   ]
  },
  {
   "cell_type": "code",
   "execution_count": 92,
   "metadata": {},
   "outputs": [
    {
     "data": {
      "text/plain": [
       "Dto.            0\n",
       "   Barrios      0\n",
       "2013            0\n",
       "2014            0\n",
       "2015            0\n",
       "2016            0\n",
       "2017            0\n",
       "dtype: int64"
      ]
     },
     "execution_count": 92,
     "metadata": {},
     "output_type": "execute_result"
    }
   ],
   "source": [
    "df.isnull().sum()"
   ]
  },
  {
   "cell_type": "code",
   "execution_count": 93,
   "metadata": {},
   "outputs": [
    {
     "data": {
      "text/html": [
       "<div>\n",
       "<style scoped>\n",
       "    .dataframe tbody tr th:only-of-type {\n",
       "        vertical-align: middle;\n",
       "    }\n",
       "\n",
       "    .dataframe tbody tr th {\n",
       "        vertical-align: top;\n",
       "    }\n",
       "\n",
       "    .dataframe thead th {\n",
       "        text-align: right;\n",
       "    }\n",
       "</style>\n",
       "<table border=\"1\" class=\"dataframe\">\n",
       "  <thead>\n",
       "    <tr style=\"text-align: right;\">\n",
       "      <th></th>\n",
       "      <th>Dto.</th>\n",
       "      <th>Barrios</th>\n",
       "      <th>2013</th>\n",
       "      <th>2014</th>\n",
       "      <th>2015</th>\n",
       "      <th>2016</th>\n",
       "      <th>2017</th>\n",
       "    </tr>\n",
       "  </thead>\n",
       "  <tbody>\n",
       "    <tr>\n",
       "      <th>0</th>\n",
       "      <td>1</td>\n",
       "      <td>1. el Raval</td>\n",
       "      <td>2.614</td>\n",
       "      <td>2.404</td>\n",
       "      <td>2.775</td>\n",
       "      <td>3.251</td>\n",
       "      <td>4.029</td>\n",
       "    </tr>\n",
       "    <tr>\n",
       "      <th>1</th>\n",
       "      <td>1</td>\n",
       "      <td>2. el Barri Gòtic</td>\n",
       "      <td>3.811</td>\n",
       "      <td>3.791</td>\n",
       "      <td>4.236</td>\n",
       "      <td>4.813</td>\n",
       "      <td>4.884</td>\n",
       "    </tr>\n",
       "    <tr>\n",
       "      <th>2</th>\n",
       "      <td>1</td>\n",
       "      <td>3. la Barceloneta</td>\n",
       "      <td>4.212</td>\n",
       "      <td>4.168</td>\n",
       "      <td>4.043</td>\n",
       "      <td>4.683</td>\n",
       "      <td>5.165</td>\n",
       "    </tr>\n",
       "    <tr>\n",
       "      <th>3</th>\n",
       "      <td>1</td>\n",
       "      <td>4. Sant Pere</td>\n",
       "      <td>3.534</td>\n",
       "      <td>3.682</td>\n",
       "      <td>3.827</td>\n",
       "      <td>4.501</td>\n",
       "      <td>5.152</td>\n",
       "    </tr>\n",
       "    <tr>\n",
       "      <th>4</th>\n",
       "      <td>2</td>\n",
       "      <td>5. el Fort Pienc</td>\n",
       "      <td>3.038</td>\n",
       "      <td>3.022</td>\n",
       "      <td>3.228</td>\n",
       "      <td>4.012</td>\n",
       "      <td>4.107</td>\n",
       "    </tr>\n",
       "  </tbody>\n",
       "</table>\n",
       "</div>"
      ],
      "text/plain": [
       "   Dto.          Barrios     2013   2014   2015   2016   2017\n",
       "0     1        1. el Raval  2.614  2.404  2.775  3.251  4.029\n",
       "1     1  2. el Barri Gòtic  3.811  3.791  4.236  4.813  4.884\n",
       "2     1  3. la Barceloneta  4.212  4.168  4.043  4.683  5.165\n",
       "3     1       4. Sant Pere  3.534  3.682  3.827  4.501  5.152\n",
       "4     2   5. el Fort Pienc  3.038  3.022  3.228  4.012  4.107"
      ]
     },
     "execution_count": 93,
     "metadata": {},
     "output_type": "execute_result"
    }
   ],
   "source": [
    "df = df.replace('n.d.  ', np.nan)\n",
    "df.head()"
   ]
  },
  {
   "cell_type": "code",
   "execution_count": 94,
   "metadata": {},
   "outputs": [
    {
     "data": {
      "text/html": [
       "<div>\n",
       "<style scoped>\n",
       "    .dataframe tbody tr th:only-of-type {\n",
       "        vertical-align: middle;\n",
       "    }\n",
       "\n",
       "    .dataframe tbody tr th {\n",
       "        vertical-align: top;\n",
       "    }\n",
       "\n",
       "    .dataframe thead th {\n",
       "        text-align: right;\n",
       "    }\n",
       "</style>\n",
       "<table border=\"1\" class=\"dataframe\">\n",
       "  <thead>\n",
       "    <tr style=\"text-align: right;\">\n",
       "      <th></th>\n",
       "      <th>Dto.</th>\n",
       "      <th>Barrios</th>\n",
       "      <th>2013</th>\n",
       "      <th>2014</th>\n",
       "      <th>2015</th>\n",
       "      <th>2016</th>\n",
       "      <th>2017</th>\n",
       "    </tr>\n",
       "  </thead>\n",
       "  <tbody>\n",
       "    <tr>\n",
       "      <th>39</th>\n",
       "      <td>7</td>\n",
       "      <td>40. Montbau (1)</td>\n",
       "      <td></td>\n",
       "      <td></td>\n",
       "      <td></td>\n",
       "      <td></td>\n",
       "      <td></td>\n",
       "    </tr>\n",
       "  </tbody>\n",
       "</table>\n",
       "</div>"
      ],
      "text/plain": [
       "    Dto.        Barrios   2013 2014 2015 2016 2017\n",
       "39     7  40. Montbau (1)                         "
      ]
     },
     "execution_count": 94,
     "metadata": {},
     "output_type": "execute_result"
    }
   ],
   "source": [
    "df.iloc[[39]]"
   ]
  },
  {
   "cell_type": "code",
   "execution_count": 95,
   "metadata": {},
   "outputs": [],
   "source": [
    "df = df.replace(' ', np.nan)"
   ]
  },
  {
   "cell_type": "code",
   "execution_count": 96,
   "metadata": {},
   "outputs": [],
   "source": [
    "df['2013'] = pd.to_numeric(df['2013'])\n",
    "df['2014'] = pd.to_numeric(df['2014'])\n",
    "df['2015'] = pd.to_numeric(df['2015'])\n",
    "df['2016'] = pd.to_numeric(df['2016'])\n",
    "df['2017'] = pd.to_numeric(df['2017'])"
   ]
  },
  {
   "cell_type": "code",
   "execution_count": 104,
   "metadata": {},
   "outputs": [
    {
     "data": {
      "text/plain": [
       "True"
      ]
     },
     "execution_count": 104,
     "metadata": {},
     "output_type": "execute_result"
    }
   ],
   "source": [
    "df.Barrios.is_unique"
   ]
  },
  {
   "cell_type": "code",
   "execution_count": 99,
   "metadata": {},
   "outputs": [],
   "source": [
    "df.columns = df.columns.str.strip()"
   ]
  },
  {
   "cell_type": "code",
   "execution_count": 89,
   "metadata": {},
   "outputs": [
    {
     "data": {
      "text/plain": [
       "Index(['2013', '2014', '2015', '2016', '2017'], dtype='object')"
      ]
     },
     "execution_count": 89,
     "metadata": {},
     "output_type": "execute_result"
    }
   ],
   "source": [
    "df.columns"
   ]
  },
  {
   "cell_type": "code",
   "execution_count": 22,
   "metadata": {},
   "outputs": [
    {
     "data": {
      "text/plain": [
       "511"
      ]
     },
     "execution_count": 22,
     "metadata": {},
     "output_type": "execute_result"
    }
   ],
   "source": [
    "df.size"
   ]
  },
  {
   "cell_type": "code",
   "execution_count": 23,
   "metadata": {},
   "outputs": [
    {
     "data": {
      "text/plain": [
       "Dto.        0\n",
       "Barrios     0\n",
       "2013       31\n",
       "2014       14\n",
       "2015       14\n",
       "2016       13\n",
       "2017       17\n",
       "dtype: int64"
      ]
     },
     "execution_count": 23,
     "metadata": {},
     "output_type": "execute_result"
    }
   ],
   "source": [
    "df.isnull().sum()"
   ]
  },
  {
   "cell_type": "code",
   "execution_count": 24,
   "metadata": {},
   "outputs": [],
   "source": [
    "df.fillna(0, inplace=True)"
   ]
  },
  {
   "cell_type": "code",
   "execution_count": 25,
   "metadata": {},
   "outputs": [],
   "source": []
  },
  {
   "cell_type": "code",
   "execution_count": 29,
   "metadata": {},
   "outputs": [],
   "source": [
    "from geopy.geocoders import Nominatim"
   ]
  },
  {
   "cell_type": "code",
   "execution_count": 30,
   "metadata": {},
   "outputs": [],
   "source": [
    "geolocator = Nominatim(user_agent=\"get_setlled\",format_string=\"%s, Barcelona, Spain\")"
   ]
  },
  {
   "cell_type": "code",
   "execution_count": 33,
   "metadata": {},
   "outputs": [],
   "source": [
    "location = geolocator.geocode('Carrer Valencia 156+BCN+Barcelona+Spain')\n"
   ]
  },
  {
   "cell_type": "code",
   "execution_count": 34,
   "metadata": {},
   "outputs": [
    {
     "name": "stdout",
     "output_type": "stream",
     "text": [
      "None\n"
     ]
    }
   ],
   "source": [
    "print(location)"
   ]
  },
  {
   "cell_type": "code",
   "execution_count": 112,
   "metadata": {},
   "outputs": [],
   "source": [
    "from geopy.geocoders import Here\n",
    "import json"
   ]
  },
  {
   "cell_type": "code",
   "execution_count": 113,
   "metadata": {},
   "outputs": [],
   "source": [
    "with open('../accounts.json') as json_file:  \n",
    "    data = json.load(json_file)"
   ]
  },
  {
   "cell_type": "code",
   "execution_count": 114,
   "metadata": {},
   "outputs": [],
   "source": [
    "app_code = data['accounts']['Here']['app_code']\n",
    "app_id = data['accounts']['Here']['app_id']\n",
    "user_agent = data['accounts']['Here']['user_agent']\n",
    "here = Here(app_code=app_code, app_id=app_id,user_agent=user_agent)"
   ]
  },
  {
   "cell_type": "code",
   "execution_count": 115,
   "metadata": {},
   "outputs": [],
   "source": [
    "location = here.geocode('Carrer de Valencia 156')"
   ]
  },
  {
   "cell_type": "code",
   "execution_count": 116,
   "metadata": {},
   "outputs": [
    {
     "data": {
      "text/plain": [
       "{'Relevance': 1.0,\n",
       " 'MatchLevel': 'houseNumber',\n",
       " 'MatchQuality': {'Street': [1.0], 'HouseNumber': 1.0},\n",
       " 'MatchType': 'pointAddress',\n",
       " 'Location': {'LocationId': 'NT_zAoUPgE4U3XaRhy2nApOGB_xUjN',\n",
       "  'LocationType': 'point',\n",
       "  'DisplayPosition': {'Latitude': 41.38621, 'Longitude': 2.15487},\n",
       "  'NavigationPosition': [{'Latitude': 41.38628, 'Longitude': 2.15476}],\n",
       "  'MapView': {'TopLeft': {'Latitude': 41.3873342, 'Longitude': 2.1533717},\n",
       "   'BottomRight': {'Latitude': 41.3850858, 'Longitude': 2.1563683}},\n",
       "  'Address': {'Label': 'Carrer de València, 156, 08011 Barcelona (Barcelona), Espanya',\n",
       "   'Country': 'ESP',\n",
       "   'State': 'Catalunya',\n",
       "   'County': 'Barcelona',\n",
       "   'City': 'Barcelona',\n",
       "   'District': \"l'Antiga Esquerra de l'Eixample\",\n",
       "   'Street': 'Carrer de València',\n",
       "   'HouseNumber': '156',\n",
       "   'PostalCode': '08011',\n",
       "   'AdditionalData': [{'value': 'Espanya', 'key': 'CountryName'},\n",
       "    {'value': 'Catalunya', 'key': 'StateName'},\n",
       "    {'value': 'Barcelona', 'key': 'CountyName'}]}}}"
      ]
     },
     "execution_count": 116,
     "metadata": {},
     "output_type": "execute_result"
    }
   ],
   "source": [
    "location.raw"
   ]
  },
  {
   "cell_type": "code",
   "execution_count": 76,
   "metadata": {},
   "outputs": [
    {
     "data": {
      "text/plain": [
       "geopy.location.Location"
      ]
     },
     "execution_count": 76,
     "metadata": {},
     "output_type": "execute_result"
    }
   ],
   "source": [
    "type(location)"
   ]
  },
  {
   "cell_type": "code",
   "execution_count": 75,
   "metadata": {},
   "outputs": [
    {
     "data": {
      "text/plain": [
       "\"l'Antiga Esquerra de l'Eixample\""
      ]
     },
     "execution_count": 75,
     "metadata": {},
     "output_type": "execute_result"
    }
   ],
   "source": [
    "\n",
    "# location.point['Address']['District']\n",
    "location.raw['Location']['Address']['District']"
   ]
  },
  {
   "cell_type": "code",
   "execution_count": 109,
   "metadata": {},
   "outputs": [
    {
     "data": {
      "text/plain": [
       "{'Relevance': 1.0,\n",
       " 'Distance': 0.0,\n",
       " 'MatchLevel': 'houseNumber',\n",
       " 'MatchQuality': {'Country': 1.0,\n",
       "  'State': 1.0,\n",
       "  'County': 1.0,\n",
       "  'City': 1.0,\n",
       "  'District': 1.0,\n",
       "  'Street': [1.0],\n",
       "  'HouseNumber': 1.0,\n",
       "  'PostalCode': 1.0},\n",
       " 'MatchType': 'interpolated',\n",
       " 'Location': {'LocationId': 'NT_zAoUPgE4U3XaRhy2nApOGB_xUjN',\n",
       "  'LocationType': 'point',\n",
       "  'DisplayPosition': {'Latitude': 41.38628, 'Longitude': 2.15476},\n",
       "  'MapView': {'TopLeft': {'Latitude': 41.3874042, 'Longitude': 2.1532617},\n",
       "   'BottomRight': {'Latitude': 41.3851558, 'Longitude': 2.1562583}},\n",
       "  'Address': {'Label': 'Carrer de València, 156, 08011 Barcelona (Barcelona), Espanya',\n",
       "   'Country': 'ESP',\n",
       "   'State': 'Catalunya',\n",
       "   'County': 'Barcelona',\n",
       "   'City': 'Barcelona',\n",
       "   'District': \"l'Antiga Esquerra de l'Eixample\",\n",
       "   'Street': 'Carrer de València',\n",
       "   'HouseNumber': '156',\n",
       "   'PostalCode': '08011',\n",
       "   'AdditionalData': [{'value': 'Espanya', 'key': 'CountryName'},\n",
       "    {'value': 'Catalunya', 'key': 'StateName'},\n",
       "    {'value': 'Barcelona', 'key': 'CountyName'}]},\n",
       "  'MapReference': {'ReferenceId': '1210415934',\n",
       "   'Spot': 0.53,\n",
       "   'SideOfStreet': 'right',\n",
       "   'CountryId': '20215059',\n",
       "   'StateId': '20215741',\n",
       "   'CountyId': '20215742',\n",
       "   'CityId': '20215774',\n",
       "   'AddressId': '221017545'}}}"
      ]
     },
     "execution_count": 109,
     "metadata": {},
     "output_type": "execute_result"
    }
   ],
   "source": [
    "here.reverse(location.point, 100, exactly_one=False)[0].raw"
   ]
  },
  {
   "cell_type": "code",
   "execution_count": 85,
   "metadata": {},
   "outputs": [
    {
     "ename": "TypeError",
     "evalue": "reverse() got an unexpected keyword argument 'prox'",
     "output_type": "error",
     "traceback": [
      "\u001b[0;31m---------------------------------------------------------------------------\u001b[0m",
      "\u001b[0;31mTypeError\u001b[0m                                 Traceback (most recent call last)",
      "\u001b[0;32m<ipython-input-85-ff37e8a3db44>\u001b[0m in \u001b[0;36m<module>\u001b[0;34m()\u001b[0m\n\u001b[0;32m----> 1\u001b[0;31m \u001b[0mhere\u001b[0m\u001b[0;34m.\u001b[0m\u001b[0mreverse\u001b[0m\u001b[0;34m(\u001b[0m\u001b[0mprox\u001b[0m\u001b[0;34m=\u001b[0m\u001b[0;34m'52.5309,13.3847,250'\u001b[0m \u001b[0;34m,\u001b[0m \u001b[0mmode\u001b[0m\u001b[0;34m=\u001b[0m\u001b[0;34m'retrieveAreas'\u001b[0m\u001b[0;34m)\u001b[0m\u001b[0;34m\u001b[0m\u001b[0m\n\u001b[0m",
      "\u001b[0;31mTypeError\u001b[0m: reverse() got an unexpected keyword argument 'prox'"
     ]
    }
   ],
   "source": [
    "here.reverse(prox='52.5309,13.3847,250' , mode='retrieveAreas')"
   ]
  },
  {
   "cell_type": "code",
   "execution_count": 110,
   "metadata": {},
   "outputs": [],
   "source": [
    "chicos_place = here.geocode('Universitat 14, Barcelona')"
   ]
  },
  {
   "cell_type": "code",
   "execution_count": 111,
   "metadata": {},
   "outputs": [
    {
     "data": {
      "text/plain": [
       "{'Relevance': 1.0,\n",
       " 'MatchLevel': 'houseNumber',\n",
       " 'MatchQuality': {'City': 1.0, 'Street': [0.9], 'HouseNumber': 1.0},\n",
       " 'MatchType': 'pointAddress',\n",
       " 'Location': {'LocationId': 'NT_CqK9A7WbaytSUW7RPD.B9C_xQD',\n",
       "  'LocationType': 'point',\n",
       "  'DisplayPosition': {'Latitude': 41.38666, 'Longitude': 2.16702},\n",
       "  'NavigationPosition': [{'Latitude': 41.3868, 'Longitude': 2.16692}],\n",
       "  'MapView': {'TopLeft': {'Latitude': 41.3877842, 'Longitude': 2.1655217},\n",
       "   'BottomRight': {'Latitude': 41.3855358, 'Longitude': 2.1685183}},\n",
       "  'Address': {'Label': 'Ronda de la Universitat, 14, 08007 Barcelona (Barcelona), Espanya',\n",
       "   'Country': 'ESP',\n",
       "   'State': 'Catalunya',\n",
       "   'County': 'Barcelona',\n",
       "   'City': 'Barcelona',\n",
       "   'District': \"Dreta de l'Eixample\",\n",
       "   'Street': 'Ronda de la Universitat',\n",
       "   'HouseNumber': '14',\n",
       "   'PostalCode': '08007',\n",
       "   'AdditionalData': [{'value': 'Espanya', 'key': 'CountryName'},\n",
       "    {'value': 'Catalunya', 'key': 'StateName'},\n",
       "    {'value': 'Barcelona', 'key': 'CountyName'}]}}}"
      ]
     },
     "execution_count": 111,
     "metadata": {},
     "output_type": "execute_result"
    }
   ],
   "source": [
    "chicos_place.raw"
   ]
  },
  {
   "cell_type": "code",
   "execution_count": 59,
   "metadata": {},
   "outputs": [
    {
     "name": "stdout",
     "output_type": "stream",
     "text": [
      "None\n"
     ]
    }
   ],
   "source": [
    "print(geolocator.geocode('Carrer Valencia 156+BCN+Barcelona+Spain', exactly_one=False))"
   ]
  },
  {
   "cell_type": "code",
   "execution_count": null,
   "metadata": {},
   "outputs": [],
   "source": [
    "APP ID\n",
    "\n",
    "APP CODE\n"
   ]
  },
  {
   "cell_type": "code",
   "execution_count": 1,
   "metadata": {},
   "outputs": [],
   "source": [
    "import geocoder"
   ]
  },
  {
   "cell_type": "code",
   "execution_count": 4,
   "metadata": {},
   "outputs": [
    {
     "name": "stdout",
     "output_type": "stream",
     "text": [
      "None\n"
     ]
    }
   ],
   "source": [
    "import geocoder\n",
    "g = geocoder.google('Mountain View, CA')\n",
    "print(g.latlng)"
   ]
  },
  {
   "cell_type": "code",
   "execution_count": 21,
   "metadata": {},
   "outputs": [],
   "source": [
    "g = geocoder. ('Valencia 156, Barcelona',app_code='PEA9o88_gQwTLBI7fY94Fg', app_id='zP4RJAL5bf6UQg8aqC11')\n",
    "\n",
    "\n"
   ]
  },
  {
   "cell_type": "code",
   "execution_count": 34,
   "metadata": {
    "collapsed": true
   },
   "outputs": [
    {
     "data": {
      "text/plain": [
       "{'type': 'FeatureCollection',\n",
       " 'features': [{'type': 'Feature',\n",
       "   'properties': {'address': 'Carrer de València, 156, 08011 Barcelona (Barcelona), Spain',\n",
       "    'bbox': [2.1533717, 41.3850858, 2.1563683, 41.3873342],\n",
       "    'city': 'Barcelona',\n",
       "    'confidence': 9,\n",
       "    'country': 'ESP',\n",
       "    'county': 'Barcelona',\n",
       "    'district': \"l'Antiga Esquerra de l'Eixample\",\n",
       "    'housenumber': '156',\n",
       "    'lat': 41.38621,\n",
       "    'lng': 2.15487,\n",
       "    'neighborhood': \"l'Antiga Esquerra de l'Eixample\",\n",
       "    'ok': True,\n",
       "    'postal': '08011',\n",
       "    'raw': {'LocationId': 'NT_zAoUPgE4U3XaRhy2nApOGB_xUjN',\n",
       "     'LocationType': 'address',\n",
       "     'DisplayPosition': {'Latitude': 41.38621, 'Longitude': 2.15487},\n",
       "     'NavigationPosition': [{'Latitude': 41.38628, 'Longitude': 2.15476}],\n",
       "     'MapView': {'TopLeft': {'Latitude': 41.3873342, 'Longitude': 2.1533717},\n",
       "      'BottomRight': {'Latitude': 41.3850858, 'Longitude': 2.1563683}},\n",
       "     'Address': {'Label': 'Carrer de València, 156, 08011 Barcelona (Barcelona), Spain',\n",
       "      'Country': 'ESP',\n",
       "      'State': 'Catalonia',\n",
       "      'County': 'Barcelona',\n",
       "      'City': 'Barcelona',\n",
       "      'District': \"l'Antiga Esquerra de l'Eixample\",\n",
       "      'Street': 'Carrer de València',\n",
       "      'HouseNumber': '156',\n",
       "      'PostalCode': '08011',\n",
       "      'AdditionalData': [{'value': 'Spain', 'key': 'CountryName'},\n",
       "       {'value': 'Catalonia', 'key': 'StateName'},\n",
       "       {'value': 'Barcelona', 'key': 'CountyName'}]},\n",
       "     'CountryName': 'Spain',\n",
       "     'StateName': 'Catalonia',\n",
       "     'CountyName': 'Barcelona'},\n",
       "    'state': 'Catalonia',\n",
       "    'status': 'OK',\n",
       "    'street': 'Carrer de València'},\n",
       "   'bbox': [2.1533717, 41.3850858, 2.1563683, 41.3873342],\n",
       "   'geometry': {'type': 'Point', 'coordinates': [2.15487, 41.38621]}}]}"
      ]
     },
     "execution_count": 34,
     "metadata": {},
     "output_type": "execute_result"
    }
   ],
   "source": [
    "g.geojson"
   ]
  },
  {
   "cell_type": "code",
   "execution_count": 41,
   "metadata": {},
   "outputs": [
    {
     "ename": "NameError",
     "evalue": "name 'geocoder' is not defined",
     "output_type": "error",
     "traceback": [
      "\u001b[0;31m---------------------------------------------------------------------------\u001b[0m",
      "\u001b[0;31mNameError\u001b[0m                                 Traceback (most recent call last)",
      "\u001b[0;32m<ipython-input-41-fe99c185a771>\u001b[0m in \u001b[0;36m<module>\u001b[0;34m()\u001b[0m\n\u001b[0;32m----> 1\u001b[0;31m \u001b[0mg\u001b[0m \u001b[0;34m=\u001b[0m \u001b[0mgeocoder\u001b[0m\u001b[0;34m.\u001b[0m\u001b[0mhere\u001b[0m\u001b[0;34m(\u001b[0m\u001b[0;34m'Valencia 156, Barcelona'\u001b[0m\u001b[0;34m,\u001b[0m\u001b[0mapp_code\u001b[0m\u001b[0;34m=\u001b[0m\u001b[0;34m'PEA9o88_gQwTLBI7fY94Fg'\u001b[0m\u001b[0;34m,\u001b[0m \u001b[0mapp_id\u001b[0m\u001b[0;34m=\u001b[0m\u001b[0;34m'zP4RJAL5bf6UQg8aqC11'\u001b[0m\u001b[0;34m)\u001b[0m\u001b[0;34m\u001b[0m\u001b[0m\n\u001b[0m\u001b[1;32m      2\u001b[0m \u001b[0;34m\u001b[0m\u001b[0m\n\u001b[1;32m      3\u001b[0m \u001b[0;34m\u001b[0m\u001b[0m\n\u001b[1;32m      4\u001b[0m \u001b[0;31m# geocoder.here(location='41.8842,-87.6388,250', prox='41.8842,-87.6388,250', method='reverse', app_code='PEA9o88_gQwTLBI7fY94Fg',\u001b[0m\u001b[0;34m\u001b[0m\u001b[0;34m\u001b[0m\u001b[0m\n\u001b[1;32m      5\u001b[0m \u001b[0;31m#               app_id='zP4RJAL5bf6UQg8aqC11',mode='retrieveAreas')\u001b[0m\u001b[0;34m\u001b[0m\u001b[0;34m\u001b[0m\u001b[0m\n",
      "\u001b[0;31mNameError\u001b[0m: name 'geocoder' is not defined"
     ]
    }
   ],
   "source": [
    "g = geocoder.here('Valencia 156, Barcelona',app_code='PEA9o88_gQwTLBI7fY94Fg', app_id='zP4RJAL5bf6UQg8aqC11')\n",
    "\n",
    "\n",
    "# geocoder.here(location='41.8842,-87.6388,250', prox='41.8842,-87.6388,250', method='reverse', app_code='PEA9o88_gQwTLBI7fY94Fg',\n",
    "#               app_id='zP4RJAL5bf6UQg8aqC11',mode='retrieveAreas')"
   ]
  },
  {
   "cell_type": "code",
   "execution_count": null,
   "metadata": {},
   "outputs": [],
   "source": []
  },
  {
   "cell_type": "code",
   "execution_count": null,
   "metadata": {},
   "outputs": [],
   "source": [
    "g = geocoder.google"
   ]
  },
  {
   "cell_type": "code",
   "execution_count": null,
   "metadata": {},
   "outputs": [],
   "source": [
    "g = geocoder.google"
   ]
  },
  {
   "cell_type": "code",
   "execution_count": 30,
   "metadata": {},
   "outputs": [
    {
     "name": "stdout",
     "output_type": "stream",
     "text": [
      "156\n",
      "08011\n",
      "Carrer de València\n"
     ]
    },
    {
     "ename": "AttributeError",
     "evalue": "'HereResult' object has no attribute 'street_long'",
     "output_type": "error",
     "traceback": [
      "\u001b[0;31m---------------------------------------------------------------------------\u001b[0m",
      "\u001b[0;31mAttributeError\u001b[0m                            Traceback (most recent call last)",
      "\u001b[0;32m<ipython-input-30-bcb1953f387b>\u001b[0m in \u001b[0;36m<module>\u001b[0;34m()\u001b[0m\n\u001b[1;32m      2\u001b[0m \u001b[0mprint\u001b[0m\u001b[0;34m(\u001b[0m\u001b[0mg\u001b[0m\u001b[0;34m.\u001b[0m\u001b[0mpostal\u001b[0m\u001b[0;34m)\u001b[0m\u001b[0;34m\u001b[0m\u001b[0m\n\u001b[1;32m      3\u001b[0m \u001b[0mprint\u001b[0m\u001b[0;34m(\u001b[0m\u001b[0mg\u001b[0m\u001b[0;34m.\u001b[0m\u001b[0mstreet\u001b[0m\u001b[0;34m)\u001b[0m\u001b[0;34m\u001b[0m\u001b[0m\n\u001b[0;32m----> 4\u001b[0;31m \u001b[0mprint\u001b[0m\u001b[0;34m(\u001b[0m\u001b[0mg\u001b[0m\u001b[0;34m.\u001b[0m\u001b[0mstreet_long\u001b[0m\u001b[0;34m)\u001b[0m\u001b[0;34m\u001b[0m\u001b[0m\n\u001b[0m",
      "\u001b[0;32m~/anaconda3/lib/python3.6/site-packages/geocoder/base.py\u001b[0m in \u001b[0;36m__getattr__\u001b[0;34m(self, name)\u001b[0m\n\u001b[1;32m    604\u001b[0m                 \u001b[0mname\u001b[0m\u001b[0;34m,\u001b[0m \u001b[0mself\u001b[0m\u001b[0;34m.\u001b[0m\u001b[0m__class__\u001b[0m\u001b[0;34m.\u001b[0m\u001b[0m__name__\u001b[0m\u001b[0;34m\u001b[0m\u001b[0m\n\u001b[1;32m    605\u001b[0m             ))\n\u001b[0;32m--> 606\u001b[0;31m         \u001b[0;32mreturn\u001b[0m \u001b[0mgetattr\u001b[0m\u001b[0;34m(\u001b[0m\u001b[0mself\u001b[0m\u001b[0;34m.\u001b[0m\u001b[0mcurrent_result\u001b[0m\u001b[0;34m,\u001b[0m \u001b[0mname\u001b[0m\u001b[0;34m)\u001b[0m\u001b[0;34m\u001b[0m\u001b[0m\n\u001b[0m",
      "\u001b[0;31mAttributeError\u001b[0m: 'HereResult' object has no attribute 'street_long'"
     ]
    }
   ],
   "source": [
    "print(g.housenumber)\n",
    "print(g.postal)\n",
    "print(g.street)\n",
    "print(g.street_long)"
   ]
  },
  {
   "cell_type": "code",
   "execution_count": null,
   "metadata": {},
   "outputs": [],
   "source": []
  }
 ],
 "metadata": {
  "kernelspec": {
   "display_name": "Python 3",
   "language": "python",
   "name": "python3"
  },
  "language_info": {
   "codemirror_mode": {
    "name": "ipython",
    "version": 3
   },
   "file_extension": ".py",
   "mimetype": "text/x-python",
   "name": "python",
   "nbconvert_exporter": "python",
   "pygments_lexer": "ipython3",
   "version": "3.6.5"
  }
 },
 "nbformat": 4,
 "nbformat_minor": 2
}
