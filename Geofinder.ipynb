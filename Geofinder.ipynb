{
 "cells": [
  {
   "cell_type": "code",
   "execution_count": 2,
   "metadata": {},
   "outputs": [],
   "source": [
    "from geopy.geocoders import Here\n",
    "import json"
   ]
  },
  {
   "cell_type": "code",
   "execution_count": 3,
   "metadata": {},
   "outputs": [],
   "source": [
    "with open('../accounts.json') as json_file:  \n",
    "    data = json.load(json_file)"
   ]
  },
  {
   "cell_type": "code",
   "execution_count": 4,
   "metadata": {},
   "outputs": [],
   "source": [
    "app_code = data['accounts']['Here']['app_code']\n",
    "app_id = data['accounts']['Here']['app_id']\n",
    "user_agent = data['accounts']['Here']['user_agent']\n",
    "here = Here(app_code=app_code, app_id=app_id,user_agent=user_agent)"
   ]
  },
  {
   "cell_type": "code",
   "execution_count": 5,
   "metadata": {},
   "outputs": [],
   "source": [
    "location = here.geocode('Carrer de Valencia 156')"
   ]
  },
  {
   "cell_type": "code",
   "execution_count": 6,
   "metadata": {},
   "outputs": [
    {
     "data": {
      "text/plain": [
       "{'Relevance': 1.0,\n",
       " 'MatchLevel': 'houseNumber',\n",
       " 'MatchQuality': {'Street': [1.0], 'HouseNumber': 1.0},\n",
       " 'MatchType': 'pointAddress',\n",
       " 'Location': {'LocationId': 'NT_zAoUPgE4U3XaRhy2nApOGB_xUjN',\n",
       "  'LocationType': 'point',\n",
       "  'DisplayPosition': {'Latitude': 41.38621, 'Longitude': 2.15487},\n",
       "  'NavigationPosition': [{'Latitude': 41.38628, 'Longitude': 2.15476}],\n",
       "  'MapView': {'TopLeft': {'Latitude': 41.3873342, 'Longitude': 2.1533717},\n",
       "   'BottomRight': {'Latitude': 41.3850858, 'Longitude': 2.1563683}},\n",
       "  'Address': {'Label': 'Carrer de València, 156, 08011 Barcelona (Barcelona), Espanya',\n",
       "   'Country': 'ESP',\n",
       "   'State': 'Catalunya',\n",
       "   'County': 'Barcelona',\n",
       "   'City': 'Barcelona',\n",
       "   'District': \"l'Antiga Esquerra de l'Eixample\",\n",
       "   'Street': 'Carrer de València',\n",
       "   'HouseNumber': '156',\n",
       "   'PostalCode': '08011',\n",
       "   'AdditionalData': [{'value': 'Espanya', 'key': 'CountryName'},\n",
       "    {'value': 'Catalunya', 'key': 'StateName'},\n",
       "    {'value': 'Barcelona', 'key': 'CountyName'}]}}}"
      ]
     },
     "execution_count": 6,
     "metadata": {},
     "output_type": "execute_result"
    }
   ],
   "source": [
    "location.raw"
   ]
  },
  {
   "cell_type": "code",
   "execution_count": 7,
   "metadata": {},
   "outputs": [
    {
     "data": {
      "text/plain": [
       "geopy.location.Location"
      ]
     },
     "execution_count": 7,
     "metadata": {},
     "output_type": "execute_result"
    }
   ],
   "source": [
    "type(location)"
   ]
  },
  {
   "cell_type": "code",
   "execution_count": 8,
   "metadata": {},
   "outputs": [
    {
     "data": {
      "text/plain": [
       "\"l'Antiga Esquerra de l'Eixample\""
      ]
     },
     "execution_count": 8,
     "metadata": {},
     "output_type": "execute_result"
    }
   ],
   "source": [
    "\n",
    "# location.point['Address']['District']\n",
    "location.raw['Location']['Address']['District']"
   ]
  },
  {
   "cell_type": "code",
   "execution_count": 13,
   "metadata": {},
   "outputs": [],
   "source": [
    "import telluric as tl\n",
    "from telluric.constants import WGS84_CRS, WEB_MERCATOR_CRS"
   ]
  },
  {
   "cell_type": "code",
   "execution_count": 10,
   "metadata": {},
   "outputs": [
    {
     "data": {
      "text/plain": [
       "Point(41.38621, 2.15487, 0.0)"
      ]
     },
     "execution_count": 10,
     "metadata": {},
     "output_type": "execute_result"
    }
   ],
   "source": [
    "location.point."
   ]
  },
  {
   "cell_type": "code",
   "execution_count": 37,
   "metadata": {},
   "outputs": [
    {
     "name": "stderr",
     "output_type": "stream",
     "text": [
      "/Users/seba/anaconda3/lib/python3.6/site-packages/telluric/plotting.py:171: UserWarning: Plotting a limited representation of the data, use the .plot() method for further customization\n",
      "  \"Plotting a limited representation of the data, use the .plot() method for further customization\")\n"
     ]
    },
    {
     "data": {
      "image/svg+xml": [
       "<svg xmlns=\"http://www.w3.org/2000/svg\" xmlns:xlink=\"http://www.w3.org/1999/xlink\" width=\"300\" height=\"300\" viewBox=\"238799.03112570007 5068395.537196364 2160.0 2160.0\" preserveAspectRatio=\"xMinYMin meet\"><g transform=\"matrix(1,0,0,-1,0,10138951.074392729)\"><path fill-rule=\"evenodd\" fill=\"#66cc99\" stroke=\"#555555\" stroke-width=\"14.4\" opacity=\"0.6\" d=\"M 240879.03112570007,5069475.537196364 L 240874.21585237226,5069377.520056034 L 240859.81640610332,5069280.446874348 L 240835.9714614323,5069185.25251911 L 240802.91065821136,5069092.853763999 L 240760.95239004842,5069004.140459538 L 240710.50073800262,5068919.966963344 L 240652.04157906282,5068841.143912201 L 240586.1379068866,5068768.430415178 L 240513.4244098637,5068702.526743001 L 240434.60135871966,5068644.067584062 L 240350.42786252606,5068593.615932016 L 240261.71455806517,5068551.657663853 L 240169.31580295454,5068518.596860632 L 240074.1214477162,5068494.751915961 L 239977.04826602963,5068480.352469692 L 239879.03112570007,5068475.537196364 L 239781.01398537052,5068480.352469692 L 239683.94080368394,5068494.751915961 L 239588.7464484456,5068518.596860632 L 239496.34769333497,5068551.657663853 L 239407.63438887408,5068593.615932016 L 239323.46089268048,5068644.067584062 L 239244.63784153643,5068702.526743001 L 239171.92434451354,5068768.430415178 L 239106.02067233733,5068841.143912201 L 239047.56151339752,5068919.966963344 L 238997.10986135172,5069004.140459538 L 238955.15159318878,5069092.853763999 L 238922.09078996786,5069185.25251911 L 238898.24584529683,5069280.446874348 L 238883.84639902788,5069377.520056034 L 238879.03112570007,5069475.537196364 L 238883.84639902788,5069573.554336694 L 238898.24584529683,5069670.62751838 L 238922.09078996786,5069765.821873618 L 238955.15159318878,5069858.220628729 L 238997.10986135172,5069946.93393319 L 239047.56151339752,5070031.107429384 L 239106.02067233733,5070109.930480528 L 239171.92434451354,5070182.643977551 L 239244.63784153643,5070248.547649727 L 239323.46089268048,5070307.0068086665 L 239407.63438887408,5070357.458460713 L 239496.34769333497,5070399.416728876 L 239588.7464484456,5070432.477532096 L 239683.94080368394,5070456.322476768 L 239781.01398537052,5070470.7219230365 L 239879.03112570007,5070475.537196364 L 239977.04826602963,5070470.7219230365 L 240074.1214477162,5070456.322476768 L 240169.31580295454,5070432.477532096 L 240261.71455806517,5070399.416728876 L 240350.42786252606,5070357.458460713 L 240434.60135871966,5070307.0068086665 L 240513.4244098637,5070248.547649727 L 240586.1379068866,5070182.643977551 L 240652.04157906282,5070109.930480528 L 240710.50073800262,5070031.107429384 L 240760.95239004842,5069946.93393319 L 240802.91065821136,5069858.220628729 L 240835.9714614323,5069765.821873618 L 240859.8164061033,5069670.62751838 L 240874.21585237226,5069573.554336694 L 240879.03112570007,5069475.537196364 z\" /></g></svg>"
      ],
      "text/html": [
       "<div style=\"width:100%;\"><div style=\"position:relative;width:100%;height:0;padding-bottom:60%;\"><iframe src=\"data:text/html;charset=utf-8;base64,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\" style=\"position:absolute;width:100%;height:100%;left:0;top:0;border:none !important;\" allowfullscreen webkitallowfullscreen mozallowfullscreen></iframe></div></div>"
      ],
      "text/plain": [
       "GeoVector(shape=POLYGON ((240879.0311257001 5069475.537196364, 240874.2158523723 5069377.520056034, 240859.8164061033 5069280.446874348, 240835.9714614323 5069185.25251911, 240802.9106582114 5069092.853763999, 240760.9523900484 5069004.140459538, 240710.5007380026 5068919.966963344, 240652.0415790628 5068841.143912201, 240586.1379068866 5068768.430415178, 240513.4244098637 5068702.526743001, 240434.6013587197 5068644.067584062, 240350.4278625261 5068593.615932016, 240261.7145580652 5068551.657663853, 240169.3158029545 5068518.596860632, 240074.1214477162 5068494.751915961, 239977.0482660296 5068480.352469692, 239879.0311257001 5068475.537196364, 239781.0139853705 5068480.352469692, 239683.9408036839 5068494.751915961, 239588.7464484456 5068518.596860632, 239496.347693335 5068551.657663853, 239407.6343888741 5068593.615932016, 239323.4608926805 5068644.067584062, 239244.6378415364 5068702.526743001, 239171.9243445135 5068768.430415178, 239106.0206723373 5068841.143912201, 239047.5615133975 5068919.966963344, 238997.1098613517 5069004.140459538, 238955.1515931888 5069092.853763999, 238922.0907899679 5069185.25251911, 238898.2458452968 5069280.446874348, 238883.8463990279 5069377.520056034, 238879.0311257001 5069475.537196364, 238883.8463990279 5069573.554336694, 238898.2458452968 5069670.62751838, 238922.0907899679 5069765.821873618, 238955.1515931888 5069858.220628729, 238997.1098613517 5069946.93393319, 239047.5615133975 5070031.107429384, 239106.0206723373 5070109.930480528, 239171.9243445135 5070182.643977551, 239244.6378415364 5070248.547649727, 239323.4608926805 5070307.006808667, 239407.6343888741 5070357.458460713, 239496.347693335 5070399.416728876, 239588.7464484456 5070432.477532096, 239683.9408036839 5070456.322476768, 239781.0139853705 5070470.721923037, 239879.0311257001 5070475.537196364, 239977.0482660296 5070470.721923037, 240074.1214477162 5070456.322476768, 240169.3158029545 5070432.477532096, 240261.7145580652 5070399.416728876, 240350.4278625261 5070357.458460713, 240434.6013587197 5070307.006808667, 240513.4244098637 5070248.547649727, 240586.1379068866 5070182.643977551, 240652.0415790628 5070109.930480528, 240710.5007380026 5070031.107429384, 240760.9523900484 5069946.93393319, 240802.9106582114 5069858.220628729, 240835.9714614323 5069765.821873618, 240859.8164061033 5069670.62751838, 240874.2158523723 5069573.554336694, 240879.0311257001 5069475.537196364)), crs=EPSG:3857)"
      ]
     },
     "execution_count": 37,
     "metadata": {},
     "output_type": "execute_result"
    }
   ],
   "source": [
    "(\n",
    "    tl.GeoVector.point(location.point.longitude, location.point.latitude)\n",
    "    .reproject(WEB_MERCATOR_CRS)\n",
    "    .buffer(1000)\n",
    ")"
   ]
  },
  {
   "cell_type": "code",
   "execution_count": null,
   "metadata": {},
   "outputs": [],
   "source": [
    "_.to_record(WGS84_CRS)"
   ]
  },
  {
   "cell_type": "code",
   "execution_count": 25,
   "metadata": {},
   "outputs": [],
   "source": [
    "locations = here.reverse(location.point, 1200, exactly_one=False,maxresults=100)"
   ]
  },
  {
   "cell_type": "code",
   "execution_count": 35,
   "metadata": {},
   "outputs": [
    {
     "data": {
      "text/plain": [
       "\"l'Antiga Esquerra de l'Eixample\""
      ]
     },
     "execution_count": 35,
     "metadata": {},
     "output_type": "execute_result"
    }
   ],
   "source": [
    "locations[52].raw['Location']['Address']['District']"
   ]
  },
  {
   "cell_type": "code",
   "execution_count": 110,
   "metadata": {},
   "outputs": [],
   "source": [
    "chicos_place = here.geocode('Universitat 14, Barcelona')"
   ]
  },
  {
   "cell_type": "code",
   "execution_count": 111,
   "metadata": {},
   "outputs": [
    {
     "data": {
      "text/plain": [
       "{'Relevance': 1.0,\n",
       " 'MatchLevel': 'houseNumber',\n",
       " 'MatchQuality': {'City': 1.0, 'Street': [0.9], 'HouseNumber': 1.0},\n",
       " 'MatchType': 'pointAddress',\n",
       " 'Location': {'LocationId': 'NT_CqK9A7WbaytSUW7RPD.B9C_xQD',\n",
       "  'LocationType': 'point',\n",
       "  'DisplayPosition': {'Latitude': 41.38666, 'Longitude': 2.16702},\n",
       "  'NavigationPosition': [{'Latitude': 41.3868, 'Longitude': 2.16692}],\n",
       "  'MapView': {'TopLeft': {'Latitude': 41.3877842, 'Longitude': 2.1655217},\n",
       "   'BottomRight': {'Latitude': 41.3855358, 'Longitude': 2.1685183}},\n",
       "  'Address': {'Label': 'Ronda de la Universitat, 14, 08007 Barcelona (Barcelona), Espanya',\n",
       "   'Country': 'ESP',\n",
       "   'State': 'Catalunya',\n",
       "   'County': 'Barcelona',\n",
       "   'City': 'Barcelona',\n",
       "   'District': \"Dreta de l'Eixample\",\n",
       "   'Street': 'Ronda de la Universitat',\n",
       "   'HouseNumber': '14',\n",
       "   'PostalCode': '08007',\n",
       "   'AdditionalData': [{'value': 'Espanya', 'key': 'CountryName'},\n",
       "    {'value': 'Catalunya', 'key': 'StateName'},\n",
       "    {'value': 'Barcelona', 'key': 'CountyName'}]}}}"
      ]
     },
     "execution_count": 111,
     "metadata": {},
     "output_type": "execute_result"
    }
   ],
   "source": [
    "chicos_place.raw"
   ]
  },
  {
   "cell_type": "code",
   "execution_count": null,
   "metadata": {},
   "outputs": [],
   "source": []
  }
 ],
 "metadata": {
  "kernelspec": {
   "display_name": "Python 3",
   "language": "python",
   "name": "python3"
  },
  "language_info": {
   "codemirror_mode": {
    "name": "ipython",
    "version": 3
   },
   "file_extension": ".py",
   "mimetype": "text/x-python",
   "name": "python",
   "nbconvert_exporter": "python",
   "pygments_lexer": "ipython3",
   "version": "3.6.5"
  }
 },
 "nbformat": 4,
 "nbformat_minor": 2
}
