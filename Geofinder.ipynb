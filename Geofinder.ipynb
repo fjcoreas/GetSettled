{
 "cells": [
  {
   "cell_type": "code",
   "execution_count": 10,
   "metadata": {},
   "outputs": [],
   "source": [
    "from geopy.geocoders import Here\n",
    "import json"
   ]
  },
  {
   "cell_type": "code",
   "execution_count": 11,
   "metadata": {},
   "outputs": [],
   "source": [
    "with open('../accounts.json') as json_file:  \n",
    "    data = json.load(json_file)"
   ]
  },
  {
   "cell_type": "code",
   "execution_count": 12,
   "metadata": {},
   "outputs": [],
   "source": [
    "app_code = data['accounts']['Here']['app_code']\n",
    "app_id = data['accounts']['Here']['app_id']\n",
    "user_agent = data['accounts']['Here']['user_agent']\n",
    "here = Here(app_code=app_code, app_id=app_id,user_agent=user_agent)"
   ]
  },
  {
   "cell_type": "code",
   "execution_count": 13,
   "metadata": {},
   "outputs": [],
   "source": [
    "location = here.geocode('Carrer de Valencia 156')"
   ]
  },
  {
   "cell_type": "code",
   "execution_count": 6,
   "metadata": {},
   "outputs": [],
   "source": [
    "import telluric as tl\n",
    "from telluric.constants import WGS84_CRS, WEB_MERCATOR_CRS"
   ]
  },
  {
   "cell_type": "code",
   "execution_count": 7,
   "metadata": {},
   "outputs": [
    {
     "ename": "AttributeError",
     "evalue": "'list' object has no attribute 'to_record'",
     "output_type": "error",
     "traceback": [
      "\u001b[0;31m---------------------------------------------------------------------------\u001b[0m",
      "\u001b[0;31mAttributeError\u001b[0m                            Traceback (most recent call last)",
      "\u001b[0;32m<ipython-input-7-5ddbe7e3ba9c>\u001b[0m in \u001b[0;36m<module>\u001b[0;34m()\u001b[0m\n\u001b[0;32m----> 1\u001b[0;31m \u001b[0mcoordinates\u001b[0m \u001b[0;34m=\u001b[0m \u001b[0m_\u001b[0m\u001b[0;34m.\u001b[0m\u001b[0mto_record\u001b[0m\u001b[0;34m(\u001b[0m\u001b[0mWGS84_CRS\u001b[0m\u001b[0;34m)\u001b[0m\u001b[0;34m\u001b[0m\u001b[0m\n\u001b[0m",
      "\u001b[0;31mAttributeError\u001b[0m: 'list' object has no attribute 'to_record'"
     ]
    }
   ],
   "source": [
    "coordinates = _.to_record(WGS84_CRS)"
   ]
  },
  {
   "cell_type": "code",
   "execution_count": 14,
   "metadata": {},
   "outputs": [],
   "source": [
    "a = here.reverse(location.point)\n",
    "\n"
   ]
  },
  {
   "cell_type": "code",
   "execution_count": 19,
   "metadata": {},
   "outputs": [
    {
     "data": {
      "text/plain": [
       "\"l'Antiga Esquerra de l'Eixample\""
      ]
     },
     "execution_count": 19,
     "metadata": {},
     "output_type": "execute_result"
    }
   ],
   "source": [
    "a.raw['Location']['Address']['District']"
   ]
  },
  {
   "cell_type": "code",
   "execution_count": null,
   "metadata": {},
   "outputs": [],
   "source": []
  },
  {
   "cell_type": "code",
   "execution_count": 8,
   "metadata": {},
   "outputs": [
    {
     "ename": "NameError",
     "evalue": "name 'gv1' is not defined",
     "output_type": "error",
     "traceback": [
      "\u001b[0;31m---------------------------------------------------------------------------\u001b[0m",
      "\u001b[0;31mNameError\u001b[0m                                 Traceback (most recent call last)",
      "\u001b[0;32m<ipython-input-8-8f70f3fce437>\u001b[0m in \u001b[0;36m<module>\u001b[0;34m()\u001b[0m\n\u001b[0;32m----> 1\u001b[0;31m \u001b[0mgv1\u001b[0m\u001b[0;34m.\u001b[0m\u001b[0mto_record\u001b[0m\u001b[0;34m(\u001b[0m\u001b[0mWGS84_CRS\u001b[0m\u001b[0;34m)\u001b[0m\u001b[0;34m\u001b[0m\u001b[0m\n\u001b[0m",
      "\u001b[0;31mNameError\u001b[0m: name 'gv1' is not defined"
     ]
    }
   ],
   "source": [
    "gv1.to_record(WGS84_CRS)"
   ]
  },
  {
   "cell_type": "code",
   "execution_count": 255,
   "metadata": {},
   "outputs": [],
   "source": [
    "a = []"
   ]
  },
  {
   "cell_type": "code",
   "execution_count": 226,
   "metadata": {},
   "outputs": [],
   "source": [
    "coordinates = _.to_record(WGS84_CRS)"
   ]
  },
  {
   "cell_type": "code",
   "execution_count": 17,
   "metadata": {},
   "outputs": [],
   "source": [
    "g=tl.GeoVector.point(location.point.longitude, location.point.latitude, crs=WGS84_CRS).reproject(WEB_MERCATOR_CRS).buffer(500)"
   ]
  },
  {
   "cell_type": "code",
   "execution_count": 18,
   "metadata": {},
   "outputs": [
    {
     "name": "stderr",
     "output_type": "stream",
     "text": [
      "/Users/seba/anaconda3/lib/python3.6/site-packages/telluric/plotting.py:171: UserWarning: Plotting a limited representation of the data, use the .plot() method for further customization\n",
      "  \"Plotting a limited representation of the data, use the .plot() method for further customization\")\n"
     ]
    },
    {
     "data": {
      "image/svg+xml": [
       "<svg xmlns=\"http://www.w3.org/2000/svg\" xmlns:xlink=\"http://www.w3.org/1999/xlink\" width=\"300\" height=\"300\" viewBox=\"239339.03112570007 5068935.537196364 1080.0 1080.0\" preserveAspectRatio=\"xMinYMin meet\"><g transform=\"matrix(1,0,0,-1,0,10138951.074392729)\"><path fill-rule=\"evenodd\" fill=\"#66cc99\" stroke=\"#555555\" stroke-width=\"7.2\" opacity=\"0.6\" d=\"M 240379.03112570007,5069475.537196364 L 240376.62348903617,5069426.5286262 L 240369.42376590168,5069377.992035356 L 240357.50129356617,5069330.394857737 L 240340.97089195572,5069284.195480182 L 240319.99175787426,5069239.838827951 L 240294.76593185135,5069197.752079855 L 240265.53635238143,5069158.340554282 L 240232.58451629334,5069121.983805771 L 240196.2277677819,5069089.031969683 L 240156.81624220987,5069059.802390213 L 240114.72949411307,5069034.57656419 L 240070.3728418826,5069013.597430109 L 240024.1734643273,5068997.067028498 L 239976.57628670815,5068985.144556163 L 239928.03969586486,5068977.944833028 L 239879.03112570007,5068975.537196364 L 239830.02255553528,5068977.944833028 L 239781.48596469202,5068985.144556163 L 239733.88878707285,5068997.067028498 L 239687.68940951754,5069013.597430109 L 239643.33275728708,5069034.57656419 L 239601.24600919028,5069059.802390213 L 239561.83448361824,5069089.031969683 L 239525.4777351068,5069121.983805771 L 239492.5258990187,5069158.340554282 L 239463.2963195488,5069197.752079855 L 239438.07049352588,5069239.838827951 L 239417.09135944443,5069284.195480182 L 239400.56095783398,5069330.394857737 L 239388.63848549846,5069377.992035356 L 239381.43876236398,5069426.5286262 L 239379.03112570007,5069475.537196364 L 239381.43876236398,5069524.545766529 L 239388.63848549846,5069573.082357372 L 239400.56095783398,5069620.679534991 L 239417.09135944443,5069666.878912547 L 239438.07049352588,5069711.235564778 L 239463.2963195488,5069753.322312874 L 239492.5258990187,5069792.733838446 L 239525.4777351068,5069829.0905869575 L 239561.83448361824,5069862.042423045 L 239601.24600919028,5069891.272002515 L 239643.33275728708,5069916.4978285385 L 239687.68940951754,5069937.476962619 L 239733.88878707285,5069954.00736423 L 239781.485964692,5069965.929836566 L 239830.02255553528,5069973.1295597 L 239879.03112570007,5069975.537196364 L 239928.03969586486,5069973.1295597 L 239976.57628670812,5069965.929836566 L 240024.1734643273,5069954.00736423 L 240070.3728418826,5069937.476962619 L 240114.72949411307,5069916.4978285385 L 240156.81624220987,5069891.272002515 L 240196.22776778188,5069862.042423045 L 240232.58451629334,5069829.0905869575 L 240265.53635238143,5069792.733838446 L 240294.76593185135,5069753.322312874 L 240319.99175787426,5069711.235564778 L 240340.97089195572,5069666.878912547 L 240357.50129356617,5069620.679534991 L 240369.42376590168,5069573.082357372 L 240376.62348903617,5069524.545766529 L 240379.03112570007,5069475.537196364 z\" /></g></svg>"
      ],
      "text/html": [
       "<div style=\"width:100%;\"><div style=\"position:relative;width:100%;height:0;padding-bottom:60%;\"><iframe src=\"data:text/html;charset=utf-8;base64,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\" style=\"position:absolute;width:100%;height:100%;left:0;top:0;border:none !important;\" allowfullscreen webkitallowfullscreen mozallowfullscreen></iframe></div></div>"
      ],
      "text/plain": [
       "GeoVector(shape=POLYGON ((240379.0311257001 5069475.537196364, 240376.6234890362 5069426.5286262, 240369.4237659017 5069377.992035356, 240357.5012935662 5069330.394857737, 240340.9708919557 5069284.195480182, 240319.9917578743 5069239.838827951, 240294.7659318513 5069197.752079855, 240265.5363523814 5069158.340554282, 240232.5845162933 5069121.983805771, 240196.2277677819 5069089.031969683, 240156.8162422099 5069059.802390213, 240114.7294941131 5069034.57656419, 240070.3728418826 5069013.597430109, 240024.1734643273 5068997.067028498, 239976.5762867082 5068985.144556163, 239928.0396958649 5068977.944833028, 239879.0311257001 5068975.537196364, 239830.0225555353 5068977.944833028, 239781.485964692 5068985.144556163, 239733.8887870729 5068997.067028498, 239687.6894095175 5069013.597430109, 239643.3327572871 5069034.57656419, 239601.2460091903 5069059.802390213, 239561.8344836182 5069089.031969683, 239525.4777351068 5069121.983805771, 239492.5258990187 5069158.340554282, 239463.2963195488 5069197.752079855, 239438.0704935259 5069239.838827951, 239417.0913594444 5069284.195480182, 239400.560957834 5069330.394857737, 239388.6384854985 5069377.992035356, 239381.438762364 5069426.5286262, 239379.0311257001 5069475.537196364, 239381.438762364 5069524.545766529, 239388.6384854985 5069573.082357372, 239400.560957834 5069620.679534991, 239417.0913594444 5069666.878912547, 239438.0704935259 5069711.235564778, 239463.2963195488 5069753.322312874, 239492.5258990187 5069792.733838446, 239525.4777351068 5069829.090586958, 239561.8344836182 5069862.042423045, 239601.2460091903 5069891.272002515, 239643.3327572871 5069916.497828539, 239687.6894095175 5069937.476962619, 239733.8887870729 5069954.00736423, 239781.485964692 5069965.929836566, 239830.0225555353 5069973.1295597, 239879.0311257001 5069975.537196364, 239928.0396958649 5069973.1295597, 239976.5762867081 5069965.929836566, 240024.1734643273 5069954.00736423, 240070.3728418826 5069937.476962619, 240114.7294941131 5069916.497828539, 240156.8162422099 5069891.272002515, 240196.2277677819 5069862.042423045, 240232.5845162933 5069829.090586958, 240265.5363523814 5069792.733838446, 240294.7659318513 5069753.322312874, 240319.9917578743 5069711.235564778, 240340.9708919557 5069666.878912547, 240357.5012935662 5069620.679534991, 240369.4237659017 5069573.082357372, 240376.6234890362 5069524.545766529, 240379.0311257001 5069475.537196364)), crs=EPSG:3857)"
      ]
     },
     "execution_count": 18,
     "metadata": {},
     "output_type": "execute_result"
    }
   ],
   "source": [
    "g"
   ]
  },
  {
   "cell_type": "code",
   "execution_count": 10,
   "metadata": {},
   "outputs": [],
   "source": [
    "\n",
    "def get_cirlce_location(location, distance):\n",
    "    return (tl.GeoVector.point(location.longitude, location.latitude)\n",
    "            .reproject(WEB_MERCATOR_CRS)\n",
    "            .buffer(distance)\n",
    "            .to_record(WGS84_CRS)['coordinates'][0]\n",
    "        )\n",
    "\n",
    "def get_circles_locations(location, distance=1000):\n",
    "    outer_circle = distance + 400\n",
    "    coordinates = []\n",
    "    while distance > 0:\n",
    "        coordinates.append(get_cirlce_location(location, distance))\n",
    "        distance -= 350\n",
    "    coordinates.append(get_cirlce_location(location, outer_circle))\n",
    "    return coordinates\n",
    "    \n",
    "        "
   ]
  },
  {
   "cell_type": "code",
   "execution_count": 321,
   "metadata": {},
   "outputs": [],
   "source": [
    "coordinates = get_circles_locations(location.point,2000)"
   ]
  },
  {
   "cell_type": "code",
   "execution_count": 322,
   "metadata": {},
   "outputs": [],
   "source": [
    "circle_coordinates = []"
   ]
  },
  {
   "cell_type": "code",
   "execution_count": 323,
   "metadata": {},
   "outputs": [],
   "source": [
    "for coordinate in coordinates:\n",
    "    for i in range(8,65,8):\n",
    "        coord = coordinate[i]\n",
    "        circle_coordinates.append([coord[::-1][0],coord[::-1][1]])"
   ]
  },
  {
   "cell_type": "code",
   "execution_count": 324,
   "metadata": {},
   "outputs": [
    {
     "data": {
      "text/plain": [
       "56"
      ]
     },
     "execution_count": 324,
     "metadata": {},
     "output_type": "execute_result"
    }
   ],
   "source": [
    "len(circle_coordinates)"
   ]
  },
  {
   "cell_type": "code",
   "execution_count": 300,
   "metadata": {},
   "outputs": [
    {
     "data": {
      "text/plain": [
       "['41.38929754601201', '2.190800296580879']"
      ]
     },
     "execution_count": 300,
     "metadata": {},
     "output_type": "execute_result"
    }
   ],
   "source": [
    "coordenadas[1]"
   ]
  },
  {
   "cell_type": "code",
   "execution_count": 295,
   "metadata": {},
   "outputs": [],
   "source": [
    "coordenadas = [['lat_dms','lon_dms']]"
   ]
  },
  {
   "cell_type": "code",
   "execution_count": 329,
   "metadata": {},
   "outputs": [],
   "source": [
    "coordenadas.insert(0,[location.point.latitude,location.point.longitude])\n",
    "coordenadas.insert(0,['lat_dms','lon_dms'])"
   ]
  },
  {
   "cell_type": "code",
   "execution_count": 330,
   "metadata": {},
   "outputs": [],
   "source": [
    "import csv\n",
    "# coordenadas = circle_coordinates\n",
    "# coordenadas.append\n",
    "with open(\"output.csv\", \"w\") as f:\n",
    "    writer = csv.writer(f)\n",
    "    for coord in coordenadas:\n",
    "        writer.writerow(coord)"
   ]
  },
  {
   "cell_type": "code",
   "execution_count": 305,
   "metadata": {},
   "outputs": [],
   "source": [
    "from geopy.geocoders import Nominatim\n",
    "import time\n",
    "from collections import Counter\n",
    "geolocator = Nominatim(user_agent=\"get_setlled\")\n"
   ]
  },
  {
   "cell_type": "code",
   "execution_count": 308,
   "metadata": {},
   "outputs": [],
   "source": [
    "address = []\n",
    "for coord in circle_coordinates:\n",
    "    address.append(geolocator.reverse(coord))\n",
    "    time.sleep(3)"
   ]
  },
  {
   "cell_type": "code",
   "execution_count": 314,
   "metadata": {},
   "outputs": [],
   "source": [
    "neighborhouds = []\n",
    "for suburb in address:\n",
    "    neighborhouds.append(suburb.raw['address']['suburb'])"
   ]
  },
  {
   "cell_type": "code",
   "execution_count": 316,
   "metadata": {},
   "outputs": [],
   "source": [
    "from collections import Counter"
   ]
  },
  {
   "cell_type": "code",
   "execution_count": 347,
   "metadata": {},
   "outputs": [
    {
     "data": {
      "text/plain": [
       "[(\"la Dreta de l'Eixample\", 14),\n",
       " (\"el Camp d'en Grassot i Gràcia Nova\", 6),\n",
       " ('el Fort Pienc', 6),\n",
       " ('la Sagrada Família', 5),\n",
       " ('el Clot', 4),\n",
       " ('Sant Pere, Santa Caterina i la Ribera', 4),\n",
       " ('la Vila Olímpica del Poblenou', 3),\n",
       " ('el Parc i la Llacuna del Poblenou', 3),\n",
       " ('el Gòtic', 2),\n",
       " ('la Vila de Gràcia', 2),\n",
       " ('el Poblenou', 2),\n",
       " ('Navas', 2),\n",
       " ('el Baix Guinardó', 1),\n",
       " (\"el Camp de l'Arpa del Clot\", 1),\n",
       " (\"la Nova Esquerra de l'Eixample\", 1)]"
      ]
     },
     "execution_count": 347,
     "metadata": {},
     "output_type": "execute_result"
    }
   ],
   "source": [
    "Counter(neighborhouds).most_common(15)"
   ]
  },
  {
   "cell_type": "code",
   "execution_count": null,
   "metadata": {},
   "outputs": [],
   "source": []
  },
  {
   "cell_type": "code",
   "execution_count": 318,
   "metadata": {},
   "outputs": [
    {
     "data": {
      "text/plain": [
       "Location(Sheyma, Carrer de la Diputació, la Dreta de l'Eixample, Eixample, Barcelona, BCN, CAT, 08007, España, (41.3988279, 2.1780962, 0.0))"
      ]
     },
     "execution_count": 318,
     "metadata": {},
     "output_type": "execute_result"
    }
   ],
   "source": [
    "location"
   ]
  },
  {
   "cell_type": "code",
   "execution_count": null,
   "metadata": {},
   "outputs": [],
   "source": []
  },
  {
   "cell_type": "code",
   "execution_count": null,
   "metadata": {},
   "outputs": [],
   "source": []
  },
  {
   "cell_type": "code",
   "execution_count": 27,
   "metadata": {},
   "outputs": [],
   "source": [
    "locations = here.reverse(location.point)"
   ]
  },
  {
   "cell_type": "code",
   "execution_count": 15,
   "metadata": {},
   "outputs": [
    {
     "data": {
      "text/plain": [
       "[Location(Carrer de València, 156, 08011 Barcelona (Barcelona), Espanya, Barcelona, Catalunya 08011, ESP, (41.38628, 2.15476, 0.0)),\n",
       " Location(Carrer de València, 158, 08011 Barcelona (Barcelona), Espanya, Barcelona, Catalunya 08011, ESP, (41.3864501, 2.1549867, 0.0)),\n",
       " Location(Carrer de Villarroel, 127, 08011 Barcelona (Barcelona), Espanya, Barcelona, Catalunya 08011, ESP, (41.38638, 2.15526, 0.0)),\n",
       " Location(Carrer de Villarroel, 125, 08011 Barcelona (Barcelona), Espanya, Barcelona, Catalunya 08011, ESP, (41.3863, 2.15536, 0.0)),\n",
       " Location(Carrer de Villarroel, 129, 08036 Barcelona (Barcelona), Espanya, Barcelona, Catalunya 08036, ESP, (41.38663, 2.15493, 0.0)),\n",
       " Location(Carrer de València, 146, 08011 Barcelona (Barcelona), Espanya, Barcelona, Catalunya 08011, ESP, (41.38605, 2.15447, 0.0)),\n",
       " Location(Avinguda de Roma, 125, 08011 Barcelona (Barcelona), Espanya, Barcelona, Catalunya 08011, ESP, (41.38583, 2.15514, 0.0)),\n",
       " Location(Carrer de Villarroel, 131, 08036 Barcelona (Barcelona), Espanya, Barcelona, Catalunya 08036, ESP, (41.38672, 2.15483, 0.0)),\n",
       " Location(Carrer de València, 123, 08011 Barcelona (Barcelona), Espanya, Barcelona, Catalunya 08011, ESP, (41.3865907, 2.1551759, 0.0)),\n",
       " Location(Carrer de Villarroel, 114, 08011 Barcelona (Barcelona), Espanya, Barcelona, Catalunya 08011, ESP, (41.38615, 2.15555, 0.0)),\n",
       " Location(Carrer de València, 160, 08011 Barcelona (Barcelona), Espanya, Barcelona, Catalunya 08011, ESP, (41.38668, 2.1553, 0.0)),\n",
       " Location(Carrer de Villarroel, 08011 Barcelona (Barcelona), Espanya, Barcelona, Catalunya 08011, ESP, (41.38605, 2.1557, 0.0)),\n",
       " Location(Carrer de València, 140, 08011 Barcelona (Barcelona), Espanya, Barcelona, Catalunya 08011, ESP, (41.38577, 2.1541, 0.0)),\n",
       " Location(Avinguda de Roma, 140, 08011 Barcelona (Barcelona), Espanya, Barcelona, Catalunya 08011, ESP, (41.38557, 2.15517, 0.0)),\n",
       " Location(Avinguda de Roma, 133, 08011 Barcelona (Barcelona), Espanya, Barcelona, Catalunya 08011, ESP, (41.38613, 2.15588, 0.0)),\n",
       " Location(Carrer del Comte d'Urgell, 144, 08029 Barcelona (Barcelona), Espanya, Barcelona, Catalunya 08029, ESP, (41.3854993, 2.1541138, 0.0)),\n",
       " Location(Carrer del Comte d'Urgell, 146, 08029 Barcelona (Barcelona), Espanya, Barcelona, Catalunya 08029, ESP, (41.38558, 2.15399, 0.0)),\n",
       " Location(Carrer de Villarroel, 143, 08036 Barcelona (Barcelona), Espanya, Barcelona, Catalunya 08036, ESP, (41.38699, 2.15447, 0.0)),\n",
       " Location(Carrer del Comte d'Urgell, 142, 08029 Barcelona (Barcelona), Espanya, Barcelona, Catalunya 08029, ESP, (41.3853943, 2.1542686, 0.0)),\n",
       " Location(Carrer del Comte d'Urgell, 148, 08036 Barcelona (Barcelona), Espanya, Barcelona, Catalunya 08036, ESP, (41.38582, 2.15369, 0.0)),\n",
       " Location(Avinguda de Roma, 08011 Barcelona (Barcelona), Espanya, Barcelona, Catalunya 08011, ESP, (41.38589, 2.15591, 0.0)),\n",
       " Location(Avinguda de Roma, 08029 Barcelona (Barcelona), Espanya, Barcelona, Catalunya 08029, ESP, (41.38532, 2.15438, 0.0)),\n",
       " Location(Carrer del Comte d'Urgell, 08029 Barcelona (Barcelona), Espanya, Barcelona, Catalunya 08029, ESP, (41.38532, 2.15438, 0.0)),\n",
       " Location(Carrer de Villarroel, 117, 08011 Barcelona (Barcelona), Espanya, Barcelona, Catalunya 08011, ESP, (41.38576, 2.15607, 0.0)),\n",
       " Location(Carrer del Comte d'Urgell, 140, 08011 Barcelona (Barcelona), Espanya, Barcelona, Catalunya 08011, ESP, (41.38512, 2.15467, 0.0)),\n",
       " Location(Carrer d'Aragó, 159, 08011 Barcelona (Barcelona), Espanya, Barcelona, Catalunya 08011, ESP, (41.38525, 2.15563, 0.0)),\n",
       " Location(Carrer de València, 99, 08029 Barcelona (Barcelona), Espanya, Barcelona, Catalunya 08029, ESP, (41.38549, 2.15373, 0.0)),\n",
       " Location(Carrer de Villarroel, 151, 08036 Barcelona (Barcelona), Espanya, Barcelona, Catalunya 08036, ESP, (41.3872797, 2.1540633, 0.0)),\n",
       " Location(Carrer de València, 174, 08011 Barcelona (Barcelona), Espanya, Barcelona, Catalunya 08011, ESP, (41.38712, 2.15588, 0.0)),\n",
       " Location(Carrer d'Aragó, 148, 08011 Barcelona (Barcelona), Espanya, Barcelona, Catalunya 08011, ESP, (41.38577, 2.15634, 0.0)),\n",
       " Location(Carrer de Mallorca, 138, 08036 Barcelona (Barcelona), Espanya, Barcelona, Catalunya 08036, ESP, (41.387308, 2.1538838, 0.0)),\n",
       " Location(Carrer de Mallorca, 136, 08036 Barcelona (Barcelona), Espanya, Barcelona, Catalunya 08036, ESP, (41.38714, 2.15367, 0.0)),\n",
       " Location(Carrer del Comte d'Urgell, 134, 08011 Barcelona (Barcelona), Espanya, Barcelona, Catalunya 08011, ESP, (41.3849, 2.154965, 0.0)),\n",
       " Location(Carrer de Mallorca, 130, 08036 Barcelona (Barcelona), Espanya, Barcelona, Catalunya 08036, ESP, (41.3869, 2.15335, 0.0)),\n",
       " Location(Carrer de Villarroel, 115, 08011 Barcelona (Barcelona), Espanya, Barcelona, Catalunya 08011, ESP, (41.38554, 2.15635, 0.0)),\n",
       " Location(Avinguda de Roma, 126, 08015 Barcelona (Barcelona), Espanya, Barcelona, Catalunya 08015, ESP, (41.38507, 2.15409, 0.0)),\n",
       " Location(Carrer de València, 143, 08011 Barcelona (Barcelona), Espanya, Barcelona, Catalunya 08011, ESP, (41.38721, 2.15599, 0.0)),\n",
       " Location(Carrer de Mallorca, 140, 08036 Barcelona (Barcelona), Espanya, Barcelona, Catalunya 08036, ESP, (41.38753, 2.15417, 0.0)),\n",
       " Location(Carrer de Mallorca, 142, 08036 Barcelona (Barcelona), Espanya, Barcelona, Catalunya 08036, ESP, (41.38755, 2.1542, 0.0)),\n",
       " Location(Carrer de Mallorca, 120, 08036 Barcelona (Barcelona), Espanya, Barcelona, Catalunya 08036, ESP, (41.38669, 2.15307, 0.0)),\n",
       " Location(Carrer de València, 91, 08029 Barcelona (Barcelona), Espanya, Barcelona, Catalunya 08029, ESP, (41.3853, 2.15348, 0.0)),\n",
       " Location(Carrer de Casanova, 103, 08036 Barcelona (Barcelona), Espanya, Barcelona, Catalunya 08036, ESP, (41.38748, 2.15603, 0.0)),\n",
       " Location(Carrer de Casanova, 101, 08011 Barcelona (Barcelona), Espanya, Barcelona, Catalunya 08011, ESP, (41.38714, 2.15646, 0.0)),\n",
       " Location(Avinguda de Roma, 08011 Barcelona (Barcelona), Espanya, Barcelona, Catalunya 08011, ESP, (41.38627, 2.15679, 0.0)),\n",
       " Location(Carrer del Comte d'Urgell, 130, 08011 Barcelona (Barcelona), Espanya, Barcelona, Catalunya 08011, ESP, (41.38469, 2.15524, 0.0)),\n",
       " Location(Carrer d'Aragó, 162, 08011 Barcelona (Barcelona), Espanya, Barcelona, Catalunya 08011, ESP, (41.38612, 2.15682, 0.0)),\n",
       " Location(Carrer de Villarroel, 153, 08036 Barcelona (Barcelona), Espanya, Barcelona, Catalunya 08036, ESP, (41.38749, 2.15377, 0.0)),\n",
       " Location(Carrer d'Aragó, 147, 08015 Barcelona (Barcelona), Espanya, Barcelona, Catalunya 08015, ESP, (41.38463, 2.1548, 0.0)),\n",
       " Location(Carrer de Mallorca, 08036 Barcelona (Barcelona), Espanya, Barcelona, Catalunya 08036, ESP, (41.38649, 2.15281, 0.0)),\n",
       " Location(Carrer de Casanova, 115, 08036 Barcelona (Barcelona), Espanya, Barcelona, Catalunya 08036, ESP, (41.3878, 2.1556, 0.0)),\n",
       " Location(Passatge d'Aragó, 13, 08011 Barcelona (Barcelona), Espanya, Barcelona, Catalunya 08011, ESP, (41.3859, 2.15699, 0.0)),\n",
       " Location(Carrer de Mallorca, 118, 08029 Barcelona (Barcelona), Espanya, Barcelona, Catalunya 08029, ESP, (41.38628, 2.15252, 0.0)),\n",
       " Location(Carrer del Comte d'Urgell, 122, 08011 Barcelona (Barcelona), Espanya, Barcelona, Catalunya 08011, ESP, (41.38451, 2.15547, 0.0)),\n",
       " Location(Carrer de Casanova, 08011 Barcelona (Barcelona), Espanya, Barcelona, Catalunya 08011, ESP, (41.38667, 2.15711, 0.0)),\n",
       " Location(Carrer de València, 178, 08011 Barcelona (Barcelona), Espanya, Barcelona, Catalunya 08011, ESP, (41.38753, 2.1564, 0.0)),\n",
       " Location(Carrer del Comte d'Urgell, 168, 08036 Barcelona (Barcelona), Espanya, Barcelona, Catalunya 08036, ESP, (41.38666, 2.15259, 0.0)),\n",
       " Location(Carrer de Mallorca, 158, 08036 Barcelona (Barcelona), Espanya, Barcelona, Catalunya 08036, ESP, (41.38805, 2.15485, 0.0)),\n",
       " Location(Carrer de València, 178I, 08011 Barcelona (Barcelona), Espanya, Barcelona, Catalunya 08011, ESP, (41.38758, 2.15647, 0.0)),\n",
       " Location(Avinguda de Roma, 151, 08011 Barcelona (Barcelona), Espanya, Barcelona, Catalunya 08011, ESP, (41.38675, 2.15726, 0.0)),\n",
       " Location(Carrer del Comte d'Urgell, 172, 08036 Barcelona (Barcelona), Espanya, Barcelona, Catalunya 08036, ESP, (41.38684, 2.15234, 0.0)),\n",
       " Location(Carrer de Casanova, 89, 08011 Barcelona (Barcelona), Espanya, Barcelona, Catalunya 08011, ESP, (41.38632, 2.15759, 0.0)),\n",
       " Location(Carrer de Mallorca, 104, 08029 Barcelona (Barcelona), Espanya, Barcelona, Catalunya 08029, ESP, (41.38598, 2.15213, 0.0)),\n",
       " Location(Carrer de Villarroel, 163, 08036 Barcelona (Barcelona), Espanya, Barcelona, Catalunya 08036, ESP, (41.38785, 2.15329, 0.0)),\n",
       " Location(08036 Barcelona (Barcelona), Espanya, Barcelona, Catalunya 08036, ESP, (41.3879796, 2.1535428, 0.0)),\n",
       " Location(Carrer del Comte Borrell, 184B, 08029 Barcelona (Barcelona), Espanya, Barcelona, Catalunya 08029, ESP, (41.38495, 2.15261, 0.0)),\n",
       " Location(Carrer del Comte d'Urgell, 174, 08036 Barcelona (Barcelona), Espanya, Barcelona, Catalunya 08036, ESP, (41.38692, 2.15223, 0.0)),\n",
       " Location(Carrer de València, 08029 Barcelona (Barcelona), Espanya, Barcelona, Catalunya 08029, ESP, (41.3848, 2.15281, 0.0)),\n",
       " Location(Carrer del Comte Borrell, 08015 Barcelona (Barcelona), Espanya, Barcelona, Catalunya 08015, ESP, (41.38475, 2.15287, 0.0)),\n",
       " Location(Carrer del Comte Borrell, 08015 Barcelona (Barcelona), Espanya, Barcelona, Catalunya 08015, ESP, (41.3847, 2.15293, 0.0)),\n",
       " Location(08029 Barcelona (Barcelona), Espanya, Barcelona, Catalunya 08029, ESP, (41.3847, 2.15293, 0.0)),\n",
       " Location(Carrer del Comte Borrell, 08015 Barcelona (Barcelona), Espanya, Barcelona, Catalunya 08015, ESP, (41.38458, 2.15311, 0.0)),\n",
       " Location(Carrer de Villarroel, 93, 08011 Barcelona (Barcelona), Espanya, Barcelona, Catalunya 08011, ESP, (41.38493, 2.15716, 0.0)),\n",
       " Location(Carrer de Mallorca, 160, 08036 Barcelona (Barcelona), Espanya, Barcelona, Catalunya 08036, ESP, (41.38839, 2.1553, 0.0)),\n",
       " Location(Carrer del Comte Borrell, 176B, 08015 Barcelona (Barcelona), Espanya, Barcelona, Catalunya 08015, ESP, (41.38412, 2.15369, 0.0)),\n",
       " Location(Carrer d'Aragó, 174, 08011 Barcelona (Barcelona), Espanya, Barcelona, Catalunya 08011, ESP, (41.38675, 2.15768, 0.0)),\n",
       " Location(Carrer del Comte d'Urgell, 180, 08036 Barcelona (Barcelona), Espanya, Barcelona, Catalunya 08036, ESP, (41.38722, 2.15184, 0.0)),\n",
       " Location(Carrer de València, 186, 08011 Barcelona (Barcelona), Espanya, Barcelona, Catalunya 08011, ESP, (41.38787, 2.15682, 0.0)),\n",
       " Location(Carrer de Mallorca, 162, 08036 Barcelona (Barcelona), Espanya, Barcelona, Catalunya 08036, ESP, (41.38846, 2.1554, 0.0)),\n",
       " Location(Avinguda de Roma, 112, 08015 Barcelona (Barcelona), Espanya, Barcelona, Catalunya 08015, ESP, (41.38451, 2.15294, 0.0)),\n",
       " Location(Carrer del Comte d'Urgell, 178, 08036 Barcelona (Barcelona), Espanya, Barcelona, Catalunya 08036, ESP, (41.38706, 2.15205, 0.0)),\n",
       " Location(Jardins d'Ermessenda de Carcassona, 08036 Barcelona (Barcelona), Espanya, Barcelona, Catalunya 08036, ESP, (41.38705, 2.15207, 0.0)),\n",
       " Location(Carrer de Casanova, 127, 08036 Barcelona (Barcelona), Espanya, Barcelona, Catalunya 08036, ESP, (41.38854, 2.15462, 0.0)),\n",
       " Location(Carrer del Consell de cent, 211, 08011 Barcelona (Barcelona), Espanya, Barcelona, Catalunya 08011, ESP, (41.38495, 2.15754, 0.0)),\n",
       " Location(Carrer del Consell de cent, 191, 08011 Barcelona (Barcelona), Espanya, Barcelona, Catalunya 08011, ESP, (41.38416, 2.15648, 0.0)),\n",
       " Location(08029 Barcelona (Barcelona), Espanya, Barcelona, Catalunya 08029, ESP, (41.38459, 2.15268, 0.0)),\n",
       " Location(08029 Barcelona (Barcelona), Espanya, Barcelona, Catalunya 08029, ESP, (41.38459, 2.15268, 0.0)),\n",
       " Location(Carrer del Comte Borrell, 176, 08015 Barcelona (Barcelona), Espanya, Barcelona, Catalunya 08015, ESP, (41.38382, 2.15406, 0.0)),\n",
       " Location(Carrer de Villarroel, 08036 Barcelona (Barcelona), Espanya, Barcelona, Catalunya 08036, ESP, (41.38805, 2.153, 0.0)),\n",
       " Location(Carrer de Villarroel, 08011 Barcelona (Barcelona), Espanya, Barcelona, Catalunya 08011, ESP, (41.38479, 2.15733, 0.0)),\n",
       " Location(Carrer de Mallorca, 97, 08029 Barcelona (Barcelona), Espanya, Barcelona, Catalunya 08029, ESP, (41.38575, 2.15182, 0.0)),\n",
       " Location(Carrer d'Aragó, 182, 08011 Barcelona (Barcelona), Espanya, Barcelona, Catalunya 08011, ESP, (41.3869, 2.15789, 0.0)),\n",
       " Location(Avinguda de Roma, 109, 08029 Barcelona (Barcelona), Espanya, Barcelona, Catalunya 08029, ESP, (41.38455, 2.15248, 0.0)),\n",
       " Location(Carrer del Comte d'Urgell, 182, 08036 Barcelona (Barcelona), Espanya, Barcelona, Catalunya 08036, ESP, (41.38717, 2.1519, 0.0)),\n",
       " Location(Carrer de València, 08029 Barcelona (Barcelona), Espanya, Barcelona, Catalunya 08029, ESP, (41.38456, 2.1525, 0.0)),\n",
       " Location(Avinguda de Roma, 159, 08011 Barcelona (Barcelona), Espanya, Barcelona, Catalunya 08011, ESP, (41.38708, 2.15791, 0.0)),\n",
       " Location(Carrer de Mallorca, 168, 08036 Barcelona (Barcelona), Espanya, Barcelona, Catalunya 08036, ESP, (41.38863, 2.15563, 0.0)),\n",
       " Location(Carrer del Comte Borrell, 208I, 08029 Barcelona (Barcelona), Espanya, Barcelona, Catalunya 08029, ESP, (41.38593, 2.15128, 0.0)),\n",
       " Location(Carrer del Comte d'Urgell, 08011 Barcelona (Barcelona), Espanya, Barcelona, Catalunya 08011, ESP, (41.38396, 2.1562, 0.0)),\n",
       " Location(Carrer del Consell de cent, 189, 08015 Barcelona (Barcelona), Espanya, Barcelona, Catalunya 08015, ESP, (41.38374, 2.15592, 0.0)),\n",
       " Location(Carrer de Casanova, 135, 08036 Barcelona (Barcelona), Espanya, Barcelona, Catalunya 08036, ESP, (41.38879, 2.15428, 0.0))]"
      ]
     },
     "execution_count": 15,
     "metadata": {},
     "output_type": "execute_result"
    }
   ],
   "source": [
    "locations"
   ]
  },
  {
   "cell_type": "code",
   "execution_count": 17,
   "metadata": {},
   "outputs": [
    {
     "data": {
      "text/plain": [
       "{'Relevance': 1.0,\n",
       " 'Distance': 21.9,\n",
       " 'MatchLevel': 'houseNumber',\n",
       " 'MatchQuality': {'Country': 1.0,\n",
       "  'State': 1.0,\n",
       "  'County': 1.0,\n",
       "  'City': 1.0,\n",
       "  'District': 1.0,\n",
       "  'Street': [1.0],\n",
       "  'HouseNumber': 1.0,\n",
       "  'PostalCode': 1.0},\n",
       " 'MatchType': 'interpolated',\n",
       " 'Location': {'LocationId': 'NT_KqsTsC62SU9vfG63m1tNaD_xIzN',\n",
       "  'LocationType': 'point',\n",
       "  'DisplayPosition': {'Latitude': 41.38638, 'Longitude': 2.15526},\n",
       "  'MapView': {'TopLeft': {'Latitude': 41.3875042, 'Longitude': 2.1537617},\n",
       "   'BottomRight': {'Latitude': 41.3852558, 'Longitude': 2.1567583}},\n",
       "  'Address': {'Label': 'Carrer de Villarroel, 127, 08011 Barcelona (Barcelona), Espanya',\n",
       "   'Country': 'ESP',\n",
       "   'State': 'Catalunya',\n",
       "   'County': 'Barcelona',\n",
       "   'City': 'Barcelona',\n",
       "   'District': \"l'Antiga Esquerra de l'Eixample\",\n",
       "   'Street': 'Carrer de Villarroel',\n",
       "   'HouseNumber': '127',\n",
       "   'PostalCode': '08011',\n",
       "   'AdditionalData': [{'value': 'Espanya', 'key': 'CountryName'},\n",
       "    {'value': 'Catalunya', 'key': 'StateName'},\n",
       "    {'value': 'Barcelona', 'key': 'CountyName'}]},\n",
       "  'MapReference': {'ReferenceId': '1210416287',\n",
       "   'Spot': 0.2,\n",
       "   'SideOfStreet': 'left',\n",
       "   'CountryId': '20215059',\n",
       "   'StateId': '20215741',\n",
       "   'CountyId': '20215742',\n",
       "   'CityId': '20215774',\n",
       "   'AddressId': '206768085',\n",
       "   'RoadLinkId': '525345290'}}}"
      ]
     },
     "execution_count": 17,
     "metadata": {},
     "output_type": "execute_result"
    }
   ],
   "source": [
    "locations[2].raw"
   ]
  },
  {
   "cell_type": "code",
   "execution_count": 29,
   "metadata": {},
   "outputs": [],
   "source": [
    "barrios = set()\n",
    "for barrio in locations:\n",
    "    barrios.add(barrio.raw['Location']['Address']['District'])\n"
   ]
  },
  {
   "cell_type": "code",
   "execution_count": 30,
   "metadata": {},
   "outputs": [
    {
     "data": {
      "text/plain": [
       "{\"La Nova Esquerra de l'Eixample\", \"l'Antiga Esquerra de l'Eixample\"}"
      ]
     },
     "execution_count": 30,
     "metadata": {},
     "output_type": "execute_result"
    }
   ],
   "source": [
    "barrios"
   ]
  },
  {
   "cell_type": "code",
   "execution_count": 94,
   "metadata": {},
   "outputs": [],
   "source": [
    "chicos_place = here.geocode('Universitat 14, Barcelona')"
   ]
  },
  {
   "cell_type": "code",
   "execution_count": 95,
   "metadata": {},
   "outputs": [
    {
     "data": {
      "text/plain": [
       "{'Relevance': 1.0,\n",
       " 'MatchLevel': 'houseNumber',\n",
       " 'MatchQuality': {'City': 1.0, 'Street': [0.9], 'HouseNumber': 1.0},\n",
       " 'MatchType': 'pointAddress',\n",
       " 'Location': {'LocationId': 'NT_CqK9A7WbaytSUW7RPD.B9C_xQD',\n",
       "  'LocationType': 'point',\n",
       "  'DisplayPosition': {'Latitude': 41.38666, 'Longitude': 2.16702},\n",
       "  'NavigationPosition': [{'Latitude': 41.3868, 'Longitude': 2.16692}],\n",
       "  'MapView': {'TopLeft': {'Latitude': 41.3877842, 'Longitude': 2.1655217},\n",
       "   'BottomRight': {'Latitude': 41.3855358, 'Longitude': 2.1685183}},\n",
       "  'Address': {'Label': 'Ronda de la Universitat, 14, 08007 Barcelona (Barcelona), Espanya',\n",
       "   'Country': 'ESP',\n",
       "   'State': 'Catalunya',\n",
       "   'County': 'Barcelona',\n",
       "   'City': 'Barcelona',\n",
       "   'District': \"Dreta de l'Eixample\",\n",
       "   'Street': 'Ronda de la Universitat',\n",
       "   'HouseNumber': '14',\n",
       "   'PostalCode': '08007',\n",
       "   'AdditionalData': [{'value': 'Espanya', 'key': 'CountryName'},\n",
       "    {'value': 'Catalunya', 'key': 'StateName'},\n",
       "    {'value': 'Barcelona', 'key': 'CountyName'}]}}}"
      ]
     },
     "execution_count": 95,
     "metadata": {},
     "output_type": "execute_result"
    }
   ],
   "source": [
    "chicos_place.raw"
   ]
  },
  {
   "cell_type": "code",
   "execution_count": 1,
   "metadata": {},
   "outputs": [],
   "source": [
    "from Geofinder import Geofinder"
   ]
  },
  {
   "cell_type": "code",
   "execution_count": 2,
   "metadata": {},
   "outputs": [],
   "source": [
    "geofinder = Geofinder()"
   ]
  },
  {
   "cell_type": "code",
   "execution_count": 3,
   "metadata": {},
   "outputs": [],
   "source": [
    "geofinder.create()"
   ]
  },
  {
   "cell_type": "code",
   "execution_count": 7,
   "metadata": {},
   "outputs": [
    {
     "data": {
      "text/plain": [
       "[('Vila de Gràcia', 17),\n",
       " (\"Dreta de l'Eixample\", 12),\n",
       " (\"l'Antiga Esquerra de l'Eixample\", 8),\n",
       " ('Sant Gervasi-Galvany', 6),\n",
       " (\"La Nova Esquerra de l'Eixample\", 4),\n",
       " ('El Putget i Farró', 4),\n",
       " (\"Camp d'en Grassot i Gràcia Nova\", 2),\n",
       " ('El Gòtic', 1),\n",
       " ('La Salut', 1),\n",
       " ('Sagrada Familia', 1),\n",
       " ('Fort Pienc', 1)]"
      ]
     },
     "execution_count": 7,
     "metadata": {},
     "output_type": "execute_result"
    }
   ],
   "source": [
    "geofinder.get_neighborhoods('Frances Macia Diagonal', 1800)"
   ]
  },
  {
   "cell_type": "code",
   "execution_count": null,
   "metadata": {},
   "outputs": [],
   "source": []
  }
 ],
 "metadata": {
  "kernelspec": {
   "display_name": "Python 3",
   "language": "python",
   "name": "python3"
  },
  "language_info": {
   "codemirror_mode": {
    "name": "ipython",
    "version": 3
   },
   "file_extension": ".py",
   "mimetype": "text/x-python",
   "name": "python",
   "nbconvert_exporter": "python",
   "pygments_lexer": "ipython3",
   "version": "3.6.5"
  }
 },
 "nbformat": 4,
 "nbformat_minor": 2
}
