{
 "cells": [
  {
   "cell_type": "code",
   "execution_count": 9,
   "metadata": {},
   "outputs": [],
   "source": [
    "import pandas as pd\n",
    "import stringdist\n",
    "import telluric as tl\n",
    "from sklearn import preprocessing"
   ]
  },
  {
   "cell_type": "code",
   "execution_count": 5,
   "metadata": {},
   "outputs": [],
   "source": [
    "from Idealista import Idealista\n",
    "from Geofinder import Geofinder"
   ]
  },
  {
   "cell_type": "code",
   "execution_count": 7,
   "metadata": {},
   "outputs": [],
   "source": [
    "class string_conversion:\n",
    "    text = ''\n",
    "    value = 1"
   ]
  },
  {
   "cell_type": "code",
   "execution_count": 8,
   "metadata": {},
   "outputs": [],
   "source": [
    "def alias_dictionary(a1, a2, treshold = 0.6):\n",
    "    aliases = {}\n",
    "    for nei in a1:\n",
    "        alias = string_conversion()\n",
    "        alias.text = nei\n",
    "        aliases[nei] = alias\n",
    "        for bar in a2:\n",
    "            distance = stringdist.levenshtein_norm(nei.lower(),bar.lower())\n",
    "            if distance < alias.value and distance <= treshold:\n",
    "                alias.value = distance\n",
    "                alias.text = bar\n",
    "                aliases[nei] = alias                \n",
    "    return aliases   \n",
    "\n",
    "def alias_list(aliases):\n",
    "    alias = []\n",
    "    for key in aliases:\n",
    "        if aliases[key].value < 1:\n",
    "            alias.append(aliases[key].text)\n",
    "    return alias\n",
    "\n",
    "def real_list(aliases):\n",
    "    real = []\n",
    "    for key in aliases:\n",
    "        if aliases[key].value < 1:\n",
    "            real.append(key)\n",
    "    return real\n",
    "\n",
    "def alias_values(aliases):\n",
    "    for key in aliases:\n",
    "        if aliases[key].value >= 0:\n",
    "            print(key + ' ---- ' + aliases[key].text + ' ----- ' + str(aliases[key].value))"
   ]
  },
  {
   "cell_type": "code",
   "execution_count": 6,
   "metadata": {},
   "outputs": [],
   "source": [
    "geofinder = Geofinder()"
   ]
  },
  {
   "cell_type": "code",
   "execution_count": 7,
   "metadata": {},
   "outputs": [],
   "source": [
    "distance_ranking = geofinder.get_neighborhoods('Valencia 156', 1800)"
   ]
  },
  {
   "cell_type": "code",
   "execution_count": 8,
   "metadata": {},
   "outputs": [
    {
     "data": {
      "text/plain": [
       "[(\"l'Antiga Esquerra de l'Eixample\", 17),\n",
       " (\"La Nova Esquerra de l'Eixample\", 11),\n",
       " (\"Dreta de l'Eixample\", 6),\n",
       " ('Sant Gervasi-Galvany', 4),\n",
       " ('Sant Antoni', 4),\n",
       " ('El Raval', 3),\n",
       " ('Les Corts', 3),\n",
       " ('Sants', 2),\n",
       " ('Vila de Gràcia', 2),\n",
       " ('El Gòtic', 2),\n",
       " ('El Poblesec', 1),\n",
       " ('Montjuïc', 1),\n",
       " ('Hostafrancs', 1)]"
      ]
     },
     "execution_count": 8,
     "metadata": {},
     "output_type": "execute_result"
    }
   ],
   "source": [
    "distance_ranking"
   ]
  },
  {
   "cell_type": "code",
   "execution_count": 12,
   "metadata": {},
   "outputs": [],
   "source": [
    "idealista = Idealista()"
   ]
  },
  {
   "cell_type": "code",
   "execution_count": 13,
   "metadata": {},
   "outputs": [],
   "source": [
    "idealista.load_homes(min_price=300, max_price=800)"
   ]
  },
  {
   "cell_type": "code",
   "execution_count": 14,
   "metadata": {},
   "outputs": [],
   "source": [
    "availability_ranking = idealista.ranking_neighborhood()"
   ]
  },
  {
   "cell_type": "code",
   "execution_count": 15,
   "metadata": {},
   "outputs": [
    {
     "data": {
      "text/plain": [
       "[('Vila de Gràcia', 14),\n",
       " ('El Raval', 13),\n",
       " ('El Fort Pienc', 12),\n",
       " (\"L'Antiga Esquerra de l'Eixample\", 12),\n",
       " ('Sant Gervasi - Galvany', 11),\n",
       " ('El Putxet i el Farró', 10),\n",
       " ('La Sagrada Família', 9),\n",
       " (\"La Dreta de l'Eixample\", 9),\n",
       " ('El Gòtic', 9),\n",
       " ('El Baix Guinardó', 8),\n",
       " (\"La Nova Esquerra de l'Eixample\", 8),\n",
       " ('Sant Antoni', 7),\n",
       " ('Sant Pere - Santa Caterina i la Ribera', 7),\n",
       " ('Les Corts', 7),\n",
       " ('Vilapicina i la Torre Llobeta', 6),\n",
       " ('El Poble Sec - Parc de Montjuïc', 6),\n",
       " ('La Maternitat i Sant Ramon', 5),\n",
       " ('Hostafrancs', 5),\n",
       " ('El Guinardó', 4),\n",
       " (\"El Camp d'En Grassot i Gràcia Nova\", 3),\n",
       " ('Navas', 3),\n",
       " ('El Clot', 3),\n",
       " ('La Salut', 2),\n",
       " ('El Congrés i els Indians', 2),\n",
       " ('El Parc i la Llacuna del Poblenou', 2),\n",
       " ('La Sagrera', 2),\n",
       " ('La Marina del Port', 2),\n",
       " ('Sant Andreu', 2),\n",
       " ('Sants', 2),\n",
       " ('La Guineueta', 1),\n",
       " ('Pedralbes', 1),\n",
       " ('La Trinitat Nova', 1),\n",
       " ('Horta', 1),\n",
       " ('El Poblenou', 1),\n",
       " ('Can Peguera - El Turó de la Peira', 1),\n",
       " ('Sarrià', 1),\n",
       " ('La Teixonera', 1),\n",
       " ('Les Roquetes - Canyelles', 1),\n",
       " (\"La Font d'En Fargues\", 1),\n",
       " (\"La Vall d'Hebron - La Clota\", 1),\n",
       " ('Sant Genís Dels Agudells - Montbau', 1),\n",
       " ('La Verneda i la Pau', 1),\n",
       " ('Porta', 1),\n",
       " ('El Carmel', 1)]"
      ]
     },
     "execution_count": 15,
     "metadata": {},
     "output_type": "execute_result"
    }
   ],
   "source": [
    "availability_ranking"
   ]
  },
  {
   "cell_type": "code",
   "execution_count": 16,
   "metadata": {},
   "outputs": [],
   "source": [
    "distance_neighborhoods = [i[0] for i in distance_ranking]\n",
    "available_neighborhoods = [i[0] for i in availability_ranking]"
   ]
  },
  {
   "cell_type": "code",
   "execution_count": 17,
   "metadata": {},
   "outputs": [],
   "source": [
    "aliases = alias_dictionary(distance_neighborhoods,available_neighborhoods, 0.25)"
   ]
  },
  {
   "cell_type": "code",
   "execution_count": 18,
   "metadata": {},
   "outputs": [
    {
     "name": "stdout",
     "output_type": "stream",
     "text": [
      "l'Antiga Esquerra de l'Eixample ---- L'Antiga Esquerra de l'Eixample ----- 0.0\n",
      "La Nova Esquerra de l'Eixample ---- La Nova Esquerra de l'Eixample ----- 0.0\n",
      "Dreta de l'Eixample ---- La Dreta de l'Eixample ----- 0.13636363636363635\n",
      "Sant Gervasi-Galvany ---- Sant Gervasi - Galvany ----- 0.09090909090909091\n",
      "Sant Antoni ---- Sant Antoni ----- 0.0\n",
      "El Raval ---- El Raval ----- 0.0\n",
      "Les Corts ---- Les Corts ----- 0.0\n",
      "Sants ---- Sants ----- 0.0\n",
      "Vila de Gràcia ---- Vila de Gràcia ----- 0.0\n",
      "El Gòtic ---- El Gòtic ----- 0.0\n",
      "El Poblesec ---- El Poblesec ----- 1\n",
      "Montjuïc ---- Montjuïc ----- 1\n",
      "Hostafrancs ---- Hostafrancs ----- 0.0\n"
     ]
    }
   ],
   "source": [
    "alias_values(aliases)"
   ]
  },
  {
   "cell_type": "code",
   "execution_count": 21,
   "metadata": {},
   "outputs": [],
   "source": [
    "distance_values = []\n",
    "available_values = []\n",
    "for neighborood in real_list(aliases):\n",
    "    for item in distance_ranking:\n",
    "        if item[0] == neighborood:\n",
    "            distance_values.append(item[1])\n",
    "            break\n",
    "    for item in availability_ranking:\n",
    "        if item[0] == aliases[neighborood].text:\n",
    "            available_values.append(item[1])\n",
    "            break\n",
    "    "
   ]
  },
  {
   "cell_type": "code",
   "execution_count": 10,
   "metadata": {},
   "outputs": [],
   "source": [
    "security_df = pd.read_csv('security_ranking.csv', index_col='name_neighbourhood', usecols=['name_neighbourhood','zscore'])\n",
    "# security_df = pd.read_csv('security_ranking.csv')"
   ]
  },
  {
   "cell_type": "code",
   "execution_count": 12,
   "metadata": {},
   "outputs": [
    {
     "data": {
      "text/html": [
       "<div>\n",
       "<style scoped>\n",
       "    .dataframe tbody tr th:only-of-type {\n",
       "        vertical-align: middle;\n",
       "    }\n",
       "\n",
       "    .dataframe tbody tr th {\n",
       "        vertical-align: top;\n",
       "    }\n",
       "\n",
       "    .dataframe thead th {\n",
       "        text-align: right;\n",
       "    }\n",
       "</style>\n",
       "<table border=\"1\" class=\"dataframe\">\n",
       "  <thead>\n",
       "    <tr style=\"text-align: right;\">\n",
       "      <th></th>\n",
       "      <th>zscore</th>\n",
       "    </tr>\n",
       "    <tr>\n",
       "      <th>name_neighbourhood</th>\n",
       "      <th></th>\n",
       "    </tr>\n",
       "  </thead>\n",
       "  <tbody>\n",
       "    <tr>\n",
       "      <th>Baró de Viver</th>\n",
       "      <td>-1.195585</td>\n",
       "    </tr>\n",
       "    <tr>\n",
       "      <th>Can Baró</th>\n",
       "      <td>-0.619482</td>\n",
       "    </tr>\n",
       "    <tr>\n",
       "      <th>Can Peguera</th>\n",
       "      <td>-1.016958</td>\n",
       "    </tr>\n",
       "    <tr>\n",
       "      <th>Canyelles</th>\n",
       "      <td>-1.143036</td>\n",
       "    </tr>\n",
       "    <tr>\n",
       "      <th>Ciutat Meridiana</th>\n",
       "      <td>-0.121059</td>\n",
       "    </tr>\n",
       "    <tr>\n",
       "      <th>Desconegut</th>\n",
       "      <td>NaN</td>\n",
       "    </tr>\n",
       "    <tr>\n",
       "      <th>Diagonal Mar i el Front Marítim del Poblenou</th>\n",
       "      <td>-0.807642</td>\n",
       "    </tr>\n",
       "    <tr>\n",
       "      <th>Horta</th>\n",
       "      <td>-0.908838</td>\n",
       "    </tr>\n",
       "    <tr>\n",
       "      <th>Hostafrancs</th>\n",
       "      <td>0.864401</td>\n",
       "    </tr>\n",
       "    <tr>\n",
       "      <th>Montbau</th>\n",
       "      <td>-1.376737</td>\n",
       "    </tr>\n",
       "    <tr>\n",
       "      <th>Navas</th>\n",
       "      <td>1.416325</td>\n",
       "    </tr>\n",
       "    <tr>\n",
       "      <th>Pedralbes</th>\n",
       "      <td>-1.223200</td>\n",
       "    </tr>\n",
       "    <tr>\n",
       "      <th>Porta</th>\n",
       "      <td>0.272255</td>\n",
       "    </tr>\n",
       "    <tr>\n",
       "      <th>Provençals del Poblenou</th>\n",
       "      <td>-0.373412</td>\n",
       "    </tr>\n",
       "    <tr>\n",
       "      <th>Sant Andreu</th>\n",
       "      <td>0.662682</td>\n",
       "    </tr>\n",
       "    <tr>\n",
       "      <th>Sant Antoni</th>\n",
       "      <td>1.943936</td>\n",
       "    </tr>\n",
       "    <tr>\n",
       "      <th>Sant Genís dels Agudells</th>\n",
       "      <td>-1.296729</td>\n",
       "    </tr>\n",
       "    <tr>\n",
       "      <th>Sant Gervasi - Galvany</th>\n",
       "      <td>0.500254</td>\n",
       "    </tr>\n",
       "    <tr>\n",
       "      <th>Sant Gervasi - la Bonanova</th>\n",
       "      <td>-0.763353</td>\n",
       "    </tr>\n",
       "    <tr>\n",
       "      <th>Sant Martí de Provençals</th>\n",
       "      <td>0.460343</td>\n",
       "    </tr>\n",
       "    <tr>\n",
       "      <th>Sant Pere, Santa Caterina i la Ribera</th>\n",
       "      <td>0.047497</td>\n",
       "    </tr>\n",
       "    <tr>\n",
       "      <th>Sants</th>\n",
       "      <td>1.154139</td>\n",
       "    </tr>\n",
       "    <tr>\n",
       "      <th>Sants - Badal</th>\n",
       "      <td>1.752112</td>\n",
       "    </tr>\n",
       "    <tr>\n",
       "      <th>Sarrià</th>\n",
       "      <td>-0.958364</td>\n",
       "    </tr>\n",
       "    <tr>\n",
       "      <th>Torre Baró</th>\n",
       "      <td>-1.425208</td>\n",
       "    </tr>\n",
       "    <tr>\n",
       "      <th>Vallbona</th>\n",
       "      <td>-1.422062</td>\n",
       "    </tr>\n",
       "    <tr>\n",
       "      <th>Vallcarca i els Penitents</th>\n",
       "      <td>-0.727540</td>\n",
       "    </tr>\n",
       "    <tr>\n",
       "      <th>Vallvidrera, el Tibidabo i les Planes</th>\n",
       "      <td>-1.472220</td>\n",
       "    </tr>\n",
       "    <tr>\n",
       "      <th>Verdun</th>\n",
       "      <td>0.825422</td>\n",
       "    </tr>\n",
       "    <tr>\n",
       "      <th>Vilapicina i la Torre Llobeta</th>\n",
       "      <td>1.106621</td>\n",
       "    </tr>\n",
       "    <tr>\n",
       "      <th>...</th>\n",
       "      <td>...</td>\n",
       "    </tr>\n",
       "    <tr>\n",
       "      <th>el Poblenou</th>\n",
       "      <td>0.017305</td>\n",
       "    </tr>\n",
       "    <tr>\n",
       "      <th>el Putxet i el Farró</th>\n",
       "      <td>0.515262</td>\n",
       "    </tr>\n",
       "    <tr>\n",
       "      <th>el Raval</th>\n",
       "      <td>2.225767</td>\n",
       "    </tr>\n",
       "    <tr>\n",
       "      <th>el Turó de la Peira</th>\n",
       "      <td>0.646919</td>\n",
       "    </tr>\n",
       "    <tr>\n",
       "      <th>l'Antiga Esquerra de l'Eixample</th>\n",
       "      <td>0.961902</td>\n",
       "    </tr>\n",
       "    <tr>\n",
       "      <th>la Barceloneta</th>\n",
       "      <td>-0.671068</td>\n",
       "    </tr>\n",
       "    <tr>\n",
       "      <th>la Bordeta</th>\n",
       "      <td>0.307354</td>\n",
       "    </tr>\n",
       "    <tr>\n",
       "      <th>la Clota</th>\n",
       "      <td>-1.422672</td>\n",
       "    </tr>\n",
       "    <tr>\n",
       "      <th>la Dreta de l'Eixample</th>\n",
       "      <td>0.106018</td>\n",
       "    </tr>\n",
       "    <tr>\n",
       "      <th>la Font d'en Fargues</th>\n",
       "      <td>-0.912512</td>\n",
       "    </tr>\n",
       "    <tr>\n",
       "      <th>la Font de la Guatlla</th>\n",
       "      <td>0.029063</td>\n",
       "    </tr>\n",
       "    <tr>\n",
       "      <th>la Guineueta</th>\n",
       "      <td>-0.096146</td>\n",
       "    </tr>\n",
       "    <tr>\n",
       "      <th>la Marina de Port</th>\n",
       "      <td>-0.039239</td>\n",
       "    </tr>\n",
       "    <tr>\n",
       "      <th>la Marina del Prat Vermell</th>\n",
       "      <td>-1.485126</td>\n",
       "    </tr>\n",
       "    <tr>\n",
       "      <th>la Maternitat i Sant Ramon</th>\n",
       "      <td>-0.660252</td>\n",
       "    </tr>\n",
       "    <tr>\n",
       "      <th>la Nova Esquerra de l'Eixample</th>\n",
       "      <td>1.771799</td>\n",
       "    </tr>\n",
       "    <tr>\n",
       "      <th>la Prosperitat</th>\n",
       "      <td>1.133615</td>\n",
       "    </tr>\n",
       "    <tr>\n",
       "      <th>la Sagrada Família</th>\n",
       "      <td>2.203224</td>\n",
       "    </tr>\n",
       "    <tr>\n",
       "      <th>la Sagrera</th>\n",
       "      <td>0.381742</td>\n",
       "    </tr>\n",
       "    <tr>\n",
       "      <th>la Salut</th>\n",
       "      <td>-0.490982</td>\n",
       "    </tr>\n",
       "    <tr>\n",
       "      <th>la Teixonera</th>\n",
       "      <td>0.012895</td>\n",
       "    </tr>\n",
       "    <tr>\n",
       "      <th>la Trinitat Nova</th>\n",
       "      <td>-0.828332</td>\n",
       "    </tr>\n",
       "    <tr>\n",
       "      <th>la Trinitat Vella</th>\n",
       "      <td>-0.856754</td>\n",
       "    </tr>\n",
       "    <tr>\n",
       "      <th>la Vall d'Hebron</th>\n",
       "      <td>-1.102649</td>\n",
       "    </tr>\n",
       "    <tr>\n",
       "      <th>la Verneda i la Pau</th>\n",
       "      <td>-0.002713</td>\n",
       "    </tr>\n",
       "    <tr>\n",
       "      <th>la Vila Olímpica del Poblenou</th>\n",
       "      <td>-0.854167</td>\n",
       "    </tr>\n",
       "    <tr>\n",
       "      <th>la Vila de Gràcia</th>\n",
       "      <td>1.328067</td>\n",
       "    </tr>\n",
       "    <tr>\n",
       "      <th>les Corts</th>\n",
       "      <td>0.707541</td>\n",
       "    </tr>\n",
       "    <tr>\n",
       "      <th>les Roquetes</th>\n",
       "      <td>-0.227730</td>\n",
       "    </tr>\n",
       "    <tr>\n",
       "      <th>les Tres Torres</th>\n",
       "      <td>-0.469060</td>\n",
       "    </tr>\n",
       "  </tbody>\n",
       "</table>\n",
       "<p>74 rows × 1 columns</p>\n",
       "</div>"
      ],
      "text/plain": [
       "                                                zscore\n",
       "name_neighbourhood                                    \n",
       "Baró de Viver                                -1.195585\n",
       "Can Baró                                     -0.619482\n",
       "Can Peguera                                  -1.016958\n",
       "Canyelles                                    -1.143036\n",
       "Ciutat Meridiana                             -0.121059\n",
       "Desconegut                                         NaN\n",
       "Diagonal Mar i el Front Marítim del Poblenou -0.807642\n",
       "Horta                                        -0.908838\n",
       "Hostafrancs                                   0.864401\n",
       "Montbau                                      -1.376737\n",
       "Navas                                         1.416325\n",
       "Pedralbes                                    -1.223200\n",
       "Porta                                         0.272255\n",
       "Provençals del Poblenou                      -0.373412\n",
       "Sant Andreu                                   0.662682\n",
       "Sant Antoni                                   1.943936\n",
       "Sant Genís dels Agudells                     -1.296729\n",
       "Sant Gervasi - Galvany                        0.500254\n",
       "Sant Gervasi - la Bonanova                   -0.763353\n",
       "Sant Martí de Provençals                      0.460343\n",
       "Sant Pere, Santa Caterina i la Ribera         0.047497\n",
       "Sants                                         1.154139\n",
       "Sants - Badal                                 1.752112\n",
       "Sarrià                                       -0.958364\n",
       "Torre Baró                                   -1.425208\n",
       "Vallbona                                     -1.422062\n",
       "Vallcarca i els Penitents                    -0.727540\n",
       "Vallvidrera, el Tibidabo i les Planes        -1.472220\n",
       "Verdun                                        0.825422\n",
       "Vilapicina i la Torre Llobeta                 1.106621\n",
       "...                                                ...\n",
       "el Poblenou                                   0.017305\n",
       "el Putxet i el Farró                          0.515262\n",
       "el Raval                                      2.225767\n",
       "el Turó de la Peira                           0.646919\n",
       "l'Antiga Esquerra de l'Eixample               0.961902\n",
       "la Barceloneta                               -0.671068\n",
       "la Bordeta                                    0.307354\n",
       "la Clota                                     -1.422672\n",
       "la Dreta de l'Eixample                        0.106018\n",
       "la Font d'en Fargues                         -0.912512\n",
       "la Font de la Guatlla                         0.029063\n",
       "la Guineueta                                 -0.096146\n",
       "la Marina de Port                            -0.039239\n",
       "la Marina del Prat Vermell                   -1.485126\n",
       "la Maternitat i Sant Ramon                   -0.660252\n",
       "la Nova Esquerra de l'Eixample                1.771799\n",
       "la Prosperitat                                1.133615\n",
       "la Sagrada Família                            2.203224\n",
       "la Sagrera                                    0.381742\n",
       "la Salut                                     -0.490982\n",
       "la Teixonera                                  0.012895\n",
       "la Trinitat Nova                             -0.828332\n",
       "la Trinitat Vella                            -0.856754\n",
       "la Vall d'Hebron                             -1.102649\n",
       "la Verneda i la Pau                          -0.002713\n",
       "la Vila Olímpica del Poblenou                -0.854167\n",
       "la Vila de Gràcia                             1.328067\n",
       "les Corts                                     0.707541\n",
       "les Roquetes                                 -0.227730\n",
       "les Tres Torres                              -0.469060\n",
       "\n",
       "[74 rows x 1 columns]"
      ]
     },
     "execution_count": 12,
     "metadata": {},
     "output_type": "execute_result"
    }
   ],
   "source": [
    "security_df"
   ]
  },
  {
   "cell_type": "code",
   "execution_count": 24,
   "metadata": {},
   "outputs": [],
   "source": [
    "sec_dic = alias_dictionary(real_list(aliases),list(security_df.index), 0.45)"
   ]
  },
  {
   "cell_type": "code",
   "execution_count": 25,
   "metadata": {},
   "outputs": [
    {
     "name": "stdout",
     "output_type": "stream",
     "text": [
      "l'Antiga Esquerra de l'Eixample ---- l'Antiga Esquerra de l'Eixample ----- 0.0\n",
      "La Nova Esquerra de l'Eixample ---- la Nova Esquerra de l'Eixample ----- 0.0\n",
      "Dreta de l'Eixample ---- la Dreta de l'Eixample ----- 0.13636363636363635\n",
      "Sant Gervasi-Galvany ---- Sant Gervasi - Galvany ----- 0.09090909090909091\n",
      "Sant Antoni ---- Sant Antoni ----- 0.0\n",
      "El Raval ---- el Raval ----- 0.0\n",
      "Les Corts ---- les Corts ----- 0.0\n",
      "Sants ---- Sants ----- 0.0\n",
      "Vila de Gràcia ---- la Vila de Gràcia ----- 0.17647058823529413\n",
      "El Gòtic ---- el Barri Gòtic ----- 0.42857142857142855\n",
      "Hostafrancs ---- Hostafrancs ----- 0.0\n"
     ]
    }
   ],
   "source": [
    "alias_values(sec_dic)"
   ]
  },
  {
   "cell_type": "code",
   "execution_count": 26,
   "metadata": {},
   "outputs": [],
   "source": [
    "df = pd.DataFrame(distance_values, index=real_list(aliases), columns=['Distance'])\n",
    "df['Availability'] = available_values\n",
    "df['Security'] = security_df.loc[alias_list(sec_dic)].values"
   ]
  },
  {
   "cell_type": "code",
   "execution_count": 29,
   "metadata": {},
   "outputs": [
    {
     "data": {
      "text/html": [
       "<div>\n",
       "<style scoped>\n",
       "    .dataframe tbody tr th:only-of-type {\n",
       "        vertical-align: middle;\n",
       "    }\n",
       "\n",
       "    .dataframe tbody tr th {\n",
       "        vertical-align: top;\n",
       "    }\n",
       "\n",
       "    .dataframe thead th {\n",
       "        text-align: right;\n",
       "    }\n",
       "</style>\n",
       "<table border=\"1\" class=\"dataframe\">\n",
       "  <thead>\n",
       "    <tr style=\"text-align: right;\">\n",
       "      <th></th>\n",
       "      <th>Distance</th>\n",
       "      <th>Availability</th>\n",
       "      <th>Security</th>\n",
       "    </tr>\n",
       "  </thead>\n",
       "  <tbody>\n",
       "    <tr>\n",
       "      <th>l'Antiga Esquerra de l'Eixample</th>\n",
       "      <td>17</td>\n",
       "      <td>12</td>\n",
       "      <td>0.961902</td>\n",
       "    </tr>\n",
       "    <tr>\n",
       "      <th>La Nova Esquerra de l'Eixample</th>\n",
       "      <td>11</td>\n",
       "      <td>8</td>\n",
       "      <td>1.771799</td>\n",
       "    </tr>\n",
       "    <tr>\n",
       "      <th>Dreta de l'Eixample</th>\n",
       "      <td>6</td>\n",
       "      <td>9</td>\n",
       "      <td>0.106018</td>\n",
       "    </tr>\n",
       "    <tr>\n",
       "      <th>Sant Gervasi-Galvany</th>\n",
       "      <td>4</td>\n",
       "      <td>11</td>\n",
       "      <td>0.500254</td>\n",
       "    </tr>\n",
       "    <tr>\n",
       "      <th>Sant Antoni</th>\n",
       "      <td>4</td>\n",
       "      <td>7</td>\n",
       "      <td>1.943936</td>\n",
       "    </tr>\n",
       "    <tr>\n",
       "      <th>El Raval</th>\n",
       "      <td>3</td>\n",
       "      <td>13</td>\n",
       "      <td>2.225767</td>\n",
       "    </tr>\n",
       "    <tr>\n",
       "      <th>Les Corts</th>\n",
       "      <td>3</td>\n",
       "      <td>7</td>\n",
       "      <td>0.707541</td>\n",
       "    </tr>\n",
       "    <tr>\n",
       "      <th>Sants</th>\n",
       "      <td>2</td>\n",
       "      <td>2</td>\n",
       "      <td>1.154139</td>\n",
       "    </tr>\n",
       "    <tr>\n",
       "      <th>Vila de Gràcia</th>\n",
       "      <td>2</td>\n",
       "      <td>14</td>\n",
       "      <td>1.328067</td>\n",
       "    </tr>\n",
       "    <tr>\n",
       "      <th>El Gòtic</th>\n",
       "      <td>2</td>\n",
       "      <td>9</td>\n",
       "      <td>0.084820</td>\n",
       "    </tr>\n",
       "    <tr>\n",
       "      <th>Hostafrancs</th>\n",
       "      <td>1</td>\n",
       "      <td>5</td>\n",
       "      <td>0.864401</td>\n",
       "    </tr>\n",
       "  </tbody>\n",
       "</table>\n",
       "</div>"
      ],
      "text/plain": [
       "                                 Distance  Availability  Security\n",
       "l'Antiga Esquerra de l'Eixample        17            12  0.961902\n",
       "La Nova Esquerra de l'Eixample         11             8  1.771799\n",
       "Dreta de l'Eixample                     6             9  0.106018\n",
       "Sant Gervasi-Galvany                    4            11  0.500254\n",
       "Sant Antoni                             4             7  1.943936\n",
       "El Raval                                3            13  2.225767\n",
       "Les Corts                               3             7  0.707541\n",
       "Sants                                   2             2  1.154139\n",
       "Vila de Gràcia                          2            14  1.328067\n",
       "El Gòtic                                2             9  0.084820\n",
       "Hostafrancs                             1             5  0.864401"
      ]
     },
     "execution_count": 29,
     "metadata": {},
     "output_type": "execute_result"
    }
   ],
   "source": [
    "df"
   ]
  },
  {
   "cell_type": "code",
   "execution_count": 58,
   "metadata": {},
   "outputs": [],
   "source": [
    "min_max_scaler = preprocessing.MinMaxScaler()\n",
    "\n",
    "distance = df[['Distance']].values.astype(float)\n",
    "availability = df[['Availability']].values.astype(float)\n",
    "security = df[['Security']].values.astype(float)\n",
    "\n",
    "distance_normalized = min_max_scaler.fit_transform(distance)\n",
    "availability_normalized = min_max_scaler.fit_transform(availability)\n",
    "security_normalized = min_max_scaler.fit_transform(security)\n",
    "df_normalized = pd.DataFrame(index=df.index)\n",
    "df_normalized['Distance'] = distance_normalized\n",
    "df_normalized['Availability'] = availability_normalized\n",
    "df_normalized['Security'] = security_normalized\n",
    "df_normalized['Ranking'] = df.apply(lambda x: x['Distance'] + x['Availability'] + x['Security'], axis=1)\n",
    "df_normalized = df_normalized.sort_values('Ranking', ascending=False)\n",
    "df_normalized.head(3)"
   ]
  },
  {
   "cell_type": "code",
   "execution_count": 60,
   "metadata": {},
   "outputs": [],
   "source": [
    "df_normalized['Ranking'] = df.apply(lambda x: x['Distance'] + x['Availability'] + x['Security'], axis=1)"
   ]
  },
  {
   "cell_type": "code",
   "execution_count": 75,
   "metadata": {},
   "outputs": [
    {
     "data": {
      "text/html": [
       "<div>\n",
       "<style scoped>\n",
       "    .dataframe tbody tr th:only-of-type {\n",
       "        vertical-align: middle;\n",
       "    }\n",
       "\n",
       "    .dataframe tbody tr th {\n",
       "        vertical-align: top;\n",
       "    }\n",
       "\n",
       "    .dataframe thead th {\n",
       "        text-align: right;\n",
       "    }\n",
       "</style>\n",
       "<table border=\"1\" class=\"dataframe\">\n",
       "  <thead>\n",
       "    <tr style=\"text-align: right;\">\n",
       "      <th></th>\n",
       "      <th>Distance</th>\n",
       "      <th>Availability</th>\n",
       "      <th>Security</th>\n",
       "      <th>Ranking</th>\n",
       "    </tr>\n",
       "  </thead>\n",
       "  <tbody>\n",
       "    <tr>\n",
       "      <th>l'Antiga Esquerra de l'Eixample</th>\n",
       "      <td>1.000</td>\n",
       "      <td>0.833333</td>\n",
       "      <td>0.409670</td>\n",
       "      <td>29.961902</td>\n",
       "    </tr>\n",
       "    <tr>\n",
       "      <th>La Nova Esquerra de l'Eixample</th>\n",
       "      <td>0.625</td>\n",
       "      <td>0.500000</td>\n",
       "      <td>0.787959</td>\n",
       "      <td>20.771799</td>\n",
       "    </tr>\n",
       "    <tr>\n",
       "      <th>El Raval</th>\n",
       "      <td>0.125</td>\n",
       "      <td>0.916667</td>\n",
       "      <td>1.000000</td>\n",
       "      <td>18.225767</td>\n",
       "    </tr>\n",
       "  </tbody>\n",
       "</table>\n",
       "</div>"
      ],
      "text/plain": [
       "                                 Distance  Availability  Security    Ranking\n",
       "l'Antiga Esquerra de l'Eixample     1.000      0.833333  0.409670  29.961902\n",
       "La Nova Esquerra de l'Eixample      0.625      0.500000  0.787959  20.771799\n",
       "El Raval                            0.125      0.916667  1.000000  18.225767"
      ]
     },
     "execution_count": 75,
     "metadata": {},
     "output_type": "execute_result"
    }
   ],
   "source": [
    "df_normalized = df_normalized.sort_values('Ranking', ascending=False)\n",
    "df_normalized.head(3)"
   ]
  },
  {
   "cell_type": "code",
   "execution_count": 30,
   "metadata": {},
   "outputs": [],
   "source": [
    "fc = tl.FileCollection.open(\"../barris_geo.json\")"
   ]
  },
  {
   "cell_type": "code",
   "execution_count": 77,
   "metadata": {},
   "outputs": [],
   "source": [
    "geo_alias = alias_dictionary(df_normalized.head(3).index.values,list(fc.get_values(\"N_Barri\")))"
   ]
  },
  {
   "cell_type": "code",
   "execution_count": 78,
   "metadata": {},
   "outputs": [
    {
     "data": {
      "text/plain": [
       "{\"l'Antiga Esquerra de l'Eixample\": <__main__.string_conversion at 0x11d233588>,\n",
       " \"La Nova Esquerra de l'Eixample\": <__main__.string_conversion at 0x11d233c18>,\n",
       " 'El Raval': <__main__.string_conversion at 0x11d2332e8>}"
      ]
     },
     "execution_count": 78,
     "metadata": {},
     "output_type": "execute_result"
    }
   ],
   "source": [
    "geo_alias"
   ]
  },
  {
   "cell_type": "code",
   "execution_count": 79,
   "metadata": {},
   "outputs": [
    {
     "name": "stderr",
     "output_type": "stream",
     "text": [
      "/Users/seba/anaconda3/envs/telluric36/lib/python3.6/site-packages/telluric/plotting.py:171: UserWarning: Plotting a limited representation of the data, use the .plot() method for further customization\n",
      "  \"Plotting a limited representation of the data, use the .plot() method for further customization\")\n"
     ]
    },
    {
     "data": {
      "text/html": [
       "<div style=\"width:100%;\"><div style=\"position:relative;width:100%;height:0;padding-bottom:60%;\"><iframe src=\"data:text/html;charset=utf-8;base64,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\" style=\"position:absolute;width:100%;height:100%;left:0;top:0;border:none !important;\" allowfullscreen webkitallowfullscreen mozallowfullscreen></iframe></div></div>"
      ],
      "text/plain": [
       "[GeoFeature(Polygon, {'C_Distri': '01', 'N_Distri': 'Ciutat Vella', 'C_Barri': '01', 'N_Barri': 'el Raval', 'Homes': 26553, 'Dones': 21850, 'Area': 1098392.91379, 'Perim': 5557.372878, 'Coord_X': 430732.006258, 'Coord_Y': 4581363.15123, 'WEB_1': 'http://www.bcn.cat/ciutatvella', 'WEB_2': 'http://www.bcn.cat/estadistica/catala/dades/inf/anuari/index.htm', 'WEB_3': 'http://www.bcn.cat/estadistica/catala/dades/guiadt01/index.htm', 'WEB_4': 'http://www.bcn.cat/estadistica/catala/dades/inf/barris/a2011/barri1.pdf'}), GeoFeature(Polygon, {'C_Distri': '02', 'N_Distri': 'Eixample', 'C_Barri': '08', 'N_Barri': \"l'Antiga Esquerra de l'Eixample\", 'Homes': 19434, 'Dones': 22727, 'Area': 1234453.33528, 'Perim': 4851.622805, 'Coord_X': 429460.460492, 'Coord_Y': 4582529.48103, 'WEB_1': 'http://www.bcn.cat/eixample', 'WEB_2': 'http://www.bcn.cat/estadistica/catala/dades/inf/anuari/index.htm', 'WEB_3': 'http://www.bcn.cat/estadistica/catala/dades/guiadt02/index.htm', 'WEB_4': 'http://www.bcn.cat/estadistica/catala/dades/inf/barris/a2011/barri8.pdf'}), GeoFeature(Polygon, {'C_Distri': '02', 'N_Distri': 'Eixample', 'C_Barri': '09', 'N_Barri': \"la Nova Esquerra de l'Eixample\", 'Homes': 27038, 'Dones': 31186, 'Area': 1337656.30825, 'Perim': 4626.630284, 'Coord_X': 428937.504226, 'Coord_Y': 4581835.50048, 'WEB_1': 'http://www.bcn.cat/eixample', 'WEB_2': 'http://www.bcn.cat/estadistica/catala/dades/inf/anuari/index.htm', 'WEB_3': 'http://www.bcn.cat/estadistica/catala/dades/guiadt02/index.htm', 'WEB_4': 'http://www.bcn.cat/estadistica/catala/dades/inf/barris/a2011/barri9.pdf'})]"
      ]
     },
     "execution_count": 79,
     "metadata": {},
     "output_type": "execute_result"
    }
   ],
   "source": [
    "tl.FeatureCollection(barri for barri in fc if barri['N_Barri'] in alias_list(geo_alias))"
   ]
  },
  {
   "cell_type": "code",
   "execution_count": null,
   "metadata": {},
   "outputs": [],
   "source": []
  },
  {
   "cell_type": "code",
   "execution_count": null,
   "metadata": {},
   "outputs": [],
   "source": []
  },
  {
   "cell_type": "code",
   "execution_count": 1,
   "metadata": {},
   "outputs": [],
   "source": [
    "from Ranking import Ranking"
   ]
  },
  {
   "cell_type": "code",
   "execution_count": 2,
   "metadata": {},
   "outputs": [],
   "source": [
    "ranking = Ranking()"
   ]
  },
  {
   "cell_type": "code",
   "execution_count": 6,
   "metadata": {},
   "outputs": [
    {
     "name": "stdout",
     "output_type": "stream",
     "text": [
      "                                    Distance  Availability  Security\n",
      "El Parc i la Llacuna del Poblenou         21             8 -0.615621\n",
      "Fort Pienc                                 8            38  0.997714\n",
      "La Vila Olímpica del Poblenou              5             2 -0.854167\n",
      "S. Pere, Santa Caterina, i la Rib.         4            14  0.047497\n",
      "Sagrada Familia                            2            22  2.203224\n",
      "El Clot                                    2             6  0.827150\n",
      "Dreta de l'Eixample                        1            14  0.106018\n",
      "                                    Distance  Availability  Security  \\\n",
      "Fort Pienc                              0.35      1.000000  0.605706   \n",
      "El Parc i la Llacuna del Poblenou       1.00      0.166667  0.078023   \n",
      "Sagrada Familia                         0.05      0.555556  1.000000   \n",
      "S. Pere, Santa Caterina, i la Rib.      0.15      0.333333  0.294913   \n",
      "Dreta de l'Eixample                     0.00      0.333333  0.314054   \n",
      "El Clot                                 0.05      0.111111  0.549919   \n",
      "La Vila Olímpica del Poblenou           0.20      0.000000  0.000000   \n",
      "\n",
      "                                       Ranking  \n",
      "Fort Pienc                          183.002286  \n",
      "El Parc i la Llacuna del Poblenou   116.615621  \n",
      "Sagrada Familia                      93.796776  \n",
      "S. Pere, Santa Caterina, i la Rib.   71.952503  \n",
      "Dreta de l'Eixample                  59.893982  \n",
      "El Clot                              31.172850  \n",
      "La Vila Olímpica del Poblenou        28.854167  \n"
     ]
    }
   ],
   "source": [
    "lista = ranking.get_ranking('Almogavers 119', 1000, 300, 900, 5,3,1,6)"
   ]
  },
  {
   "cell_type": "code",
   "execution_count": 7,
   "metadata": {},
   "outputs": [
    {
     "data": {
      "text/plain": [
       "array(['Fort Pienc', 'El Parc i la Llacuna del Poblenou',\n",
       "       'Sagrada Familia', 'S. Pere, Santa Caterina, i la Rib.',\n",
       "       \"Dreta de l'Eixample\", 'El Clot'], dtype=object)"
      ]
     },
     "execution_count": 7,
     "metadata": {},
     "output_type": "execute_result"
    }
   ],
   "source": [
    "lista\n"
   ]
  },
  {
   "cell_type": "code",
   "execution_count": 9,
   "metadata": {},
   "outputs": [],
   "source": [
    "locations = []\n",
    "for apt in ranking.idealista.neighborhoods[lista[1]]:\n",
    "    locations.append((apt['latitude'],apt['longitude']))"
   ]
  },
  {
   "cell_type": "code",
   "execution_count": 13,
   "metadata": {},
   "outputs": [
    {
     "data": {
      "text/plain": [
       "4"
      ]
     },
     "execution_count": 13,
     "metadata": {},
     "output_type": "execute_result"
    }
   ],
   "source": [
    "ranking.alias_dictionary(lista, ranking.)"
   ]
  },
  {
   "cell_type": "code",
   "execution_count": 8,
   "metadata": {},
   "outputs": [
    {
     "name": "stderr",
     "output_type": "stream",
     "text": [
      "/Users/seba/anaconda3/envs/telluric36/lib/python3.6/site-packages/telluric/plotting.py:171: UserWarning: Plotting a limited representation of the data, use the .plot() method for further customization\n",
      "  \"Plotting a limited representation of the data, use the .plot() method for further customization\")\n"
     ]
    },
    {
     "data": {
      "text/html": [
       "<div style=\"width:100%;\"><div style=\"position:relative;width:100%;height:0;padding-bottom:60%;\"><iframe src=\"data:text/html;charset=utf-8;base64,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\" style=\"position:absolute;width:100%;height:100%;left:0;top:0;border:none !important;\" allowfullscreen webkitallowfullscreen mozallowfullscreen></iframe></div></div>"
      ],
      "text/plain": [
       "[GeoFeature(Polygon, {'C_Distri': '01', 'N_Distri': 'Ciutat Vella', 'C_Barri': '04', 'N_Barri': 'Sant Pere, Santa Caterina i la Ribera', 'Homes': 11466, 'Dones': 11390, 'Area': 1114298.81253, 'Perim': 4658.031512, 'Coord_X': 431822.634373, 'Coord_Y': 4582222.36348, 'WEB_1': 'http://www.bcn.cat/ciutatvella', 'WEB_2': 'http://www.bcn.cat/estadistica/catala/dades/inf/anuari/index.htm', 'WEB_3': 'http://www.bcn.cat/estadistica/catala/dades/guiadt01/index.htm', 'WEB_4': 'http://www.bcn.cat/estadistica/catala/dades/inf/barris/a2011/barri4.pdf'}), GeoFeature(Polygon, {'C_Distri': '02', 'N_Distri': 'Eixample', 'C_Barri': '05', 'N_Barri': 'el Fort Pienc', 'Homes': 15039, 'Dones': 16924, 'Area': 928901.046575, 'Perim': 4175.971325, 'Coord_X': 431670.741604, 'Coord_Y': 4583403.35904, 'WEB_1': 'http://www.bcn.cat/eixample', 'WEB_2': 'http://www.bcn.cat/estadistica/catala/dades/inf/anuari/index.htm', 'WEB_3': 'http://www.bcn.cat/estadistica/catala/dades/guiadt02/index.htm', 'WEB_4': 'http://www.bcn.cat/estadistica/catala/dades/inf/barris/a2011/barri5.pdf'}), GeoFeature(Polygon, {'C_Distri': '02', 'N_Distri': 'Eixample', 'C_Barri': '06', 'N_Barri': 'la Sagrada Família', 'Homes': 23686, 'Dones': 27937, 'Area': 1050991.15274, 'Perim': 4336.621674, 'Coord_X': 431269.360994, 'Coord_Y': 4584298.69238, 'WEB_1': 'http://www.bcn.cat/eixample', 'WEB_2': 'http://www.bcn.cat/estadistica/catala/dades/inf/anuari/index.htm', 'WEB_3': 'http://www.bcn.cat/estadistica/catala/dades/guiadt02/index.htm', 'WEB_4': 'http://www.bcn.cat/estadistica/catala/dades/inf/barris/a2011/barri6.pdf'}), GeoFeature(Polygon, {'C_Distri': '02', 'N_Distri': 'Eixample', 'C_Barri': '07', 'N_Barri': \"la Dreta de l'Eixample\", 'Homes': 20240, 'Dones': 23754, 'Area': 2123404.58138, 'Perim': 6460.307377, 'Coord_X': 430556.145518, 'Coord_Y': 4583021.61979, 'WEB_1': 'http://www.bcn.cat/eixample', 'WEB_2': 'http://www.bcn.cat/estadistica/catala/dades/inf/anuari/index.htm', 'WEB_3': 'http://www.bcn.cat/estadistica/catala/dades/guiadt02/index.htm', 'WEB_4': 'http://www.bcn.cat/estadistica/catala/dades/inf/barris/a2011/barri7.pdf'}), GeoFeature(Polygon, {'C_Distri': '10', 'N_Distri': 'Sant Martí', 'C_Barri': '65', 'N_Barri': 'el Clot', 'Homes': 13062, 'Dones': 14108, 'Area': 695953.298722, 'Perim': 3917.679732, 'Coord_X': 432396.51529, 'Coord_Y': 4584770.70968, 'WEB_1': 'http://www.bcn.cat/santmarti', 'WEB_2': 'http://www.bcn.cat/estadistica/catala/dades/inf/anuari/index.htm', 'WEB_3': 'http://www.bcn.cat/estadistica/catala/dades/guiadt10/index.htm', 'WEB_4': 'http://www.bcn.cat/estadistica/catala/dades/inf/barris/a2011/barri65.pdf'}), GeoFeature(Polygon, {'C_Distri': '10', 'N_Distri': 'Sant Martí', 'C_Barri': '66', 'N_Barri': 'el Parc i la Llacuna del Poblenou', 'Homes': 7231, 'Dones': 7719, 'Area': 1114038.06822, 'Perim': 5339.802362, 'Coord_X': 432407.0575, 'Coord_Y': 4583524.05951, 'WEB_1': 'http://www.bcn.cat/santmarti', 'WEB_2': 'http://www.bcn.cat/estadistica/catala/dades/inf/anuari/index.htm', 'WEB_3': 'http://www.bcn.cat/estadistica/catala/dades/guiadt10/index.htm', 'WEB_4': 'http://www.bcn.cat/estadistica/catala/dades/inf/barris/a2011/barri66.pdf'})]"
      ]
     },
     "execution_count": 8,
     "metadata": {},
     "output_type": "execute_result"
    }
   ],
   "source": [
    "ranking.show_in_map(lista)"
   ]
  },
  {
   "cell_type": "code",
   "execution_count": null,
   "metadata": {},
   "outputs": [],
   "source": [
    "geo_alias = self.alias_dictionary(neighborhoods,list(self.fc.get_values(\"N_Barri\")))\n",
    "        tl.FeatureCollection(barri for barri in self.fc if barri['N_Barri'] in self.alias_list(geo_alias))"
   ]
  }
 ],
 "metadata": {
  "kernelspec": {
   "display_name": "Python (telluric36)",
   "language": "python",
   "name": "telluric36"
  },
  "language_info": {
   "codemirror_mode": {
    "name": "ipython",
    "version": 3
   },
   "file_extension": ".py",
   "mimetype": "text/x-python",
   "name": "python",
   "nbconvert_exporter": "python",
   "pygments_lexer": "ipython3",
   "version": "3.6.8"
  }
 },
 "nbformat": 4,
 "nbformat_minor": 2
}
