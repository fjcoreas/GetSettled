{
 "cells": [
  {
   "cell_type": "code",
   "execution_count": 1,
   "metadata": {},
   "outputs": [],
   "source": [
    "from geopy.geocoders import Here\n",
    "import json"
   ]
  },
  {
   "cell_type": "code",
   "execution_count": 2,
   "metadata": {},
   "outputs": [],
   "source": [
    "with open('../accounts.json') as json_file:  \n",
    "    data = json.load(json_file)"
   ]
  },
  {
   "cell_type": "code",
   "execution_count": 3,
   "metadata": {},
   "outputs": [],
   "source": [
    "app_code = data['accounts']['Here']['app_code']\n",
    "app_id = data['accounts']['Here']['app_id']\n",
    "user_agent = data['accounts']['Here']['user_agent']\n",
    "here = Here(app_code=app_code, app_id=app_id,user_agent=user_agent)"
   ]
  },
  {
   "cell_type": "code",
   "execution_count": 4,
   "metadata": {},
   "outputs": [],
   "source": [
    "location = here.geocode('Carrer de Valencia 156')"
   ]
  },
  {
   "cell_type": "code",
   "execution_count": 136,
   "metadata": {},
   "outputs": [],
   "source": [
    "import telluric as tl\n",
    "from telluric.constants import WGS84_CRS, WEB_MERCATOR_CRS"
   ]
  },
  {
   "cell_type": "code",
   "execution_count": null,
   "metadata": {},
   "outputs": [],
   "source": [
    "coordinates = _.to_record(WGS84_CRS)"
   ]
  },
  {
   "cell_type": "code",
   "execution_count": 245,
   "metadata": {},
   "outputs": [
    {
     "data": {
      "text/plain": [
       "{'type': 'Polygon',\n",
       " 'coordinates': (((2.17854535764205, 41.39882789999997),\n",
       "   (2.1785431948252363, 41.39879487564542),\n",
       "   (2.178536727203903, 41.39876216931692),\n",
       "   (2.1785260170647796, 41.398730095994985),\n",
       "   (2.1785111675523603, 41.398698964564446),\n",
       "   (2.1784923216755674, 41.39866907483952),\n",
       "   (2.1784696609304963, 41.398640714676525),\n",
       "   (2.17844340355251, 41.3986141572015),\n",
       "   (2.178413802414512, 41.39858965817982),\n",
       "   (2.1783811425916437, 41.39856745355289),\n",
       "   (2.1783457386158522, 41.39854775716587),\n",
       "   (2.1783079314467777, 41.3985307587081),\n",
       "   (2.1782680851881264, 41.39851662188617),\n",
       "   (2.178226583581152, 41.39850548284734),\n",
       "   (2.1781838263090156, 41.39849744886818),\n",
       "   (2.178140225147622, 41.39849259732148),\n",
       "   (2.17809619999999, 41.39849097493099),\n",
       "   (2.1780521748523585, 41.39849259732148),\n",
       "   (2.178008573690965, 41.39849744886818),\n",
       "   (2.1779658164188285, 41.39850548284734),\n",
       "   (2.177924314811854, 41.39851662188617),\n",
       "   (2.1778844685532026, 41.3985307587081),\n",
       "   (2.1778466613841285, 41.39854775716587),\n",
       "   (2.1778112574083366, 41.39856745355289),\n",
       "   (2.177778597585468, 41.39858965817982),\n",
       "   (2.17774899644747, 41.3986141572015),\n",
       "   (2.177722739069484, 41.398640714676525),\n",
       "   (2.1777000783244134, 41.39866907483952),\n",
       "   (2.1776812324476205, 41.398698964564446),\n",
       "   (2.1776663829352008, 41.398730095994985),\n",
       "   (2.177655672796077, 41.39876216931692),\n",
       "   (2.1776492051747445, 41.39879487564542),\n",
       "   (2.1776470423579304, 41.39882789999997),\n",
       "   (2.1776492051747445, 41.398860924337754),\n",
       "   (2.177655672796077, 41.39889363061656),\n",
       "   (2.1776663829352008, 41.398925703857785),\n",
       "   (2.1776812324476205, 41.39895683517973),\n",
       "   (2.1777000783244134, 41.3989867247723),\n",
       "   (2.177722739069484, 41.39901508478431),\n",
       "   (2.17774899644747, 41.399041642095504),\n",
       "   (2.177778597585468, 41.399066140946815),\n",
       "   (2.1778112574083366, 41.399088345403364),\n",
       "   (2.1778466613841285, 41.39910804162655),\n",
       "   (2.1778844685532026, 41.39912503993334),\n",
       "   (2.177924314811854, 41.39913917662293),\n",
       "   (2.1779658164188285, 41.39915031555315),\n",
       "   (2.178008573690965, 41.39915834945161),\n",
       "   (2.1780521748523585, 41.399163200948614),\n",
       "   (2.17809619999999, 41.399164823322316),\n",
       "   (2.178140225147622, 41.399163200948614),\n",
       "   (2.1781838263090156, 41.39915834945161),\n",
       "   (2.178226583581152, 41.39915031555315),\n",
       "   (2.1782680851881264, 41.39913917662293),\n",
       "   (2.1783079314467777, 41.39912503993334),\n",
       "   (2.1783457386158522, 41.39910804162655),\n",
       "   (2.1783811425916437, 41.399088345403364),\n",
       "   (2.178413802414512, 41.399066140946815),\n",
       "   (2.17844340355251, 41.399041642095504),\n",
       "   (2.1784696609304963, 41.39901508478431),\n",
       "   (2.1784923216755674, 41.3989867247723),\n",
       "   (2.1785111675523603, 41.39895683517973),\n",
       "   (2.1785260170647796, 41.398925703857785),\n",
       "   (2.178536727203903, 41.39889363061656),\n",
       "   (2.1785431948252363, 41.398860924337754),\n",
       "   (2.17854535764205, 41.39882789999997)),)}"
      ]
     },
     "execution_count": 245,
     "metadata": {},
     "output_type": "execute_result"
    }
   ],
   "source": [
    "\n",
    "\n"
   ]
  },
  {
   "cell_type": "code",
   "execution_count": 240,
   "metadata": {},
   "outputs": [
    {
     "data": {
      "text/plain": [
       "{'type': 'Polygon',\n",
       " 'coordinates': (((2.2230119642059663, 41.39882789999997),\n",
       "   (2.222795682524587, 41.395525381480525),\n",
       "   (2.222148920391274, 41.392254502632035),\n",
       "   (2.2210779064789254, 41.38904677096416),\n",
       "   (2.2195929552369944, 41.385933090309045),\n",
       "   (2.217708367557697, 41.38294346275386),\n",
       "   (2.215442293050606, 41.380106699103116),\n",
       "   (2.212816555251986, 41.37745014068252),\n",
       "   (2.209856441452212, 41.37499939519157),\n",
       "   (2.2065904591653394, 41.372778089180926),\n",
       "   (2.2030500615861577, 41.37080763957311),\n",
       "   (2.1992693446787333, 41.36910704646322),\n",
       "   (2.1952847188136344, 41.367692709231235),\n",
       "   (2.1911345581161594, 41.36657826777177),\n",
       "   (2.1868588309025347, 41.36577447040226),\n",
       "   (2.1824987147631765, 41.36528906975003),\n",
       "   (2.17809619999999, 41.365126747643764),\n",
       "   (2.1736936852368034, 41.36528906975003),\n",
       "   (2.169333569097446, 41.36577447040226),\n",
       "   (2.165057841883821, 41.36657826777177),\n",
       "   (2.1609076811863464, 41.367692709231235),\n",
       "   (2.1569230553212475, 41.36910704646322),\n",
       "   (2.1531423384138226, 41.37080763957311),\n",
       "   (2.1496019408346414, 41.372778089180926),\n",
       "   (2.146335958547769, 41.37499939519157),\n",
       "   (2.143375844747995, 41.37745014068252),\n",
       "   (2.140750106949375, 41.380106699103116),\n",
       "   (2.138484032442283, 41.38294346275386),\n",
       "   (2.136599444762986, 41.385933090309045),\n",
       "   (2.1351144935210544, 41.38904677096416),\n",
       "   (2.1340434796087067, 41.392254502632035),\n",
       "   (2.133396717475393, 41.395525381480525),\n",
       "   (2.1331804357940145, 41.39882789999997),\n",
       "   (2.133396717475393, 41.40213025071298),\n",
       "   (2.1340434796087067, 41.405400632590826),\n",
       "   (2.1351144935210544, 41.408607557222176),\n",
       "   (2.136599444762986, 41.41172015178885),\n",
       "   (2.138484032442283, 41.41470845594146),\n",
       "   (2.140750106949375, 41.41754370973314),\n",
       "   (2.1433758447479945, 41.42019862986122),\n",
       "   (2.146335958547769, 41.42264767158485),\n",
       "   (2.149601940834641, 41.42486727382823),\n",
       "   (2.1531423384138226, 41.426836085143634),\n",
       "   (2.1569230553212475, 41.42853516839463),\n",
       "   (2.1609076811863464, 41.429948182224244),\n",
       "   (2.165057841883821, 41.43106153759547),\n",
       "   (2.169333569097446, 41.431864527928624),\n",
       "   (2.1736936852368034, 41.43234943161033),\n",
       "   (2.17809619999999, 41.432511585910184),\n",
       "   (2.1824987147631765, 41.43234943161033),\n",
       "   (2.1868588309025347, 41.431864527928624),\n",
       "   (2.1911345581161594, 41.43106153759547),\n",
       "   (2.1952847188136344, 41.429948182224244),\n",
       "   (2.1992693446787333, 41.42853516839463),\n",
       "   (2.2030500615861577, 41.426836085143634),\n",
       "   (2.2065904591653394, 41.42486727382823),\n",
       "   (2.2098564414522115, 41.42264767158485),\n",
       "   (2.2128165552519854, 41.42019862986122),\n",
       "   (2.215442293050606, 41.41754370973314),\n",
       "   (2.217708367557697, 41.41470845594146),\n",
       "   (2.2195929552369944, 41.41172015178885),\n",
       "   (2.2210779064789254, 41.408607557222176),\n",
       "   (2.222148920391274, 41.405400632590826),\n",
       "   (2.222795682524587, 41.40213025071298),\n",
       "   (2.2230119642059663, 41.39882789999997)),)}"
      ]
     },
     "execution_count": 240,
     "metadata": {},
     "output_type": "execute_result"
    }
   ],
   "source": [
    "gv1.to_record(WGS84_CRS)"
   ]
  },
  {
   "cell_type": "code",
   "execution_count": 255,
   "metadata": {},
   "outputs": [],
   "source": [
    "a = []"
   ]
  },
  {
   "cell_type": "code",
   "execution_count": 226,
   "metadata": {},
   "outputs": [],
   "source": [
    "coordinates = _.to_record(WGS84_CRS)"
   ]
  },
  {
   "cell_type": "code",
   "execution_count": 249,
   "metadata": {},
   "outputs": [
    {
     "ename": "IndentationError",
     "evalue": "unexpected indent (<ipython-input-249-d39f41d101c8>, line 2)",
     "output_type": "error",
     "traceback": [
      "\u001b[0;36m  File \u001b[0;32m\"<ipython-input-249-d39f41d101c8>\"\u001b[0;36m, line \u001b[0;32m2\u001b[0m\n\u001b[0;31m    .reproject(WEB_MERCATOR_CRS)\u001b[0m\n\u001b[0m    ^\u001b[0m\n\u001b[0;31mIndentationError\u001b[0m\u001b[0;31m:\u001b[0m unexpected indent\n"
     ]
    }
   ],
   "source": [
    "tl.GeoVector.point(location.point.longitude, location.point.latitude, crs=WGS84_CRS)\n",
    "    .reproject(WEB_MERCATOR_CRS)\n",
    "    .buffer(500).to_record(WGS84_CRS)['coordinates'][0]"
   ]
  },
  {
   "cell_type": "code",
   "execution_count": null,
   "metadata": {},
   "outputs": [],
   "source": []
  },
  {
   "cell_type": "code",
   "execution_count": 284,
   "metadata": {},
   "outputs": [],
   "source": [
    "\n",
    "def get_cirlce_location(location, distance):\n",
    "    return (tl.GeoVector.point(location.longitude, location.latitude)\n",
    "            .reproject(WEB_MERCATOR_CRS)\n",
    "            .buffer(distance)\n",
    "            .to_record(WGS84_CRS)['coordinates'][0]\n",
    "        )\n",
    "\n",
    "def get_circles_locations(location, distance=1000):\n",
    "    outer_circle = distance + 400\n",
    "    coordinates = []\n",
    "    while distance > 0:\n",
    "        coordinates.append(get_cirlce_location(location, distance))\n",
    "        distance -= 350\n",
    "    coordinates.append(get_cirlce_location(location, outer_circle))\n",
    "    return coordinates\n",
    "    \n",
    "        "
   ]
  },
  {
   "cell_type": "code",
   "execution_count": 292,
   "metadata": {},
   "outputs": [],
   "source": [
    "coordinates = get_circles_locations(location.point,2000)"
   ]
  },
  {
   "cell_type": "code",
   "execution_count": 296,
   "metadata": {},
   "outputs": [],
   "source": [
    "for coordinate in coordinates:\n",
    "    for i in range(8,65,8):\n",
    "        coord = coordinate[i]\n",
    "        coordenadas.append([str(coord[::-1][0]),str(coord[::-1][1])])"
   ]
  },
  {
   "cell_type": "code",
   "execution_count": 297,
   "metadata": {},
   "outputs": [
    {
     "data": {
      "text/plain": [
       "57"
      ]
     },
     "execution_count": 297,
     "metadata": {},
     "output_type": "execute_result"
    }
   ],
   "source": [
    "len(coordenadas)"
   ]
  },
  {
   "cell_type": "code",
   "execution_count": 295,
   "metadata": {},
   "outputs": [],
   "source": [
    "coordenadas = [['lat_dms','lon_dms']]"
   ]
  },
  {
   "cell_type": "code",
   "execution_count": 298,
   "metadata": {},
   "outputs": [],
   "source": [
    "import csv\n",
    "\n",
    "with open(\"output.csv\", \"w\") as f:\n",
    "    writer = csv.writer(f)\n",
    "    for coord in coordenadas:\n",
    "        writer.writerow(coord)"
   ]
  },
  {
   "cell_type": "code",
   "execution_count": 100,
   "metadata": {},
   "outputs": [],
   "source": [
    "from geopy.geocoders import Nominatim\n",
    "import time\n",
    "from collections import Counter\n",
    "geolocator = Nominatim(user_agent=\"get_setlled\")\n"
   ]
  },
  {
   "cell_type": "code",
   "execution_count": 27,
   "metadata": {},
   "outputs": [],
   "source": [
    "locations = here.reverse(location.point)"
   ]
  },
  {
   "cell_type": "code",
   "execution_count": 15,
   "metadata": {},
   "outputs": [
    {
     "data": {
      "text/plain": [
       "[Location(Carrer de València, 156, 08011 Barcelona (Barcelona), Espanya, Barcelona, Catalunya 08011, ESP, (41.38628, 2.15476, 0.0)),\n",
       " Location(Carrer de València, 158, 08011 Barcelona (Barcelona), Espanya, Barcelona, Catalunya 08011, ESP, (41.3864501, 2.1549867, 0.0)),\n",
       " Location(Carrer de Villarroel, 127, 08011 Barcelona (Barcelona), Espanya, Barcelona, Catalunya 08011, ESP, (41.38638, 2.15526, 0.0)),\n",
       " Location(Carrer de Villarroel, 125, 08011 Barcelona (Barcelona), Espanya, Barcelona, Catalunya 08011, ESP, (41.3863, 2.15536, 0.0)),\n",
       " Location(Carrer de Villarroel, 129, 08036 Barcelona (Barcelona), Espanya, Barcelona, Catalunya 08036, ESP, (41.38663, 2.15493, 0.0)),\n",
       " Location(Carrer de València, 146, 08011 Barcelona (Barcelona), Espanya, Barcelona, Catalunya 08011, ESP, (41.38605, 2.15447, 0.0)),\n",
       " Location(Avinguda de Roma, 125, 08011 Barcelona (Barcelona), Espanya, Barcelona, Catalunya 08011, ESP, (41.38583, 2.15514, 0.0)),\n",
       " Location(Carrer de Villarroel, 131, 08036 Barcelona (Barcelona), Espanya, Barcelona, Catalunya 08036, ESP, (41.38672, 2.15483, 0.0)),\n",
       " Location(Carrer de València, 123, 08011 Barcelona (Barcelona), Espanya, Barcelona, Catalunya 08011, ESP, (41.3865907, 2.1551759, 0.0)),\n",
       " Location(Carrer de Villarroel, 114, 08011 Barcelona (Barcelona), Espanya, Barcelona, Catalunya 08011, ESP, (41.38615, 2.15555, 0.0)),\n",
       " Location(Carrer de València, 160, 08011 Barcelona (Barcelona), Espanya, Barcelona, Catalunya 08011, ESP, (41.38668, 2.1553, 0.0)),\n",
       " Location(Carrer de Villarroel, 08011 Barcelona (Barcelona), Espanya, Barcelona, Catalunya 08011, ESP, (41.38605, 2.1557, 0.0)),\n",
       " Location(Carrer de València, 140, 08011 Barcelona (Barcelona), Espanya, Barcelona, Catalunya 08011, ESP, (41.38577, 2.1541, 0.0)),\n",
       " Location(Avinguda de Roma, 140, 08011 Barcelona (Barcelona), Espanya, Barcelona, Catalunya 08011, ESP, (41.38557, 2.15517, 0.0)),\n",
       " Location(Avinguda de Roma, 133, 08011 Barcelona (Barcelona), Espanya, Barcelona, Catalunya 08011, ESP, (41.38613, 2.15588, 0.0)),\n",
       " Location(Carrer del Comte d'Urgell, 144, 08029 Barcelona (Barcelona), Espanya, Barcelona, Catalunya 08029, ESP, (41.3854993, 2.1541138, 0.0)),\n",
       " Location(Carrer del Comte d'Urgell, 146, 08029 Barcelona (Barcelona), Espanya, Barcelona, Catalunya 08029, ESP, (41.38558, 2.15399, 0.0)),\n",
       " Location(Carrer de Villarroel, 143, 08036 Barcelona (Barcelona), Espanya, Barcelona, Catalunya 08036, ESP, (41.38699, 2.15447, 0.0)),\n",
       " Location(Carrer del Comte d'Urgell, 142, 08029 Barcelona (Barcelona), Espanya, Barcelona, Catalunya 08029, ESP, (41.3853943, 2.1542686, 0.0)),\n",
       " Location(Carrer del Comte d'Urgell, 148, 08036 Barcelona (Barcelona), Espanya, Barcelona, Catalunya 08036, ESP, (41.38582, 2.15369, 0.0)),\n",
       " Location(Avinguda de Roma, 08011 Barcelona (Barcelona), Espanya, Barcelona, Catalunya 08011, ESP, (41.38589, 2.15591, 0.0)),\n",
       " Location(Avinguda de Roma, 08029 Barcelona (Barcelona), Espanya, Barcelona, Catalunya 08029, ESP, (41.38532, 2.15438, 0.0)),\n",
       " Location(Carrer del Comte d'Urgell, 08029 Barcelona (Barcelona), Espanya, Barcelona, Catalunya 08029, ESP, (41.38532, 2.15438, 0.0)),\n",
       " Location(Carrer de Villarroel, 117, 08011 Barcelona (Barcelona), Espanya, Barcelona, Catalunya 08011, ESP, (41.38576, 2.15607, 0.0)),\n",
       " Location(Carrer del Comte d'Urgell, 140, 08011 Barcelona (Barcelona), Espanya, Barcelona, Catalunya 08011, ESP, (41.38512, 2.15467, 0.0)),\n",
       " Location(Carrer d'Aragó, 159, 08011 Barcelona (Barcelona), Espanya, Barcelona, Catalunya 08011, ESP, (41.38525, 2.15563, 0.0)),\n",
       " Location(Carrer de València, 99, 08029 Barcelona (Barcelona), Espanya, Barcelona, Catalunya 08029, ESP, (41.38549, 2.15373, 0.0)),\n",
       " Location(Carrer de Villarroel, 151, 08036 Barcelona (Barcelona), Espanya, Barcelona, Catalunya 08036, ESP, (41.3872797, 2.1540633, 0.0)),\n",
       " Location(Carrer de València, 174, 08011 Barcelona (Barcelona), Espanya, Barcelona, Catalunya 08011, ESP, (41.38712, 2.15588, 0.0)),\n",
       " Location(Carrer d'Aragó, 148, 08011 Barcelona (Barcelona), Espanya, Barcelona, Catalunya 08011, ESP, (41.38577, 2.15634, 0.0)),\n",
       " Location(Carrer de Mallorca, 138, 08036 Barcelona (Barcelona), Espanya, Barcelona, Catalunya 08036, ESP, (41.387308, 2.1538838, 0.0)),\n",
       " Location(Carrer de Mallorca, 136, 08036 Barcelona (Barcelona), Espanya, Barcelona, Catalunya 08036, ESP, (41.38714, 2.15367, 0.0)),\n",
       " Location(Carrer del Comte d'Urgell, 134, 08011 Barcelona (Barcelona), Espanya, Barcelona, Catalunya 08011, ESP, (41.3849, 2.154965, 0.0)),\n",
       " Location(Carrer de Mallorca, 130, 08036 Barcelona (Barcelona), Espanya, Barcelona, Catalunya 08036, ESP, (41.3869, 2.15335, 0.0)),\n",
       " Location(Carrer de Villarroel, 115, 08011 Barcelona (Barcelona), Espanya, Barcelona, Catalunya 08011, ESP, (41.38554, 2.15635, 0.0)),\n",
       " Location(Avinguda de Roma, 126, 08015 Barcelona (Barcelona), Espanya, Barcelona, Catalunya 08015, ESP, (41.38507, 2.15409, 0.0)),\n",
       " Location(Carrer de València, 143, 08011 Barcelona (Barcelona), Espanya, Barcelona, Catalunya 08011, ESP, (41.38721, 2.15599, 0.0)),\n",
       " Location(Carrer de Mallorca, 140, 08036 Barcelona (Barcelona), Espanya, Barcelona, Catalunya 08036, ESP, (41.38753, 2.15417, 0.0)),\n",
       " Location(Carrer de Mallorca, 142, 08036 Barcelona (Barcelona), Espanya, Barcelona, Catalunya 08036, ESP, (41.38755, 2.1542, 0.0)),\n",
       " Location(Carrer de Mallorca, 120, 08036 Barcelona (Barcelona), Espanya, Barcelona, Catalunya 08036, ESP, (41.38669, 2.15307, 0.0)),\n",
       " Location(Carrer de València, 91, 08029 Barcelona (Barcelona), Espanya, Barcelona, Catalunya 08029, ESP, (41.3853, 2.15348, 0.0)),\n",
       " Location(Carrer de Casanova, 103, 08036 Barcelona (Barcelona), Espanya, Barcelona, Catalunya 08036, ESP, (41.38748, 2.15603, 0.0)),\n",
       " Location(Carrer de Casanova, 101, 08011 Barcelona (Barcelona), Espanya, Barcelona, Catalunya 08011, ESP, (41.38714, 2.15646, 0.0)),\n",
       " Location(Avinguda de Roma, 08011 Barcelona (Barcelona), Espanya, Barcelona, Catalunya 08011, ESP, (41.38627, 2.15679, 0.0)),\n",
       " Location(Carrer del Comte d'Urgell, 130, 08011 Barcelona (Barcelona), Espanya, Barcelona, Catalunya 08011, ESP, (41.38469, 2.15524, 0.0)),\n",
       " Location(Carrer d'Aragó, 162, 08011 Barcelona (Barcelona), Espanya, Barcelona, Catalunya 08011, ESP, (41.38612, 2.15682, 0.0)),\n",
       " Location(Carrer de Villarroel, 153, 08036 Barcelona (Barcelona), Espanya, Barcelona, Catalunya 08036, ESP, (41.38749, 2.15377, 0.0)),\n",
       " Location(Carrer d'Aragó, 147, 08015 Barcelona (Barcelona), Espanya, Barcelona, Catalunya 08015, ESP, (41.38463, 2.1548, 0.0)),\n",
       " Location(Carrer de Mallorca, 08036 Barcelona (Barcelona), Espanya, Barcelona, Catalunya 08036, ESP, (41.38649, 2.15281, 0.0)),\n",
       " Location(Carrer de Casanova, 115, 08036 Barcelona (Barcelona), Espanya, Barcelona, Catalunya 08036, ESP, (41.3878, 2.1556, 0.0)),\n",
       " Location(Passatge d'Aragó, 13, 08011 Barcelona (Barcelona), Espanya, Barcelona, Catalunya 08011, ESP, (41.3859, 2.15699, 0.0)),\n",
       " Location(Carrer de Mallorca, 118, 08029 Barcelona (Barcelona), Espanya, Barcelona, Catalunya 08029, ESP, (41.38628, 2.15252, 0.0)),\n",
       " Location(Carrer del Comte d'Urgell, 122, 08011 Barcelona (Barcelona), Espanya, Barcelona, Catalunya 08011, ESP, (41.38451, 2.15547, 0.0)),\n",
       " Location(Carrer de Casanova, 08011 Barcelona (Barcelona), Espanya, Barcelona, Catalunya 08011, ESP, (41.38667, 2.15711, 0.0)),\n",
       " Location(Carrer de València, 178, 08011 Barcelona (Barcelona), Espanya, Barcelona, Catalunya 08011, ESP, (41.38753, 2.1564, 0.0)),\n",
       " Location(Carrer del Comte d'Urgell, 168, 08036 Barcelona (Barcelona), Espanya, Barcelona, Catalunya 08036, ESP, (41.38666, 2.15259, 0.0)),\n",
       " Location(Carrer de Mallorca, 158, 08036 Barcelona (Barcelona), Espanya, Barcelona, Catalunya 08036, ESP, (41.38805, 2.15485, 0.0)),\n",
       " Location(Carrer de València, 178I, 08011 Barcelona (Barcelona), Espanya, Barcelona, Catalunya 08011, ESP, (41.38758, 2.15647, 0.0)),\n",
       " Location(Avinguda de Roma, 151, 08011 Barcelona (Barcelona), Espanya, Barcelona, Catalunya 08011, ESP, (41.38675, 2.15726, 0.0)),\n",
       " Location(Carrer del Comte d'Urgell, 172, 08036 Barcelona (Barcelona), Espanya, Barcelona, Catalunya 08036, ESP, (41.38684, 2.15234, 0.0)),\n",
       " Location(Carrer de Casanova, 89, 08011 Barcelona (Barcelona), Espanya, Barcelona, Catalunya 08011, ESP, (41.38632, 2.15759, 0.0)),\n",
       " Location(Carrer de Mallorca, 104, 08029 Barcelona (Barcelona), Espanya, Barcelona, Catalunya 08029, ESP, (41.38598, 2.15213, 0.0)),\n",
       " Location(Carrer de Villarroel, 163, 08036 Barcelona (Barcelona), Espanya, Barcelona, Catalunya 08036, ESP, (41.38785, 2.15329, 0.0)),\n",
       " Location(08036 Barcelona (Barcelona), Espanya, Barcelona, Catalunya 08036, ESP, (41.3879796, 2.1535428, 0.0)),\n",
       " Location(Carrer del Comte Borrell, 184B, 08029 Barcelona (Barcelona), Espanya, Barcelona, Catalunya 08029, ESP, (41.38495, 2.15261, 0.0)),\n",
       " Location(Carrer del Comte d'Urgell, 174, 08036 Barcelona (Barcelona), Espanya, Barcelona, Catalunya 08036, ESP, (41.38692, 2.15223, 0.0)),\n",
       " Location(Carrer de València, 08029 Barcelona (Barcelona), Espanya, Barcelona, Catalunya 08029, ESP, (41.3848, 2.15281, 0.0)),\n",
       " Location(Carrer del Comte Borrell, 08015 Barcelona (Barcelona), Espanya, Barcelona, Catalunya 08015, ESP, (41.38475, 2.15287, 0.0)),\n",
       " Location(Carrer del Comte Borrell, 08015 Barcelona (Barcelona), Espanya, Barcelona, Catalunya 08015, ESP, (41.3847, 2.15293, 0.0)),\n",
       " Location(08029 Barcelona (Barcelona), Espanya, Barcelona, Catalunya 08029, ESP, (41.3847, 2.15293, 0.0)),\n",
       " Location(Carrer del Comte Borrell, 08015 Barcelona (Barcelona), Espanya, Barcelona, Catalunya 08015, ESP, (41.38458, 2.15311, 0.0)),\n",
       " Location(Carrer de Villarroel, 93, 08011 Barcelona (Barcelona), Espanya, Barcelona, Catalunya 08011, ESP, (41.38493, 2.15716, 0.0)),\n",
       " Location(Carrer de Mallorca, 160, 08036 Barcelona (Barcelona), Espanya, Barcelona, Catalunya 08036, ESP, (41.38839, 2.1553, 0.0)),\n",
       " Location(Carrer del Comte Borrell, 176B, 08015 Barcelona (Barcelona), Espanya, Barcelona, Catalunya 08015, ESP, (41.38412, 2.15369, 0.0)),\n",
       " Location(Carrer d'Aragó, 174, 08011 Barcelona (Barcelona), Espanya, Barcelona, Catalunya 08011, ESP, (41.38675, 2.15768, 0.0)),\n",
       " Location(Carrer del Comte d'Urgell, 180, 08036 Barcelona (Barcelona), Espanya, Barcelona, Catalunya 08036, ESP, (41.38722, 2.15184, 0.0)),\n",
       " Location(Carrer de València, 186, 08011 Barcelona (Barcelona), Espanya, Barcelona, Catalunya 08011, ESP, (41.38787, 2.15682, 0.0)),\n",
       " Location(Carrer de Mallorca, 162, 08036 Barcelona (Barcelona), Espanya, Barcelona, Catalunya 08036, ESP, (41.38846, 2.1554, 0.0)),\n",
       " Location(Avinguda de Roma, 112, 08015 Barcelona (Barcelona), Espanya, Barcelona, Catalunya 08015, ESP, (41.38451, 2.15294, 0.0)),\n",
       " Location(Carrer del Comte d'Urgell, 178, 08036 Barcelona (Barcelona), Espanya, Barcelona, Catalunya 08036, ESP, (41.38706, 2.15205, 0.0)),\n",
       " Location(Jardins d'Ermessenda de Carcassona, 08036 Barcelona (Barcelona), Espanya, Barcelona, Catalunya 08036, ESP, (41.38705, 2.15207, 0.0)),\n",
       " Location(Carrer de Casanova, 127, 08036 Barcelona (Barcelona), Espanya, Barcelona, Catalunya 08036, ESP, (41.38854, 2.15462, 0.0)),\n",
       " Location(Carrer del Consell de cent, 211, 08011 Barcelona (Barcelona), Espanya, Barcelona, Catalunya 08011, ESP, (41.38495, 2.15754, 0.0)),\n",
       " Location(Carrer del Consell de cent, 191, 08011 Barcelona (Barcelona), Espanya, Barcelona, Catalunya 08011, ESP, (41.38416, 2.15648, 0.0)),\n",
       " Location(08029 Barcelona (Barcelona), Espanya, Barcelona, Catalunya 08029, ESP, (41.38459, 2.15268, 0.0)),\n",
       " Location(08029 Barcelona (Barcelona), Espanya, Barcelona, Catalunya 08029, ESP, (41.38459, 2.15268, 0.0)),\n",
       " Location(Carrer del Comte Borrell, 176, 08015 Barcelona (Barcelona), Espanya, Barcelona, Catalunya 08015, ESP, (41.38382, 2.15406, 0.0)),\n",
       " Location(Carrer de Villarroel, 08036 Barcelona (Barcelona), Espanya, Barcelona, Catalunya 08036, ESP, (41.38805, 2.153, 0.0)),\n",
       " Location(Carrer de Villarroel, 08011 Barcelona (Barcelona), Espanya, Barcelona, Catalunya 08011, ESP, (41.38479, 2.15733, 0.0)),\n",
       " Location(Carrer de Mallorca, 97, 08029 Barcelona (Barcelona), Espanya, Barcelona, Catalunya 08029, ESP, (41.38575, 2.15182, 0.0)),\n",
       " Location(Carrer d'Aragó, 182, 08011 Barcelona (Barcelona), Espanya, Barcelona, Catalunya 08011, ESP, (41.3869, 2.15789, 0.0)),\n",
       " Location(Avinguda de Roma, 109, 08029 Barcelona (Barcelona), Espanya, Barcelona, Catalunya 08029, ESP, (41.38455, 2.15248, 0.0)),\n",
       " Location(Carrer del Comte d'Urgell, 182, 08036 Barcelona (Barcelona), Espanya, Barcelona, Catalunya 08036, ESP, (41.38717, 2.1519, 0.0)),\n",
       " Location(Carrer de València, 08029 Barcelona (Barcelona), Espanya, Barcelona, Catalunya 08029, ESP, (41.38456, 2.1525, 0.0)),\n",
       " Location(Avinguda de Roma, 159, 08011 Barcelona (Barcelona), Espanya, Barcelona, Catalunya 08011, ESP, (41.38708, 2.15791, 0.0)),\n",
       " Location(Carrer de Mallorca, 168, 08036 Barcelona (Barcelona), Espanya, Barcelona, Catalunya 08036, ESP, (41.38863, 2.15563, 0.0)),\n",
       " Location(Carrer del Comte Borrell, 208I, 08029 Barcelona (Barcelona), Espanya, Barcelona, Catalunya 08029, ESP, (41.38593, 2.15128, 0.0)),\n",
       " Location(Carrer del Comte d'Urgell, 08011 Barcelona (Barcelona), Espanya, Barcelona, Catalunya 08011, ESP, (41.38396, 2.1562, 0.0)),\n",
       " Location(Carrer del Consell de cent, 189, 08015 Barcelona (Barcelona), Espanya, Barcelona, Catalunya 08015, ESP, (41.38374, 2.15592, 0.0)),\n",
       " Location(Carrer de Casanova, 135, 08036 Barcelona (Barcelona), Espanya, Barcelona, Catalunya 08036, ESP, (41.38879, 2.15428, 0.0))]"
      ]
     },
     "execution_count": 15,
     "metadata": {},
     "output_type": "execute_result"
    }
   ],
   "source": [
    "locations"
   ]
  },
  {
   "cell_type": "code",
   "execution_count": 17,
   "metadata": {},
   "outputs": [
    {
     "data": {
      "text/plain": [
       "{'Relevance': 1.0,\n",
       " 'Distance': 21.9,\n",
       " 'MatchLevel': 'houseNumber',\n",
       " 'MatchQuality': {'Country': 1.0,\n",
       "  'State': 1.0,\n",
       "  'County': 1.0,\n",
       "  'City': 1.0,\n",
       "  'District': 1.0,\n",
       "  'Street': [1.0],\n",
       "  'HouseNumber': 1.0,\n",
       "  'PostalCode': 1.0},\n",
       " 'MatchType': 'interpolated',\n",
       " 'Location': {'LocationId': 'NT_KqsTsC62SU9vfG63m1tNaD_xIzN',\n",
       "  'LocationType': 'point',\n",
       "  'DisplayPosition': {'Latitude': 41.38638, 'Longitude': 2.15526},\n",
       "  'MapView': {'TopLeft': {'Latitude': 41.3875042, 'Longitude': 2.1537617},\n",
       "   'BottomRight': {'Latitude': 41.3852558, 'Longitude': 2.1567583}},\n",
       "  'Address': {'Label': 'Carrer de Villarroel, 127, 08011 Barcelona (Barcelona), Espanya',\n",
       "   'Country': 'ESP',\n",
       "   'State': 'Catalunya',\n",
       "   'County': 'Barcelona',\n",
       "   'City': 'Barcelona',\n",
       "   'District': \"l'Antiga Esquerra de l'Eixample\",\n",
       "   'Street': 'Carrer de Villarroel',\n",
       "   'HouseNumber': '127',\n",
       "   'PostalCode': '08011',\n",
       "   'AdditionalData': [{'value': 'Espanya', 'key': 'CountryName'},\n",
       "    {'value': 'Catalunya', 'key': 'StateName'},\n",
       "    {'value': 'Barcelona', 'key': 'CountyName'}]},\n",
       "  'MapReference': {'ReferenceId': '1210416287',\n",
       "   'Spot': 0.2,\n",
       "   'SideOfStreet': 'left',\n",
       "   'CountryId': '20215059',\n",
       "   'StateId': '20215741',\n",
       "   'CountyId': '20215742',\n",
       "   'CityId': '20215774',\n",
       "   'AddressId': '206768085',\n",
       "   'RoadLinkId': '525345290'}}}"
      ]
     },
     "execution_count": 17,
     "metadata": {},
     "output_type": "execute_result"
    }
   ],
   "source": [
    "locations[2].raw"
   ]
  },
  {
   "cell_type": "code",
   "execution_count": 29,
   "metadata": {},
   "outputs": [],
   "source": [
    "barrios = set()\n",
    "for barrio in locations:\n",
    "    barrios.add(barrio.raw['Location']['Address']['District'])\n"
   ]
  },
  {
   "cell_type": "code",
   "execution_count": 30,
   "metadata": {},
   "outputs": [
    {
     "data": {
      "text/plain": [
       "{\"La Nova Esquerra de l'Eixample\", \"l'Antiga Esquerra de l'Eixample\"}"
      ]
     },
     "execution_count": 30,
     "metadata": {},
     "output_type": "execute_result"
    }
   ],
   "source": [
    "barrios"
   ]
  },
  {
   "cell_type": "code",
   "execution_count": 94,
   "metadata": {},
   "outputs": [],
   "source": [
    "chicos_place = here.geocode('Universitat 14, Barcelona')"
   ]
  },
  {
   "cell_type": "code",
   "execution_count": 95,
   "metadata": {},
   "outputs": [
    {
     "data": {
      "text/plain": [
       "{'Relevance': 1.0,\n",
       " 'MatchLevel': 'houseNumber',\n",
       " 'MatchQuality': {'City': 1.0, 'Street': [0.9], 'HouseNumber': 1.0},\n",
       " 'MatchType': 'pointAddress',\n",
       " 'Location': {'LocationId': 'NT_CqK9A7WbaytSUW7RPD.B9C_xQD',\n",
       "  'LocationType': 'point',\n",
       "  'DisplayPosition': {'Latitude': 41.38666, 'Longitude': 2.16702},\n",
       "  'NavigationPosition': [{'Latitude': 41.3868, 'Longitude': 2.16692}],\n",
       "  'MapView': {'TopLeft': {'Latitude': 41.3877842, 'Longitude': 2.1655217},\n",
       "   'BottomRight': {'Latitude': 41.3855358, 'Longitude': 2.1685183}},\n",
       "  'Address': {'Label': 'Ronda de la Universitat, 14, 08007 Barcelona (Barcelona), Espanya',\n",
       "   'Country': 'ESP',\n",
       "   'State': 'Catalunya',\n",
       "   'County': 'Barcelona',\n",
       "   'City': 'Barcelona',\n",
       "   'District': \"Dreta de l'Eixample\",\n",
       "   'Street': 'Ronda de la Universitat',\n",
       "   'HouseNumber': '14',\n",
       "   'PostalCode': '08007',\n",
       "   'AdditionalData': [{'value': 'Espanya', 'key': 'CountryName'},\n",
       "    {'value': 'Catalunya', 'key': 'StateName'},\n",
       "    {'value': 'Barcelona', 'key': 'CountyName'}]}}}"
      ]
     },
     "execution_count": 95,
     "metadata": {},
     "output_type": "execute_result"
    }
   ],
   "source": [
    "chicos_place.raw"
   ]
  },
  {
   "cell_type": "code",
   "execution_count": null,
   "metadata": {},
   "outputs": [],
   "source": []
  }
 ],
 "metadata": {
  "kernelspec": {
   "display_name": "Python 3",
   "language": "python",
   "name": "python3"
  },
  "language_info": {
   "codemirror_mode": {
    "name": "ipython",
    "version": 3
   },
   "file_extension": ".py",
   "mimetype": "text/x-python",
   "name": "python",
   "nbconvert_exporter": "python",
   "pygments_lexer": "ipython3",
   "version": "3.6.5"
  }
 },
 "nbformat": 4,
 "nbformat_minor": 2
}
