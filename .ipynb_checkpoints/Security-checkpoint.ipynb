{
 "cells": [
  {
   "cell_type": "markdown",
   "metadata": {},
   "source": [
    "# This dataset contains the numbers for a type of incidents per month/year, per district and neiberhood"
   ]
  },
  {
   "cell_type": "code",
   "execution_count": 2,
   "metadata": {},
   "outputs": [],
   "source": [
    "import pandas as pd\n",
    "from googletrans import Translator"
   ]
  },
  {
   "cell_type": "code",
   "execution_count": 17,
   "metadata": {},
   "outputs": [],
   "source": [
    "df = pd.read_csv('2017_incidents_gestionats_gub.csv')"
   ]
  },
  {
   "cell_type": "code",
   "execution_count": 18,
   "metadata": {},
   "outputs": [
    {
     "data": {
      "text/plain": [
       "Index(['Codi Incident', 'Descripció Incident', 'Codi districte',\n",
       "       'Nom districte', 'Codi barri', 'Nom barri', 'NK Any', 'Mes de any',\n",
       "       'Nom mes', 'Número d'incidents GUB'],\n",
       "      dtype='object')"
      ]
     },
     "execution_count": 18,
     "metadata": {},
     "output_type": "execute_result"
    }
   ],
   "source": [
    "df.columns"
   ]
  },
  {
   "cell_type": "code",
   "execution_count": 29,
   "metadata": {},
   "outputs": [],
   "source": [
    "english_columns = [translator.translate(col).text.replace(' ', '_').lower() for col in df.columns]"
   ]
  },
  {
   "cell_type": "code",
   "execution_count": 30,
   "metadata": {},
   "outputs": [
    {
     "data": {
      "text/html": [
       "<div>\n",
       "<style scoped>\n",
       "    .dataframe tbody tr th:only-of-type {\n",
       "        vertical-align: middle;\n",
       "    }\n",
       "\n",
       "    .dataframe tbody tr th {\n",
       "        vertical-align: top;\n",
       "    }\n",
       "\n",
       "    .dataframe thead th {\n",
       "        text-align: right;\n",
       "    }\n",
       "</style>\n",
       "<table border=\"1\" class=\"dataframe\">\n",
       "  <thead>\n",
       "    <tr style=\"text-align: right;\">\n",
       "      <th></th>\n",
       "      <th>incident_code</th>\n",
       "      <th>description_incident</th>\n",
       "      <th>district_code</th>\n",
       "      <th>district_name</th>\n",
       "      <th>neighborhood_code</th>\n",
       "      <th>neighborhood_name</th>\n",
       "      <th>nk_any</th>\n",
       "      <th>month_of_year</th>\n",
       "      <th>name_my</th>\n",
       "      <th>number_of_gub_incidents</th>\n",
       "    </tr>\n",
       "  </thead>\n",
       "  <tbody>\n",
       "    <tr>\n",
       "      <th>0</th>\n",
       "      <td>211</td>\n",
       "      <td>ACCIDENTS DE TRÀNSIT AMB FERITS</td>\n",
       "      <td>2</td>\n",
       "      <td>Eixample</td>\n",
       "      <td>5</td>\n",
       "      <td>el Fort Pienc</td>\n",
       "      <td>2017</td>\n",
       "      <td>7</td>\n",
       "      <td>Juliol</td>\n",
       "      <td>26</td>\n",
       "    </tr>\n",
       "    <tr>\n",
       "      <th>1</th>\n",
       "      <td>222</td>\n",
       "      <td>INFRACCIONS EN MOVIMENT</td>\n",
       "      <td>8</td>\n",
       "      <td>Nou Barris</td>\n",
       "      <td>49</td>\n",
       "      <td>Canyelles</td>\n",
       "      <td>2017</td>\n",
       "      <td>5</td>\n",
       "      <td>Maig</td>\n",
       "      <td>2</td>\n",
       "    </tr>\n",
       "    <tr>\n",
       "      <th>2</th>\n",
       "      <td>410</td>\n",
       "      <td>ACTIVITATS MOLESTES EN ESPAIS PÚBLICS</td>\n",
       "      <td>1</td>\n",
       "      <td>Ciutat Vella</td>\n",
       "      <td>1</td>\n",
       "      <td>el Raval</td>\n",
       "      <td>2017</td>\n",
       "      <td>5</td>\n",
       "      <td>Maig</td>\n",
       "      <td>278</td>\n",
       "    </tr>\n",
       "    <tr>\n",
       "      <th>3</th>\n",
       "      <td>241</td>\n",
       "      <td>SUPORTS</td>\n",
       "      <td>3</td>\n",
       "      <td>Sants-Montjuïc</td>\n",
       "      <td>12</td>\n",
       "      <td>la Marina del Prat Vermell</td>\n",
       "      <td>2017</td>\n",
       "      <td>6</td>\n",
       "      <td>Juny</td>\n",
       "      <td>10</td>\n",
       "    </tr>\n",
       "    <tr>\n",
       "      <th>4</th>\n",
       "      <td>620</td>\n",
       "      <td>ESTUPEFAENTS / PSICOTROPICS</td>\n",
       "      <td>1</td>\n",
       "      <td>Ciutat Vella</td>\n",
       "      <td>4</td>\n",
       "      <td>Sant Pere, Santa Caterina i la Ribera</td>\n",
       "      <td>2017</td>\n",
       "      <td>6</td>\n",
       "      <td>Juny</td>\n",
       "      <td>7</td>\n",
       "    </tr>\n",
       "  </tbody>\n",
       "</table>\n",
       "</div>"
      ],
      "text/plain": [
       "  incident_code                   description_incident  district_code  \\\n",
       "0           211        ACCIDENTS DE TRÀNSIT AMB FERITS              2   \n",
       "1           222                INFRACCIONS EN MOVIMENT              8   \n",
       "2           410  ACTIVITATS MOLESTES EN ESPAIS PÚBLICS              1   \n",
       "3           241                                SUPORTS              3   \n",
       "4           620            ESTUPEFAENTS / PSICOTROPICS              1   \n",
       "\n",
       "    district_name  neighborhood_code                      neighborhood_name  \\\n",
       "0        Eixample                  5                          el Fort Pienc   \n",
       "1      Nou Barris                 49                              Canyelles   \n",
       "2    Ciutat Vella                  1                               el Raval   \n",
       "3  Sants-Montjuïc                 12             la Marina del Prat Vermell   \n",
       "4    Ciutat Vella                  4  Sant Pere, Santa Caterina i la Ribera   \n",
       "\n",
       "   nk_any  month_of_year name_my  number_of_gub_incidents  \n",
       "0    2017              7  Juliol                       26  \n",
       "1    2017              5    Maig                        2  \n",
       "2    2017              5    Maig                      278  \n",
       "3    2017              6    Juny                       10  \n",
       "4    2017              6    Juny                        7  "
      ]
     },
     "execution_count": 30,
     "metadata": {},
     "output_type": "execute_result"
    }
   ],
   "source": [
    "df.columns = english_columns\n",
    "df.head()"
   ]
  },
  {
   "cell_type": "code",
   "execution_count": 23,
   "metadata": {},
   "outputs": [],
   "source": [
    "# Cell to start again with columns translated, Heavy operation!\n",
    "df_copy = df.copy()"
   ]
  },
  {
   "cell_type": "code",
   "execution_count": 73,
   "metadata": {},
   "outputs": [
    {
     "data": {
      "text/plain": [
       "90"
      ]
     },
     "execution_count": 73,
     "metadata": {},
     "output_type": "execute_result"
    }
   ],
   "source": [
    "df.description_incident.unique().size"
   ]
  },
  {
   "cell_type": "code",
   "execution_count": 32,
   "metadata": {},
   "outputs": [],
   "source": [
    "df.description_incident = df.description_incident.str.strip()"
   ]
  },
  {
   "cell_type": "code",
   "execution_count": 59,
   "metadata": {},
   "outputs": [],
   "source": [
    "##\n",
    "##  TAKES LONG\n",
    "##\n",
    "translate_descriptions = [translator.translate(value, dest='es').text for value in df.description_incident.value_counts().index]\n",
    "translate_descriptions = [translator.translate(value).text for value in translate_descriptions]"
   ]
  },
  {
   "cell_type": "code",
   "execution_count": 81,
   "metadata": {},
   "outputs": [
    {
     "data": {
      "text/plain": [
       "91"
      ]
     },
     "execution_count": 81,
     "metadata": {},
     "output_type": "execute_result"
    }
   ],
   "source": [
    "len(cat_to_en)"
   ]
  },
  {
   "cell_type": "code",
   "execution_count": 84,
   "metadata": {},
   "outputs": [
    {
     "data": {
      "text/plain": [
       "90"
      ]
     },
     "execution_count": 84,
     "metadata": {},
     "output_type": "execute_result"
    }
   ],
   "source": [
    "rev_multidict = {}\n",
    "for key, value in cat_to_en.items():\n",
    "    rev_multidict.setdefault(value, set()).add(key)\n",
    "len(rev_multidict)"
   ]
  },
  {
   "cell_type": "code",
   "execution_count": 60,
   "metadata": {},
   "outputs": [
    {
     "data": {
      "text/plain": [
       "['neighborhood coexistence',\n",
       " 'OTHER ACTIONS OF S, C,',\n",
       " 'ASSISTANCE TO PEOPLE IN PUBLIC SPACES',\n",
       " 'POLICE SURVEILLANCE',\n",
       " 'ANNOYING ACTIVITIES IN PUBLIC SPACES',\n",
       " 'MOVEMENT INFRACTIONS',\n",
       " 'TRAFFIC ACCIDENTS WITH WOUNDED',\n",
       " 'PARKING VIOLATIONS',\n",
       " 'INFRACTIONS IN VADOS AND RESERVATIONS',\n",
       " 'INJURY TRAFFIC ACCIDENTS',\n",
       " 'ACTS AGAINST PRIVATE PROPERTY',\n",
       " 'COMPANY ANIMALS',\n",
       " 'OTHER INTERVENTIONS OF P, ADMINISTRATIVE',\n",
       " 'COLLABORATION WITH OTHER SERVICES',\n",
       " 'FIRES',\n",
       " 'INCIDENTS WITH ROAD AFFECTION',\n",
       " 'SUPPORTS',\n",
       " 'ASSISTANCE TO PEOPLE IN BUILDING',\n",
       " 'INCIDENTS WITH TRAFFIC HAZARD',\n",
       " 'LOCAL INCIDENTS',\n",
       " 'ATTACKS',\n",
       " 'TRANSFERS OF VEHICLES WITHOUT INFRINGEMENT',\n",
       " 'AUTOMATED SIGNALS',\n",
       " 'TEMPORARY TRAFFIC RESTRICTIONS',\n",
       " 'PUBLIC SERVICE FAILURES',\n",
       " 'FIRE ALARMS / ROBO',\n",
       " 'DOMESTIC VIOLENCE',\n",
       " 'VANDALISM',\n",
       " 'NUTRITIONAL / psychotropic',\n",
       " 'CONFLICTS IN LOCAL',\n",
       " 'FIGHTS',\n",
       " 'SCOPE OF PROTECTION OF THE MINOR',\n",
       " 'TRAFFIC CONTROLS',\n",
       " 'ASSISTANCE DRIVERS IN V, P,',\n",
       " 'MUNICIPAL SERVICES FAILURES',\n",
       " 'ANIMALS / DANGEROUS INSECTS',\n",
       " 'INSPECTIONS / CONTROLS IN LOCAL',\n",
       " 'COL·LBORACIÓ WITH JUDICIAL / POLICE AUTHORITY',\n",
       " 'WORKS / WORKS IN PUBLIC SPACES',\n",
       " 'MANIFESTATIONS / CONCENTRATIONS',\n",
       " 'CLAIMS IN BUILDINGS',\n",
       " 'OCCUPATIONS OF PUBLIC SPACES',\n",
       " 'PEDDLING',\n",
       " 'SHOWS IN PUBLIC SPACES',\n",
       " 'ATTACKS',\n",
       " 'ASSISTANCE MENTAL ILLNESS',\n",
       " 'WASTE DISPOSAL',\n",
       " 'NON-AUTOMATED SIGNALS',\n",
       " 'ACTS AGAINST PUBLIC PROPERTY',\n",
       " 'OTHER ACTIONS IN THE ENVIRONMENT',\n",
       " 'AGAINST SEXUAL FREEDOM',\n",
       " 'Strong winds',\n",
       " 'INFRACTIONS IN LOCAL',\n",
       " 'DANGEROUS MATTERS',\n",
       " 'MOVEMENT INFRINGEMENTS (VEHICLES)',\n",
       " 'OTHER INCIDENTS WITH ANIMALS',\n",
       " 'ACCIDENT COMING FROM CME',\n",
       " 'CONDUCTIONS AND ACCOMPANIMENTS',\n",
       " 'INMOVILIZACIONES / DESIMMOBILITZACIONS',\n",
       " 'ACCIDENT RECEIPT BY 080 (Recode)',\n",
       " 'CRIMES AGAINST PUBLIC ORDER',\n",
       " 'FOGUERES / BARBECUES',\n",
       " 'EDUCATIONAL SCOPE',\n",
       " 'DISCOMFORTS BY GENERATORS',\n",
       " 'PUBLIC TRANSPORT',\n",
       " 'REFORM',\n",
       " 'ILLICIT OCCUPATIONS',\n",
       " 'SNOW AND ICE',\n",
       " 'INFRACTIONS OF FOREIGNERS',\n",
       " 'ACTIVITY WITH PRISONERS',\n",
       " 'TORRENTIAL RAIN',\n",
       " 'OFFICIAL BUILDINGS',\n",
       " 'BASIC SUPPLIES',\n",
       " 'BEACH ASSISTANCE',\n",
       " 'EMERGENCY COMMUNICATIONS',\n",
       " 'FOOD INCIDENTS',\n",
       " 'EXPLOSIONS',\n",
       " 'TECHNICAL FAILURE',\n",
       " 'URBAN TRIBES',\n",
       " 'NOT IDENTIFYING',\n",
       " 'AGAINST THE RIGHTS OF WORKERS',\n",
       " 'HUNTING / FISHING / FLORA / FAUNA',\n",
       " 'ACCIDENT FROM ONE PASARELA SEM',\n",
       " 'ACTS AGAINST THE PROPERTY',\n",
       " 'custody',\n",
       " 'INCIDENTS WITH PRISONERS AND DETAINEES',\n",
       " 'FOOD CRIMES',\n",
       " 'TRAFFIC ACCIDENTS WITH PERILLOSSES SUBJECTS',\n",
       " 'TESTS OF THE SYSTEM',\n",
       " 'TECHNICAL ASSISTANCE',\n",
       " 'SALVATIONS']"
      ]
     },
     "execution_count": 60,
     "metadata": {},
     "output_type": "execute_result"
    }
   ],
   "source": [
    "translate_descriptions"
   ]
  },
  {
   "cell_type": "code",
   "execution_count": 61,
   "metadata": {},
   "outputs": [],
   "source": [
    "cat_to_en = dict(zip(df.description_incident.value_counts().index.tolist(), translate_descriptions))"
   ]
  },
  {
   "cell_type": "code",
   "execution_count": 62,
   "metadata": {},
   "outputs": [
    {
     "data": {
      "text/plain": [
       "{'CONVIVÈNCIA VEINAL': 'neighborhood coexistence',\n",
       " 'ALTRES ACTUACIONS DE S, C,': 'OTHER ACTIONS OF S, C,',\n",
       " 'ASSISTÈNCIA A PERSONES EN ESPAIS PÚBLICS': 'ASSISTANCE TO PEOPLE IN PUBLIC SPACES',\n",
       " 'VIGILÀNCIA POLICIAL': 'POLICE SURVEILLANCE',\n",
       " 'ACTIVITATS MOLESTES EN ESPAIS PÚBLICS': 'ANNOYING ACTIVITIES IN PUBLIC SPACES',\n",
       " 'INFRACCIONS EN MOVIMENT': 'MOVEMENT INFRACTIONS',\n",
       " 'ACCIDENTS DE TRÀNSIT AMB FERITS': 'TRAFFIC ACCIDENTS WITH WOUNDED',\n",
       " 'INFRACCIONS PER ESTACIONAMENTS': 'PARKING VIOLATIONS',\n",
       " 'INFRACCIONS EN GUALS I RESERVES': 'INFRACTIONS IN VADOS AND RESERVATIONS',\n",
       " 'ACCIDENTS DE TRÀNSIT SENSE FERITS': 'INJURY TRAFFIC ACCIDENTS',\n",
       " 'ACTES CONTRA LA PROPIETAT PRIVADA': 'ACTS AGAINST PRIVATE PROPERTY',\n",
       " 'ANIMALS DE COMPANYIA': 'COMPANY ANIMALS',\n",
       " 'ALTRES INTERVENCIONS DE P, ADMINISTRATIVA': 'OTHER INTERVENTIONS OF P, ADMINISTRATIVE',\n",
       " 'COL·LABORACIÓ AMB ALTRES SERVEIS': 'COLLABORATION WITH OTHER SERVICES',\n",
       " 'INCENDIS': 'FIRES',\n",
       " 'INCIDÈNCIES AMB AFECTACIÓ DE VIA': 'INCIDENTS WITH ROAD AFFECTION',\n",
       " 'SUPORTS': 'SUPPORTS',\n",
       " 'ASSISTÈNCIA A PERSONES EN EDIFICI': 'ASSISTANCE TO PEOPLE IN BUILDING',\n",
       " 'INCIDÈNCIES AMB PERILL PEL TRÀNSIT': 'INCIDENTS WITH TRAFFIC HAZARD',\n",
       " 'INCIDÈNCIES DE LOCALS': 'LOCAL INCIDENTS',\n",
       " 'AGRESSIONS': 'ATTACKS',\n",
       " 'TRASLLATS DE VEHICLES SENSE INFRACCIÓ': 'TRANSFERS OF VEHICLES WITHOUT INFRINGEMENT',\n",
       " 'SENYALS AUTOMATITZADES': 'AUTOMATED SIGNALS',\n",
       " 'RESTRICCIONS TEMPORALS DE TRÀNSIT': 'TEMPORARY TRAFFIC RESTRICTIONS',\n",
       " 'AVARIES DE SERVEIS PÚBLICS': 'PUBLIC SERVICE FAILURES',\n",
       " \"ALARMES D'INCENDI / ROBATORI\": 'FIRE ALARMS / ROBO',\n",
       " 'VIOLÈNCIA DOMÈSTICA': 'DOMESTIC VIOLENCE',\n",
       " 'VANDALISME': 'VANDALISM',\n",
       " 'ESTUPEFAENTS / PSICOTROPICS': 'NUTRITIONAL / psychotropic',\n",
       " 'CONFLICTES EN LOCALS': 'CONFLICTS IN LOCAL',\n",
       " 'BARALLES': 'FIGHTS',\n",
       " 'ÀMBIT DE PROTECCIÓ DEL MENOR': 'SCOPE OF PROTECTION OF THE MINOR',\n",
       " 'CONTROLS DE TRÀNSIT': 'TRAFFIC CONTROLS',\n",
       " 'ASSISTÈNCIA A CONDUCTORS EN V, P,': 'ASSISTANCE DRIVERS IN V, P,',\n",
       " 'AVARIES DE SERVEIS MUNICIPALS': 'MUNICIPAL SERVICES FAILURES',\n",
       " 'ANIMALS / INSECTES PERILLOSOS': 'ANIMALS / DANGEROUS INSECTS',\n",
       " 'INSPECCIONS / CONTROLS EN LOCALS': 'INSPECTIONS / CONTROLS IN LOCAL',\n",
       " 'COL·LBORACIÓ AMB AUTORITAT JUDICIAL / POLICIAL': 'COL·LBORACIÓ WITH JUDICIAL / POLICE AUTHORITY',\n",
       " 'OBRES / TREBALLS EN ESPAIS PÚBLICS': 'WORKS / WORKS IN PUBLIC SPACES',\n",
       " 'MANIFESTACIONS / CONCENTRACIONS': 'MANIFESTATIONS / CONCENTRATIONS',\n",
       " 'SINISTRES EN EDIFICIS': 'CLAIMS IN BUILDINGS',\n",
       " \"OCUPACIONS D'ESPAIS PÚBLICS\": 'OCCUPATIONS OF PUBLIC SPACES',\n",
       " 'VENDA AMBULANT': 'PEDDLING',\n",
       " 'ESPECTACLES EN ESPAIS PÚBLICS': 'SHOWS IN PUBLIC SPACES',\n",
       " 'ATEMPTATS': 'ATTACKS',\n",
       " 'ASSISTÈNCIA A MALALTS MENTALS': 'ASSISTANCE MENTAL ILLNESS',\n",
       " 'ABOCAMENT DE RESIDUS': 'WASTE DISPOSAL',\n",
       " 'SENYALS NO AUTOMATITZADES': 'NON-AUTOMATED SIGNALS',\n",
       " 'ACTES CONTRA LA PROPIETAT PÚBLICA': 'ACTS AGAINST PUBLIC PROPERTY',\n",
       " 'ALTRES ACTUACIONS EN MEDI AMBIENT': 'OTHER ACTIONS IN THE ENVIRONMENT',\n",
       " 'CONTRA LA LLIBERTAT SEXUAL': 'AGAINST SEXUAL FREEDOM',\n",
       " 'VENTS FORTS': 'Strong winds',\n",
       " 'INFRACCIONS EN LOCALS': 'INFRACTIONS IN LOCAL',\n",
       " 'MATÈRIES PERILLOSES': 'DANGEROUS MATTERS',\n",
       " 'INFRACCIONS EN MOVIMENT (VEHICLES)': 'MOVEMENT INFRINGEMENTS (VEHICLES)',\n",
       " 'ALTRES INCIDÈNCIES AMB ANIMALS': 'OTHER INCIDENTS WITH ANIMALS',\n",
       " 'ACCIDENT PROCEDENT PASSAREL·LA CME': 'ACCIDENT COMING FROM CME',\n",
       " 'CONDUCCIONS I ACOMPANYAMENTS': 'CONDUCTIONS AND ACCOMPANIMENTS',\n",
       " 'IMMOBILITZACIONS /DESIMMOBILITZACIONS': 'INMOVILIZACIONES / DESIMMOBILITZACIONS',\n",
       " 'ACCIDENT REBUT PEL 080 (Recodificar)': 'ACCIDENT RECEIPT BY 080 (Recode)',\n",
       " \"DELICTES CONTRA L'ORDRE PÚBLIC\": 'CRIMES AGAINST PUBLIC ORDER',\n",
       " 'FOGUERES / BARBACOES': 'FOGUERES / BARBECUES',\n",
       " 'ÀMBIT EDUCATIU': 'EDUCATIONAL SCOPE',\n",
       " 'MOLESTIES PER GENERADORS': 'DISCOMFORTS BY GENERATORS',\n",
       " 'TRANSPORT PÚBLIC': 'PUBLIC TRANSPORT',\n",
       " 'REFORMA': 'REFORM',\n",
       " 'OCUPACIONS IL·LÍCITES': 'ILLICIT OCCUPATIONS',\n",
       " 'NEU I GEL': 'SNOW AND ICE',\n",
       " \"INFRACCIONS D'ESTRANGERS\": 'INFRACTIONS OF FOREIGNERS',\n",
       " 'ACTIVITAT AMB PRESOS': 'ACTIVITY WITH PRISONERS',\n",
       " 'PLUJA TORRENCIAL': 'TORRENTIAL RAIN',\n",
       " 'EDIFICIS OFICIALS': 'OFFICIAL BUILDINGS',\n",
       " 'SUBMINISTRAMENTS BÀSICS': 'BASIC SUPPLIES',\n",
       " 'ASSISTÈNCIA EN LES PLATGES': 'BEACH ASSISTANCE',\n",
       " \"COMUNICATS D'EMERGÈNCIA\": 'EMERGENCY COMMUNICATIONS',\n",
       " \"INCIDÈNCIES D'ALIMENTS\": 'FOOD INCIDENTS',\n",
       " 'EXPLOSIONS': 'EXPLOSIONS',\n",
       " 'AVARIA TÈCNICA': 'TECHNICAL FAILURE',\n",
       " 'TRIBUS URBANES': 'URBAN TRIBES',\n",
       " 'SENSE IDENTIFICAR': 'NOT IDENTIFYING',\n",
       " 'CONTRA ELS DRETS DELS TREBALLADORS': 'AGAINST THE RIGHTS OF WORKERS',\n",
       " 'CAÇA / PESCA / FLORA / FAUNA': 'HUNTING / FISHING / FLORA / FAUNA',\n",
       " 'ACCIDENT PROCEDENT PASSAREL·LA SEM': 'ACCIDENT FROM ONE PASARELA SEM',\n",
       " 'ACTES CONTRA LA PROPIETAT': 'ACTS AGAINST THE PROPERTY',\n",
       " 'CUSTÒDIES': 'custody',\n",
       " 'INCIDÈNCIES AMB PRESOS I DETINGUTS': 'INCIDENTS WITH PRISONERS AND DETAINEES',\n",
       " 'DELICTES ALIMENTARIS': 'FOOD CRIMES',\n",
       " 'ACCIDENTS DE TRANSIT AMB MATERIES PERILLOSSES': 'TRAFFIC ACCIDENTS WITH PERILLOSSES SUBJECTS',\n",
       " 'PROVES DEL SISTEMA': 'TESTS OF THE SYSTEM',\n",
       " 'ASSISTÈNCIA TÈCNICA': 'TECHNICAL ASSISTANCE',\n",
       " 'SALVAMENTS': 'SALVATIONS'}"
      ]
     },
     "execution_count": 62,
     "metadata": {},
     "output_type": "execute_result"
    }
   ],
   "source": [
    "cat_to_en"
   ]
  },
  {
   "cell_type": "code",
   "execution_count": 64,
   "metadata": {},
   "outputs": [
    {
     "data": {
      "text/plain": [
       "incident_code              0\n",
       "description_incident       0\n",
       "district_code              0\n",
       "district_name              0\n",
       "neighborhood_code          0\n",
       "neighborhood_name          0\n",
       "nk_any                     0\n",
       "month_of_year              0\n",
       "name_my                    0\n",
       "number_of_gub_incidents    0\n",
       "dtype: int64"
      ]
     },
     "execution_count": 64,
     "metadata": {},
     "output_type": "execute_result"
    }
   ],
   "source": [
    "df.isnull().sum()"
   ]
  },
  {
   "cell_type": "code",
   "execution_count": 66,
   "metadata": {},
   "outputs": [],
   "source": [
    "# df = df.replace({'description_incident': cat_to_en})\n",
    "df.description_incident = df.description_incident.map(cat_to_en)"
   ]
  },
  {
   "cell_type": "code",
   "execution_count": null,
   "metadata": {},
   "outputs": [],
   "source": [
    "results = set()\n",
    "df['text'].str.lower().str.split().apply(results.update)\n",
    "print results"
   ]
  },
  {
   "cell_type": "code",
   "execution_count": 98,
   "metadata": {},
   "outputs": [
    {
     "data": {
      "text/plain": [
       "list"
      ]
     },
     "execution_count": 98,
     "metadata": {},
     "output_type": "execute_result"
    }
   ],
   "source": [
    "description_incidents = df.description_incident.value_counts().index.str.lower().str.split().tolist()\n",
    "type(words)"
   ]
  },
  {
   "cell_type": "code",
   "execution_count": 99,
   "metadata": {},
   "outputs": [],
   "source": [
    "unique_words = set()\n",
    "for words in description_incidents:\n",
    "    for word in words:\n",
    "        unique_words.add(word)"
   ]
  },
  {
   "cell_type": "code",
   "execution_count": 100,
   "metadata": {},
   "outputs": [
    {
     "data": {
      "text/plain": [
       "{'(recode)',\n",
       " '(vehicles)',\n",
       " '/',\n",
       " '080',\n",
       " 'accident',\n",
       " 'accidents',\n",
       " 'accompaniments',\n",
       " 'actions',\n",
       " 'activities',\n",
       " 'activity',\n",
       " 'acts',\n",
       " 'administrative',\n",
       " 'affection',\n",
       " 'against',\n",
       " 'alarms',\n",
       " 'and',\n",
       " 'animals',\n",
       " 'annoying',\n",
       " 'assistance',\n",
       " 'attacks',\n",
       " 'authority',\n",
       " 'automated',\n",
       " 'barbecues',\n",
       " 'basic',\n",
       " 'beach',\n",
       " 'building',\n",
       " 'buildings',\n",
       " 'by',\n",
       " 'c,',\n",
       " 'claims',\n",
       " 'cme',\n",
       " 'coexistence',\n",
       " 'collaboration',\n",
       " 'col·lboració',\n",
       " 'coming',\n",
       " 'communications',\n",
       " 'company',\n",
       " 'concentrations',\n",
       " 'conductions',\n",
       " 'conflicts',\n",
       " 'controls',\n",
       " 'crimes',\n",
       " 'custody',\n",
       " 'dangerous',\n",
       " 'desimmobilitzacions',\n",
       " 'detainees',\n",
       " 'discomforts',\n",
       " 'disposal',\n",
       " 'domestic',\n",
       " 'drivers',\n",
       " 'educational',\n",
       " 'emergency',\n",
       " 'environment',\n",
       " 'explosions',\n",
       " 'failure',\n",
       " 'failures',\n",
       " 'fauna',\n",
       " 'fights',\n",
       " 'fire',\n",
       " 'fires',\n",
       " 'fishing',\n",
       " 'flora',\n",
       " 'fogueres',\n",
       " 'food',\n",
       " 'foreigners',\n",
       " 'freedom',\n",
       " 'from',\n",
       " 'generators',\n",
       " 'hazard',\n",
       " 'hunting',\n",
       " 'ice',\n",
       " 'identifying',\n",
       " 'illicit',\n",
       " 'illness',\n",
       " 'in',\n",
       " 'incidents',\n",
       " 'infractions',\n",
       " 'infringement',\n",
       " 'infringements',\n",
       " 'injury',\n",
       " 'inmovilizaciones',\n",
       " 'insects',\n",
       " 'inspections',\n",
       " 'interventions',\n",
       " 'judicial',\n",
       " 'local',\n",
       " 'manifestations',\n",
       " 'matters',\n",
       " 'mental',\n",
       " 'minor',\n",
       " 'movement',\n",
       " 'municipal',\n",
       " 'neighborhood',\n",
       " 'non-automated',\n",
       " 'not',\n",
       " 'nutritional',\n",
       " 'occupations',\n",
       " 'of',\n",
       " 'official',\n",
       " 'one',\n",
       " 'order',\n",
       " 'other',\n",
       " 'p,',\n",
       " 'parking',\n",
       " 'pasarela',\n",
       " 'peddling',\n",
       " 'people',\n",
       " 'perillosses',\n",
       " 'police',\n",
       " 'prisoners',\n",
       " 'private',\n",
       " 'property',\n",
       " 'protection',\n",
       " 'psychotropic',\n",
       " 'public',\n",
       " 'rain',\n",
       " 'receipt',\n",
       " 'reform',\n",
       " 'reservations',\n",
       " 'restrictions',\n",
       " 'rights',\n",
       " 'road',\n",
       " 'robo',\n",
       " 's,',\n",
       " 'salvations',\n",
       " 'scope',\n",
       " 'sem',\n",
       " 'service',\n",
       " 'services',\n",
       " 'sexual',\n",
       " 'shows',\n",
       " 'signals',\n",
       " 'snow',\n",
       " 'spaces',\n",
       " 'strong',\n",
       " 'subjects',\n",
       " 'supplies',\n",
       " 'supports',\n",
       " 'surveillance',\n",
       " 'system',\n",
       " 'technical',\n",
       " 'temporary',\n",
       " 'tests',\n",
       " 'the',\n",
       " 'to',\n",
       " 'torrential',\n",
       " 'traffic',\n",
       " 'transfers',\n",
       " 'transport',\n",
       " 'tribes',\n",
       " 'urban',\n",
       " 'v,',\n",
       " 'vados',\n",
       " 'vandalism',\n",
       " 'vehicles',\n",
       " 'violations',\n",
       " 'violence',\n",
       " 'waste',\n",
       " 'winds',\n",
       " 'with',\n",
       " 'without',\n",
       " 'workers',\n",
       " 'works',\n",
       " 'wounded'}"
      ]
     },
     "execution_count": 100,
     "metadata": {},
     "output_type": "execute_result"
    }
   ],
   "source": [
    "unique_words"
   ]
  }
 ],
 "metadata": {
  "kernelspec": {
   "display_name": "Python 3",
   "language": "python",
   "name": "python3"
  },
  "language_info": {
   "codemirror_mode": {
    "name": "ipython",
    "version": 3
   },
   "file_extension": ".py",
   "mimetype": "text/x-python",
   "name": "python",
   "nbconvert_exporter": "python",
   "pygments_lexer": "ipython3",
   "version": "3.6.5"
  }
 },
 "nbformat": 4,
 "nbformat_minor": 2
}
