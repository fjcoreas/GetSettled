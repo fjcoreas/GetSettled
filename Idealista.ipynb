{
 "cells": [
  {
   "cell_type": "code",
   "execution_count": 1,
   "metadata": {},
   "outputs": [],
   "source": [
    "import pandas as pd\n",
    "import requests\n",
    "import base64\n",
    "import json"
   ]
  },
  {
   "cell_type": "code",
   "execution_count": 2,
   "metadata": {},
   "outputs": [],
   "source": [
    "with open('../accounts.json') as json_file:  \n",
    "    data = json.load(json_file)"
   ]
  },
  {
   "cell_type": "code",
   "execution_count": 3,
   "metadata": {},
   "outputs": [],
   "source": [
    "apikey = data['accounts']['Idealista']['apikey']\n",
    "secret = data['accounts']['Idealista']['secret']\n",
    "access_token = ''\n",
    "token_type = ''"
   ]
  },
  {
   "cell_type": "code",
   "execution_count": 4,
   "metadata": {},
   "outputs": [],
   "source": [
    "encoded_string = apikey + \":\" + secret\n",
    "encoded = base64.b64encode(encoded_string.encode())"
   ]
  },
  {
   "cell_type": "code",
   "execution_count": 5,
   "metadata": {},
   "outputs": [],
   "source": [
    "authorization_header = 'Authorization'\n",
    "grant_type = 'grant_type'\n",
    "client_credentials = 'client_credentials'"
   ]
  },
  {
   "cell_type": "code",
   "execution_count": 6,
   "metadata": {},
   "outputs": [],
   "source": [
    "r = requests.post('http://api.idealista.com/oauth/token',\n",
    "             headers={authorization_header: 'Basic ' + encoded.decode()},\n",
    "             params={grant_type:client_credentials})"
   ]
  },
  {
   "cell_type": "code",
   "execution_count": 7,
   "metadata": {},
   "outputs": [],
   "source": [
    "access_token = r.json()['access_token']\n",
    "token_type = r.json()['token_type']\n",
    "search_authorization_value = token_type + ' ' + access_token"
   ]
  },
  {
   "cell_type": "code",
   "execution_count": 49,
   "metadata": {},
   "outputs": [],
   "source": [
    "country = 'es'\n",
    "operation = 'rent'\n",
    "propertyType = 'homes' # 'bedrooms' is other option\n",
    "center = '41.38621,2.15487', \n",
    "locale = 'en'\n",
    "distance = 1300\n",
    "locationId = '0-EU-ES-28' # ver qu es esto\n",
    "maxItems = 50 # 50 as maximun allowed\n",
    "maxPrice = 1000\n",
    "\n"
   ]
  },
  {
   "cell_type": "code",
   "execution_count": 50,
   "metadata": {},
   "outputs": [],
   "source": [
    "params = {\n",
    "    'locale':locale,\n",
    "    'maxItems':maxItems,\n",
    "    'operation':operation,\n",
    "    'propertyType':propertyType,\n",
    "    'apikey':apikey,\n",
    "    'center' :center,\n",
    "    'distance' :distance\n",
    "}"
   ]
  },
  {
   "cell_type": "code",
   "execution_count": 51,
   "metadata": {},
   "outputs": [],
   "source": [
    "home_search = requests.post('https://api.idealista.com/3.5/es/search',\n",
    "                      headers={authorization_header: search_authorization_value},\n",
    "                      params=params)"
   ]
  },
  {
   "cell_type": "code",
   "execution_count": 52,
   "metadata": {},
   "outputs": [],
   "source": [
    "params[propertyType] = 'bedrooms'\n",
    "beddrooms_search = requests.post('https://api.idealista.com/3.5/es/search',\n",
    "                      headers={authorization_header: search_authorization_value},\n",
    "                      params=params)"
   ]
  },
  {
   "cell_type": "code",
   "execution_count": 53,
   "metadata": {},
   "outputs": [],
   "source": [
    "price = 'price'\n",
    "propertyType = 'propertyType'\n",
    "operation = 'operation'\n",
    "rooms = 'rooms'\n",
    "neighborhood = 'neighborhood'\n",
    "latitude = 'latitude'\n",
    "longitude = 'longitude'\n",
    "distance = 'distance'\n",
    "priceByArea = 'priceByArea'"
   ]
  },
  {
   "cell_type": "code",
   "execution_count": null,
   "metadata": {},
   "outputs": [],
   "source": [
    "home_search.json()"
   ]
  },
  {
   "cell_type": "code",
   "execution_count": 55,
   "metadata": {},
   "outputs": [],
   "source": [
    "homes = home_search.json().get('elementList')\n",
    "bedrooms = beddrooms_search.json().get('elementList')"
   ]
  },
  {
   "cell_type": "code",
   "execution_count": 56,
   "metadata": {},
   "outputs": [],
   "source": [
    "def add_item_to_dict(home, neighborhoods):\n",
    "    item = { price:home[price],\n",
    "             propertyType:home[propertyType],\n",
    "             price:home[price],\n",
    "             operation:home[operation],\n",
    "             rooms:home[rooms],\n",
    "             latitude:home[latitude],\n",
    "             longitude:home[longitude],\n",
    "             distance:home[distance],\n",
    "             priceByArea:home[priceByArea]\n",
    "            }\n",
    "\n",
    "    if home[neighborhood] not in neighborhoods:\n",
    "        neighborhoods[home[neighborhood]] = []\n",
    "        \n",
    "    neighborhoods[home[neighborhood]].append(item)\n",
    "    "
   ]
  },
  {
   "cell_type": "code",
   "execution_count": 59,
   "metadata": {},
   "outputs": [],
   "source": [
    "neighborhoods = {}\n",
    "for home in homes:\n",
    "    add_item_to_dict(home, neighborhoods)\n",
    "for bedroom in bedrooms:\n",
    "    add_item_to_dict(bedroom, neighborhoods)\n",
    "        \n",
    "    "
   ]
  },
  {
   "cell_type": "code",
   "execution_count": 64,
   "metadata": {},
   "outputs": [],
   "source": [
    "def price_of_neighborhoods():\n",
    "    neighs_price = {}\n",
    "    for key in neighborhoods.keys():\n",
    "        neighs_price[key] = price_per_neighborhood_homes(key)\n",
    "    return neighs_price\n",
    "            "
   ]
  },
  {
   "cell_type": "code",
   "execution_count": 65,
   "metadata": {},
   "outputs": [],
   "source": [
    "def price_per_neighborhood(key):\n",
    "    price_per_neighborhood = 0\n",
    "    total_number_of_rooms = 0\n",
    "    for appartment in neighborhoods[key]:\n",
    "        if appartment[propertyType] == 'room':\n",
    "            price_per_neighborhood += appartment[price]\n",
    "            total_number_of_rooms += 1\n",
    "        else:\n",
    "            number_of_rooms = appartment[rooms] if appartment[rooms] > 0 else 1\n",
    "            price_per_neighborhood += appartment[price] / number_of_rooms\n",
    "            total_number_of_rooms += appartment[rooms]\n",
    "    return (price_per_neighborhood / len(neighborhoods[key]), total_number_of_rooms)"
   ]
  },
  {
   "cell_type": "code",
   "execution_count": 66,
   "metadata": {},
   "outputs": [
    {
     "data": {
      "text/plain": [
       "{'El Raval': (941.25, 20),\n",
       " 'Vila de Gràcia': (925.0, 10),\n",
       " 'Sant Antoni': (516.5277777777778, 32),\n",
       " \"L'Antiga Esquerra de l'Eixample\": (607.6388888888888, 66),\n",
       " \"La Nova Esquerra de l'Eixample\": (458.452380952381, 82),\n",
       " 'El Gòtic': (950.0, 2),\n",
       " \"La Dreta de l'Eixample\": (1272.5, 24),\n",
       " 'Sant Gervasi - Galvany': (1383.3333333333333, 10)}"
      ]
     },
     "execution_count": 66,
     "metadata": {},
     "output_type": "execute_result"
    }
   ],
   "source": [
    "price_of_neighborhoods()"
   ]
  },
  {
   "cell_type": "code",
   "execution_count": 68,
   "metadata": {},
   "outputs": [
    {
     "data": {
      "text/plain": [
       "[{'price': 950.0,\n",
       "  'propertyType': 'flat',\n",
       "  'operation': 'rent',\n",
       "  'rooms': 1,\n",
       "  'latitude': 41.3855032,\n",
       "  'longitude': 2.1702249,\n",
       "  'distance': '1283',\n",
       "  'priceByArea': 21.0},\n",
       " {'price': 950.0,\n",
       "  'propertyType': 'flat',\n",
       "  'operation': 'rent',\n",
       "  'rooms': 1,\n",
       "  'latitude': 41.3855032,\n",
       "  'longitude': 2.1702249,\n",
       "  'distance': '1283',\n",
       "  'priceByArea': 21.0}]"
      ]
     },
     "execution_count": 68,
     "metadata": {},
     "output_type": "execute_result"
    }
   ],
   "source": [
    "neighborhoods['El Gòtic']"
   ]
  },
  {
   "cell_type": "code",
   "execution_count": 1,
   "metadata": {},
   "outputs": [],
   "source": [
    "from Idealista import Idealista"
   ]
  },
  {
   "cell_type": "code",
   "execution_count": 2,
   "metadata": {},
   "outputs": [],
   "source": [
    "ide = Idealista()"
   ]
  },
  {
   "cell_type": "code",
   "execution_count": 3,
   "metadata": {},
   "outputs": [],
   "source": [
    "ide.create()"
   ]
  },
  {
   "cell_type": "code",
   "execution_count": 4,
   "metadata": {},
   "outputs": [
    {
     "name": "stdout",
     "output_type": "stream",
     "text": [
      "41.38621,2.15487\n"
     ]
    },
    {
     "ename": "TypeError",
     "evalue": "'NoneType' object is not iterable",
     "output_type": "error",
     "traceback": [
      "\u001b[0;31m---------------------------------------------------------------------------\u001b[0m",
      "\u001b[0;31mTypeError\u001b[0m                                 Traceback (most recent call last)",
      "\u001b[0;32m<ipython-input-4-29006c604282>\u001b[0m in \u001b[0;36m<module>\u001b[0;34m()\u001b[0m\n\u001b[0;32m----> 1\u001b[0;31m \u001b[0mide\u001b[0m\u001b[0;34m.\u001b[0m\u001b[0mget_neighborhoods\u001b[0m\u001b[0;34m(\u001b[0m\u001b[0mcenter\u001b[0m\u001b[0;34m=\u001b[0m\u001b[0;34m'41.38621,2.15487'\u001b[0m\u001b[0;34m,\u001b[0m\u001b[0mdistance\u001b[0m\u001b[0;34m=\u001b[0m\u001b[0;36m1500\u001b[0m\u001b[0;34m)\u001b[0m\u001b[0;34m\u001b[0m\u001b[0m\n\u001b[0m",
      "\u001b[0;32m~/Documents/BTS/GetSettled/GetSettled/Idealista.py\u001b[0m in \u001b[0;36mget_neighborhoods\u001b[0;34m(self, center, distance, locale, maxItems, propertyType)\u001b[0m\n\u001b[1;32m     74\u001b[0m         \u001b[0mhomes\u001b[0m \u001b[0;34m=\u001b[0m \u001b[0mself\u001b[0m\u001b[0;34m.\u001b[0m\u001b[0mrequest_idealista\u001b[0m\u001b[0;34m(\u001b[0m\u001b[0mlocale\u001b[0m\u001b[0;34m,\u001b[0m \u001b[0mmaxItems\u001b[0m\u001b[0;34m,\u001b[0m \u001b[0mcenter\u001b[0m\u001b[0;34m,\u001b[0m \u001b[0mdistance\u001b[0m\u001b[0;34m,\u001b[0m \u001b[0mpropertyType\u001b[0m\u001b[0;34m)\u001b[0m\u001b[0;34m\u001b[0m\u001b[0m\n\u001b[1;32m     75\u001b[0m         \u001b[0mneighborhoods\u001b[0m \u001b[0;34m=\u001b[0m \u001b[0;34m{\u001b[0m\u001b[0;34m}\u001b[0m\u001b[0;34m\u001b[0m\u001b[0m\n\u001b[0;32m---> 76\u001b[0;31m         \u001b[0;32mfor\u001b[0m \u001b[0mhome\u001b[0m \u001b[0;32min\u001b[0m \u001b[0mhomes\u001b[0m\u001b[0;34m:\u001b[0m\u001b[0;34m\u001b[0m\u001b[0m\n\u001b[0m\u001b[1;32m     77\u001b[0m             item = { price:home[price],\n\u001b[1;32m     78\u001b[0m                     \u001b[0mpropertyType\u001b[0m\u001b[0;34m:\u001b[0m\u001b[0mhome\u001b[0m\u001b[0;34m[\u001b[0m\u001b[0mpropertyType\u001b[0m\u001b[0;34m]\u001b[0m\u001b[0;34m,\u001b[0m\u001b[0;34m\u001b[0m\u001b[0m\n",
      "\u001b[0;31mTypeError\u001b[0m: 'NoneType' object is not iterable"
     ]
    }
   ],
   "source": [
    "ide.get_neighborhoods(center='41.38621,2.15487',distance=1500)"
   ]
  },
  {
   "cell_type": "code",
   "execution_count": null,
   "metadata": {},
   "outputs": [],
   "source": []
  }
 ],
 "metadata": {
  "kernelspec": {
   "display_name": "Python 3",
   "language": "python",
   "name": "python3"
  },
  "language_info": {
   "codemirror_mode": {
    "name": "ipython",
    "version": 3
   },
   "file_extension": ".py",
   "mimetype": "text/x-python",
   "name": "python",
   "nbconvert_exporter": "python",
   "pygments_lexer": "ipython3",
   "version": "3.6.5"
  }
 },
 "nbformat": 4,
 "nbformat_minor": 2
}
